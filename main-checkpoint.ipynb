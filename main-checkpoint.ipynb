{
 "cells": [
  {
   "cell_type": "markdown",
   "metadata": {},
   "source": [
    "# TUPLAS , LISTAS y DICCIONARIOS\n",
    "-----"
   ]
  },
  {
   "cell_type": "markdown",
   "metadata": {},
   "source": [
    "### TUPLAS"
   ]
  },
  {
   "cell_type": "markdown",
   "metadata": {},
   "source": [
    "Crea una tupla de un ***solo elemento*** (comma is the key...)"
   ]
  },
  {
   "cell_type": "code",
   "execution_count": 7,
   "metadata": {},
   "outputs": [],
   "source": [
    "mi_tupla =('fredy',)"
   ]
  },
  {
   "cell_type": "code",
   "execution_count": 8,
   "metadata": {},
   "outputs": [
    {
     "name": "stdout",
     "output_type": "stream",
     "text": [
      "('fredy',)\n"
     ]
    }
   ],
   "source": [
    "print(mi_tupla)\n"
   ]
  },
  {
   "cell_type": "markdown",
   "metadata": {},
   "source": [
    "Comprueba el tipo de la variable que acabas de crear, debe ser ***tuple***"
   ]
  },
  {
   "cell_type": "code",
   "execution_count": 9,
   "metadata": {},
   "outputs": [
    {
     "data": {
      "text/plain": [
       "tuple"
      ]
     },
     "execution_count": 9,
     "metadata": {},
     "output_type": "execute_result"
    }
   ],
   "source": [
    "type(mi_tupla)"
   ]
  },
  {
   "cell_type": "markdown",
   "metadata": {},
   "source": [
    "Añade un elemento a esta tupla de un solo elemento"
   ]
  },
  {
   "cell_type": "code",
   "execution_count": null,
   "metadata": {},
   "outputs": [],
   "source": [
    "Creo que las tuplas son inmutables"
   ]
  },
  {
   "cell_type": "markdown",
   "metadata": {},
   "source": [
    "Reasigna \"l\",\"a\",\"s\",\"t\",\"u\",\"p\",\"l\",\"a\",\"s\",\"m\",\"o\",\"l\",\"a\",\"n\" a la tupla que has declarado\n"
   ]
  },
  {
   "cell_type": "code",
   "execution_count": 10,
   "metadata": {},
   "outputs": [
    {
     "data": {
      "text/plain": [
       "tuple"
      ]
     },
     "execution_count": 10,
     "metadata": {},
     "output_type": "execute_result"
    }
   ],
   "source": [
    "mi_tupla=(\"lastuplasmolan\",)\n",
    "type(mi_tupla)"
   ]
  },
  {
   "cell_type": "markdown",
   "metadata": {},
   "source": [
    "Parte esa tuplas en 3 nuevas (1 por cada palabra)"
   ]
  },
  {
   "cell_type": "code",
   "execution_count": 11,
   "metadata": {},
   "outputs": [
    {
     "name": "stdout",
     "output_type": "stream",
     "text": [
      "('las',) ('tuplas',) ('molan',)\n"
     ]
    },
    {
     "data": {
      "text/plain": [
       "tuple"
      ]
     },
     "execution_count": 11,
     "metadata": {},
     "output_type": "execute_result"
    }
   ],
   "source": [
    "mi_tupla=('lastuplasmolan')\n",
    "tupla1=(mi_tupla[0:3],)\n",
    "tupla2=(mi_tupla[3:9],)\n",
    "tupla3=(mi_tupla[9:14],)\n",
    "print(tupla1, tupla2, tupla3)\n",
    "type(tupla1)\n",
    "mi_tupla=tuple('lastuplasmolan')\n",
    "type(mi_tupla)"
   ]
  },
  {
   "cell_type": "markdown",
   "metadata": {},
   "source": [
    "Crea un código que compruebe si el número de elementos en las 3 tuplas juntas es igual a la suma de los elementos dentro de cada tupla"
   ]
  },
  {
   "cell_type": "code",
   "execution_count": 12,
   "metadata": {},
   "outputs": [
    {
     "name": "stdout",
     "output_type": "stream",
     "text": [
      "14\n",
      "3\n"
     ]
    }
   ],
   "source": [
    "conteomi_tupla=0\n",
    "for e in mi_tupla:\n",
    "    conteomi_tupla+=1\n",
    "print( conteomi_tupla)\n",
    "n1=0\n",
    "for e in tupla1,tupla2,tupla3:\n",
    "    n1+=1\n",
    "print(n1)\n"
   ]
  },
  {
   "cell_type": "markdown",
   "metadata": {},
   "source": [
    "Genera una 2 listas (pares e impares), debes recorrer la tupla y añadir los elementos a cada lista en funciónde si su índice es par o impar"
   ]
  },
  {
   "cell_type": "code",
   "execution_count": 14,
   "metadata": {},
   "outputs": [
    {
     "name": "stdout",
     "output_type": "stream",
     "text": [
      "['l', 's', 'u', 'l', 's', 'o', 'a']\n",
      "['a', 't', 'p', 'a', 'm', 'l', 'n']\n"
     ]
    }
   ],
   "source": [
    "enumerate (mi_tupla)\n",
    "lista_par=[]\n",
    "lista_impar=[]\n",
    "for index,element in enumerate (mi_tupla):\n",
    "    if (index %2) == 0:\n",
    "        lista_par.append(element)\n",
    "    else:\n",
    "        lista_impar.append(element)\n",
    "print(lista_par)\n",
    "print(lista_impar)\n"
   ]
  },
  {
   "cell_type": "markdown",
   "metadata": {},
   "source": [
    "Usa un bucle para comprobar si los elmentos de la lista =[\"n\",\"u\",\"s\",\"l\",\"c\",\"b\",\"x\",\"t\",\"n\"], están presentes en la tupla completa"
   ]
  },
  {
   "cell_type": "code",
   "execution_count": 15,
   "metadata": {},
   "outputs": [
    {
     "name": "stdout",
     "output_type": "stream",
     "text": [
      "estos elementos ['n', 's', 'l', 't', 'u'] , estan en la tupla\n"
     ]
    }
   ],
   "source": [
    "lista =[\"n\",\"u\",\"s\",\"l\",\"c\",\"b\",\"x\",\"t\",\"n\"]\n",
    "set(lista)\n",
    "elementosentupla=[]\n",
    "for e in set(lista):\n",
    "    if e in mi_tupla:\n",
    "        elementosentupla.append(e)\n",
    "print(f'estos elementos {elementosentupla} , estan en la tupla') \n",
    "    "
   ]
  },
  {
   "cell_type": "markdown",
   "metadata": {},
   "source": [
    "Saca por pantalla el número de veces que aparece cada elemento de la lista, si no existe el elemento debe mostrar el mensaje \"La letra***nombre_de_la_letra*** no está en la tupla\""
   ]
  },
  {
   "cell_type": "code",
   "execution_count": 16,
   "metadata": {},
   "outputs": [
    {
     "name": "stdout",
     "output_type": "stream",
     "text": [
      "['b'] no estan en la lista\n",
      "1 n\n",
      "2 s\n",
      "3 l\n",
      "1 t\n",
      "['b', 'x'] no estan en la lista\n",
      "['b', 'x', 'c'] no estan en la lista\n",
      "1 u\n"
     ]
    }
   ],
   "source": [
    "nueva_tup= list(mi_tupla)\n",
    "lista =[\"n\",\"u\",\"s\",\"l\",\"c\",\"b\",\"x\",\"t\",\"n\"]\n",
    "set(lista)\n",
    "letrasno=[]\n",
    "\n",
    "for e in set(lista):\n",
    "    nueva_tup.count(e)\n",
    "    if e not in nueva_tup:\n",
    "            letrasno.append(e)\n",
    "            print(f'{letrasno} no estan en la lista')\n",
    "    else:\n",
    "            print(nueva_tup.count(e),e)\n",
    "   \n",
    "        \n",
    "      \n",
    "    \n"
   ]
  },
  {
   "cell_type": "markdown",
   "metadata": {},
   "source": [
    "## SETS"
   ]
  },
  {
   "cell_type": "markdown",
   "metadata": {},
   "source": [
    "Os dejo este pequeño resumen sobre los sets para que lo tengáis a mano durante los ejercicios. ![enlace] (https://www.w3schools.com/python/python_sets.asp)"
   ]
  },
  {
   "cell_type": "markdown",
   "metadata": {},
   "source": [
    "Para esta parte usaremos la libreria *random* que ya hemos visto en clase."
   ]
  },
  {
   "cell_type": "markdown",
   "metadata": {},
   "source": [
    "Crea una lista llamada ***muestra***:\n",
    "- Debe estar compuesta por 80 elementos\n",
    "- Los elementos deben ser enteros entre 0 y 200"
   ]
  },
  {
   "cell_type": "markdown",
   "metadata": {},
   "source": [
    "Pista: random.sample --> [enlace](https://docs.python.org/es/3/library/random.html#random.sample)"
   ]
  },
  {
   "cell_type": "code",
   "execution_count": 17,
   "metadata": {},
   "outputs": [
    {
     "name": "stdout",
     "output_type": "stream",
     "text": [
      "[112, 131, 148, 189, 192, 2, 31, 152, 167, 82, 108, 84, 92, 95, 35, 44, 45, 5, 71, 170, 77, 58, 40, 9, 167, 38, 37, 103, 177, 200, 88, 182, 92, 32, 54, 87, 127, 48, 39, 73, 27, 101, 37, 185, 12, 32, 199, 189, 133, 26, 138, 114, 109, 119, 138, 65, 24, 84, 102, 126, 174, 197, 59, 173, 50, 92, 68, 16, 132, 163, 49, 32, 166, 78, 34, 170, 64, 70, 83, 28]\n"
     ]
    }
   ],
   "source": [
    "import random\n",
    "muestra = [random.randint(0, 200) for _ in range(80)]\n",
    "print(muestra)"
   ]
  },
  {
   "cell_type": "markdown",
   "metadata": {},
   "source": [
    "Convierte tu lista en un set, llámalo set1 y comprueba si tiene el mismo numero de elementos que la lista original"
   ]
  },
  {
   "cell_type": "code",
   "execution_count": 18,
   "metadata": {},
   "outputs": [
    {
     "name": "stdout",
     "output_type": "stream",
     "text": [
      "Los valores unicos son: 70 , y los totales 80\n"
     ]
    }
   ],
   "source": [
    "set1=set(muestra)\n",
    "valores_unicos=len(set1)\n",
    "valores_totales=len(muestra)\n",
    "if valores_unicos!=valores_totales:\n",
    "        print(f'Los valores unicos son: {valores_unicos} , y los totales {valores_totales}')\n"
   ]
  },
  {
   "cell_type": "markdown",
   "metadata": {},
   "source": [
    "Crea una segunda lista de 100 elementos , ahora usa un bucle for junto con la librería random."
   ]
  },
  {
   "cell_type": "code",
   "execution_count": 19,
   "metadata": {},
   "outputs": [
    {
     "name": "stdout",
     "output_type": "stream",
     "text": [
      "[141, 110, 28, 85, 45, 171, 40, 32, 87, 184, 142, 137, 61, 43, 132, 193, 47, 189, 140, 91, 24, 136, 38, 20, 94, 38, 135, 124, 138, 112, 23, 55, 87, 16, 9, 97, 185, 46, 20, 138, 51, 82, 84, 129, 180, 18, 174, 11, 123, 116, 131, 149, 64, 122, 16, 197, 67, 144, 164, 24, 97, 36, 31, 64, 142, 66, 63, 51, 83, 71, 36, 169, 139, 18, 9, 20, 197, 116, 193, 38, 42, 16, 11, 134, 96, 118, 19, 105, 60, 71, 123, 161, 89, 12, 89, 69, 188, 24, 42, 26]\n"
     ]
    }
   ],
   "source": [
    "import random\n",
    "muestra2 = [random.randint(0, 200) for _ in range(100)]\n",
    "print(muestra2)"
   ]
  },
  {
   "cell_type": "markdown",
   "metadata": {},
   "source": [
    "Convierte la segunda lista en un set y llámalo set2, compruba su loongitud"
   ]
  },
  {
   "cell_type": "code",
   "execution_count": 24,
   "metadata": {},
   "outputs": [
    {
     "data": {
      "text/plain": [
       "75"
      ]
     },
     "execution_count": 24,
     "metadata": {},
     "output_type": "execute_result"
    }
   ],
   "source": [
    "set2 = set(muestra2)\n",
    "len(set2)"
   ]
  },
  {
   "cell_type": "markdown",
   "metadata": {},
   "source": [
    "Crea un nuevo set3 compuesto por los elementos que son comunes en set1 y set2"
   ]
  },
  {
   "cell_type": "code",
   "execution_count": 25,
   "metadata": {},
   "outputs": [
    {
     "name": "stdout",
     "output_type": "stream",
     "text": [
      "{131, 132, 9, 138, 12, 16, 24, 26, 28, 31, 32, 38, 40, 45, 174, 185, 189, 64, 197, 71, 82, 83, 84, 87, 112}\n"
     ]
    }
   ],
   "source": [
    "set3 = set1 & set2 \n",
    "print (set3)"
   ]
  },
  {
   "cell_type": "markdown",
   "metadata": {},
   "source": [
    "Crea un set4 compuesto por lo elementos que están en set1 pero no en set2"
   ]
  },
  {
   "cell_type": "code",
   "execution_count": 26,
   "metadata": {},
   "outputs": [
    {
     "name": "stdout",
     "output_type": "stream",
     "text": [
      "{2, 5, 133, 148, 152, 27, 34, 35, 163, 37, 166, 167, 39, 170, 44, 173, 48, 177, 50, 49, 182, 54, 58, 59, 192, 65, 68, 70, 199, 200, 73, 77, 78, 88, 92, 95, 101, 102, 103, 108, 109, 114, 119, 126, 127}\n"
     ]
    }
   ],
   "source": [
    "set4 = set1 - set2\n",
    "print (set4)"
   ]
  },
  {
   "cell_type": "markdown",
   "metadata": {},
   "source": [
    "Crea un set vacío llamado set5, añade los elementos de set1 y set3 a este nuevo set usando los métodos de los sets"
   ]
  },
  {
   "cell_type": "code",
   "execution_count": 29,
   "metadata": {},
   "outputs": [
    {
     "data": {
      "text/plain": [
       "set"
      ]
     },
     "execution_count": 29,
     "metadata": {},
     "output_type": "execute_result"
    }
   ],
   "source": [
    "set_empt = set()\n",
    "type(set_empt)"
   ]
  },
  {
   "cell_type": "code",
   "execution_count": 30,
   "metadata": {
    "scrolled": true
   },
   "outputs": [
    {
     "name": "stdout",
     "output_type": "stream",
     "text": [
      "{2, 5, 9, 12, 16, 24, 26, 27, 28, 31, 32, 34, 35, 37, 38, 39, 40, 44, 45, 48, 49, 50, 54, 58, 59, 64, 65, 68, 70, 71, 73, 77, 78, 82, 83, 84, 87, 88, 92, 95, 101, 102, 103, 108, 109, 112, 114, 119, 126, 127, 131, 132, 133, 138, 148, 152, 163, 166, 167, 170, 173, 174, 177, 182, 185, 189, 192, 197, 199, 200}\n"
     ]
    }
   ],
   "source": [
    "set_empt.update(set1,set3)\n",
    "set_empt.update(set3)\n",
    "print(set_empt)\n"
   ]
  },
  {
   "cell_type": "code",
   "execution_count": 31,
   "metadata": {},
   "outputs": [
    {
     "name": "stdout",
     "output_type": "stream",
     "text": [
      "{2, 5, 9, 12, 16, 24, 26, 27, 28, 31, 32, 34, 35, 37, 38, 39, 40, 44, 45, 48, 49, 50, 54, 58, 59, 64, 65, 68, 70, 71, 73, 77, 78, 82, 83, 84, 87, 88, 92, 95, 101, 102, 103, 108, 109, 112, 114, 119, 126, 127, 131, 132, 133, 138, 148, 152, 163, 166, 167, 170, 173, 174, 177, 182, 185, 189, 192, 197, 199, 200}\n"
     ]
    }
   ],
   "source": [
    "set_test= set()\n",
    "set_test.update(set1)\n",
    "set_test.update(set3)\n",
    "print(set_test)"
   ]
  },
  {
   "cell_type": "markdown",
   "metadata": {},
   "source": [
    "Compruba si el set1 contiene al set2"
   ]
  },
  {
   "cell_type": "code",
   "execution_count": 32,
   "metadata": {},
   "outputs": [
    {
     "data": {
      "text/plain": [
       "False"
      ]
     },
     "execution_count": 32,
     "metadata": {},
     "output_type": "execute_result"
    }
   ],
   "source": [
    "in_or_notin = set2 <= set1\n",
    "in_or_notin"
   ]
  },
  {
   "cell_type": "markdown",
   "metadata": {},
   "source": [
    "Tomando como referencia esta lista = [1, 9, 11, 19, 21, 29, 31, 39, 41, 49, 51, 59, 61, 69, 71, 79, 81, 89, 91, 99], elimina los elementos del set5 que están en la lista."
   ]
  },
  {
   "cell_type": "code",
   "execution_count": 34,
   "metadata": {},
   "outputs": [
    {
     "data": {
      "text/plain": [
       "[1, 9, 11, 19, 21, 29, 31, 39, 41, 49, 51, 59, 61, 69, 71, 79, 81, 89, 91, 99]"
      ]
     },
     "execution_count": 34,
     "metadata": {},
     "output_type": "execute_result"
    }
   ],
   "source": [
    "lista_tal =  [1, 9, 11, 19, 21, 29, 31, 39, 41, 49, 51, 59, 61, 69, 71, 79, 81, 89, 91, 99]\n",
    "lista_tal"
   ]
  },
  {
   "cell_type": "code",
   "execution_count": 36,
   "metadata": {},
   "outputs": [
    {
     "name": "stdout",
     "output_type": "stream",
     "text": [
      "{2, 131, 132, 5, 133, 138, 12, 16, 148, 24, 152, 26, 27, 28, 32, 34, 35, 163, 37, 38, 166, 40, 167, 170, 44, 45, 173, 174, 48, 177, 50, 54, 182, 185, 58, 189, 64, 65, 192, 68, 197, 70, 199, 200, 73, 77, 78, 82, 83, 84, 87, 88, 92, 95, 101, 102, 103, 108, 109, 112, 114, 119, 126, 127}\n"
     ]
    }
   ],
   "source": [
    "set_listatal = set(lista_tal)\n",
    "set_empt= set_empt - set_listatal\n",
    "print(set_empt)"
   ]
  },
  {
   "cell_type": "markdown",
   "metadata": {},
   "source": [
    "Elimina los elementos del set3, que están en la lista del ejemplo anterior, pero que no están en el set1"
   ]
  },
  {
   "cell_type": "code",
   "execution_count": 37,
   "metadata": {},
   "outputs": [
    {
     "name": "stdout",
     "output_type": "stream",
     "text": [
      "{64, 131, 132, 197, 71, 9, 138, 12, 16, 82, 83, 84, 87, 24, 26, 28, 31, 32, 38, 40, 45, 174, 112, 185, 189}\n"
     ]
    }
   ],
   "source": [
    "set3 = set3 - (set_empt - set1)\n",
    "print(set3)\n",
    "    "
   ]
  },
  {
   "cell_type": "markdown",
   "metadata": {},
   "source": [
    "## DICCIONARIOS"
   ]
  },
  {
   "cell_type": "markdown",
   "metadata": {},
   "source": [
    "Para el ejercicio lo primero vamos a cargar en una variable llamada **texto** el contenido del archivo \"texto.txt\" que os he dejado en el repositorio."
   ]
  },
  {
   "cell_type": "code",
   "execution_count": 38,
   "metadata": {},
   "outputs": [],
   "source": [
    "contenido = open(\"texto.txt\", \"r\") #abre el archivo en modo lectura\n",
    "texto = contenido.read() #lee el archivo y lo guarda en la variable texto"
   ]
  },
  {
   "cell_type": "code",
   "execution_count": 39,
   "metadata": {},
   "outputs": [
    {
     "name": "stdout",
     "output_type": "stream",
     "text": [
      "Ya suenan los tambores\n",
      "Siente la vibración\n",
      "Son niños de las flores\n",
      "Es la revolución\n",
      "Verano del amor\n",
      "Y un cóctel molotov\n",
      "Verano del amor\n",
      "Y un cóctel molotov\n",
      "Ya suenan los tambores\n",
      "Siente la vibración\n",
      "Son niños de las flores\n",
      "Es la revolución\n",
      "Verano del amor\n",
      "Y un cóctel molotov\n",
      "Verano del amor\n",
      "Y un cóctel molotov\n",
      "Mi sonrisa ondea en son de paz\n",
      "Aunque propios y extraños me miren mal\n",
      "Genera tanta luz\n",
      "Que suele deslumbrar\n",
      "Aunque haya subido el nivel del mar\n",
      "Y está retrocediendo otro glaciar\n",
      "A ellos les va bien\n",
      "Y siguen dando gas\n",
      "Disfrutan del otoño tropical\n",
      "Están en la playita y les parece genial\n",
      "Este calor no es normal\n",
      "Están morenos del calentamiento global\n",
      "Ya suenan los tambores\n",
      "Siente la vibración\n",
      "Son niños de las flores\n",
      "Es la revolución\n",
      "Verano del amor\n",
      "Y un cóctel molotov\n",
      "Verano del amor\n",
      "Y un cóctel molotov\n",
      "Yo no soy violento, ya lo sabéis\n",
      "Pero estoy tan cansado de que no escuchéis\n",
      "Que empiezo a dudar\n",
      "No sé muy bien qué hacer\n",
      "Se abren paragüas en Hong Kong\n",
      "En Chile, en Bolivia, en Ecuador\n",
      "Con fuegos de pasión y de contenedor\n",
      "Y aportarán paz y amor\n",
      "Aquí lo que hace falta es un poco de acción\n",
      "Hay que elegir con convicción\n",
      "El lado de la historia en que estaremos tú y yo\n",
      "Ya suenan los tambores\n",
      "Siente la vibración\n",
      "Son niños de las flores\n",
      "Es la revolución\n",
      "Verano del amor\n",
      "Y un cóctel molotov\n",
      "Verano del amor\n",
      "Y un cóctel molotov\n",
      "Basta ya\n",
      "Mis palabras se han vuelto adoquines\n",
      "¿Dónde estás?\n",
      "Han llegado antidisturbios\n",
      "Con gases, con escudos\n",
      "Y como vas tapada no te puedo encontrar\n",
      "Ya suenan los tambores\n",
      "Siente la vibración\n",
      "Son niños de las flores\n",
      "Es la revolución\n",
      "Verano del amor\n",
      "Y un cóctel molotov\n",
      "Verano del amor\n",
      "Y un cóctel molotov\n",
      "Ya suenan los tambores\n",
      "Siente la vibración\n",
      "Son niños de las flores\n",
      "Es la revolución\n",
      "Verano del amor\n",
      "Y un cóctel molotov\n",
      "Verano del amor\n",
      "Y un cóctel molotov\n",
      "Ya suenan los tambores\n",
      "Siente la vibración\n",
      "Son niños de las flores\n",
      "Es la revolución\n",
      "Verano del amor\n",
      "Y un cóctel molotov\n",
      "Verano del amor\n",
      "Y un cóctel molotov\n",
      "Ya suenan los tambores\n",
      "Siente la vibración\n",
      "Son niños de las flores\n",
      "Es la revolución\n",
      "Verano del amor\n",
      "Y un cóctel molotov\n",
      "Verano del amor\n",
      "Y un cóctel molotov\n"
     ]
    }
   ],
   "source": [
    "print(texto)"
   ]
  },
  {
   "cell_type": "markdown",
   "metadata": {},
   "source": [
    "Nuestra variable tienen el contenido del archivo y si hacemos un print, parece que está todo ok....pero no."
   ]
  },
  {
   "cell_type": "code",
   "execution_count": 40,
   "metadata": {},
   "outputs": [
    {
     "data": {
      "text/plain": [
       "str"
      ]
     },
     "execution_count": 40,
     "metadata": {},
     "output_type": "execute_result"
    }
   ],
   "source": [
    "type(texto)"
   ]
  },
  {
   "cell_type": "markdown",
   "metadata": {},
   "source": [
    "Es una string.\n",
    "Veamos como es realmente:"
   ]
  },
  {
   "cell_type": "code",
   "execution_count": 41,
   "metadata": {},
   "outputs": [
    {
     "data": {
      "text/plain": [
       "'Ya suenan los tambores\\nSiente la vibración\\nSon niños de las flores\\nEs la revolución\\nVerano del amor\\n'"
      ]
     },
     "execution_count": 41,
     "metadata": {},
     "output_type": "execute_result"
    }
   ],
   "source": [
    "texto[:100] #imprime los primeros 100 caracteres del texto, tenemos mucho salto de linea verdad?"
   ]
  },
  {
   "cell_type": "markdown",
   "metadata": {},
   "source": [
    "Limpia la cadena y elimina los saltos de línea"
   ]
  },
  {
   "cell_type": "code",
   "execution_count": 42,
   "metadata": {},
   "outputs": [
    {
     "name": "stdout",
     "output_type": "stream",
     "text": [
      "Ya suenan los tambores Siente la vibración Son niños de las flores Es la revolución Verano del amor Y un cóctel molotov Verano del amor Y un cóctel molotov Ya suenan los tambores Siente la vibración Son niños de las flores Es la revolución Verano del amor Y un cóctel molotov Verano del amor Y un cóctel molotov Mi sonrisa ondea en son de paz Aunque propios y extraños me miren mal Genera tanta luz Que suele deslumbrar Aunque haya subido el nivel del mar Y está retrocediendo otro glaciar A ellos les va bien Y siguen dando gas Disfrutan del otoño tropical Están en la playita y les parece genial Este calor no es normal Están morenos del calentamiento global Ya suenan los tambores Siente la vibración Son niños de las flores Es la revolución Verano del amor Y un cóctel molotov Verano del amor Y un cóctel molotov Yo no soy violento, ya lo sabéis Pero estoy tan cansado de que no escuchéis Que empiezo a dudar No sé muy bien qué hacer Se abren paragüas en Hong Kong En Chile, en Bolivia, en Ecuador Con fuegos de pasión y de contenedor Y aportarán paz y amor Aquí lo que hace falta es un poco de acción Hay que elegir con convicción El lado de la historia en que estaremos tú y yo Ya suenan los tambores Siente la vibración Son niños de las flores Es la revolución Verano del amor Y un cóctel molotov Verano del amor Y un cóctel molotov Basta ya Mis palabras se han vuelto adoquines ¿Dónde estás? Han llegado antidisturbios Con gases, con escudos Y como vas tapada no te puedo encontrar Ya suenan los tambores Siente la vibración Son niños de las flores Es la revolución Verano del amor Y un cóctel molotov Verano del amor Y un cóctel molotov Ya suenan los tambores Siente la vibración Son niños de las flores Es la revolución Verano del amor Y un cóctel molotov Verano del amor Y un cóctel molotov Ya suenan los tambores Siente la vibración Son niños de las flores Es la revolución Verano del amor Y un cóctel molotov Verano del amor Y un cóctel molotov Ya suenan los tambores Siente la vibración Son niños de las flores Es la revolución Verano del amor Y un cóctel molotov Verano del amor Y un cóctel molotov\n"
     ]
    }
   ],
   "source": [
    "new_text = texto.replace(\"\\n\", \" \")\n",
    "print(new_text)"
   ]
  },
  {
   "cell_type": "markdown",
   "metadata": {},
   "source": [
    "Vamos a ver cuales son las palabras más repetidas a lo largo del texto, para ello vamos a crear un diccionario que contenga como clave cada una de las palabras del texto y como valor el número de veces que aparece esa palabra en el texto."
   ]
  },
  {
   "cell_type": "code",
   "execution_count": 47,
   "metadata": {},
   "outputs": [
    {
     "name": "stdout",
     "output_type": "stream",
     "text": [
      "{'ya': 10, 'suenan': 8, 'los': 8, 'tambores': 8, 'siente': 8, 'la': 18, 'vibración': 8, 'son': 9, 'niños': 8, 'de': 14, 'las': 8, 'flores': 8, 'es': 10, 'revolución': 8, 'verano': 16, 'del': 19, 'amor': 17, 'y': 25, 'un': 17, 'cóctel': 16, 'molotov': 16, 'mi': 1, 'sonrisa': 1, 'ondea': 1, 'en': 7, 'paz': 2, 'aunque': 2, 'propios': 1, 'extraños': 1, 'me': 1, 'miren': 1, 'mal': 1, 'genera': 1, 'tanta': 1, 'luz': 1, 'que': 6, 'suele': 1, 'deslumbrar': 1, 'haya': 1, 'subido': 1, 'el': 2, 'nivel': 1, 'mar': 1, 'está': 1, 'retrocediendo': 1, 'otro': 1, 'glaciar': 1, 'a': 2, 'ellos': 1, 'les': 2, 'va': 1, 'bien': 2, 'siguen': 1, 'dando': 1, 'gas': 1, 'disfrutan': 1, 'otoño': 1, 'tropical': 1, 'están': 2, 'playita': 1, 'parece': 1, 'genial': 1, 'este': 1, 'calor': 1, 'no': 5, 'normal': 1, 'morenos': 1, 'calentamiento': 1, 'global': 1, 'yo': 2, 'soy': 1, 'violento': 1, 'lo': 2, 'sabéis': 1, 'pero': 1, 'estoy': 1, 'tan': 1, 'cansado': 1, 'escuchéis': 1, 'empiezo': 1, 'dudar': 1, 'sé': 1, 'muy': 1, 'qué': 1, 'hacer': 1, 'se': 2, 'abren': 1, 'paragüas': 1, 'hong': 1, 'kong': 1, 'chile': 1, 'bolivia': 1, 'ecuador': 1, 'con': 4, 'fuegos': 1, 'pasión': 1, 'contenedor': 1, 'aportarán': 1, 'aquí': 1, 'hace': 1, 'falta': 1, 'poco': 1, 'acción': 1, 'hay': 1, 'elegir': 1, 'convicción': 1, 'lado': 1, 'historia': 1, 'estaremos': 1, 'tú': 1, 'basta': 1, 'mis': 1, 'palabras': 1, 'han': 2, 'vuelto': 1, 'adoquines': 1, '¿dónde': 1, 'estás': 1, 'llegado': 1, 'antidisturbios': 1, 'gases': 1, 'escudos': 1, 'como': 1, 'vas': 1, 'tapada': 1, 'te': 1, 'puedo': 1, 'encontrar': 1}\n"
     ]
    }
   ],
   "source": [
    "palabras = new_text.split()\n",
    "frecuencia_palabras = {}\n",
    "for e in palabras:\n",
    "    e = e.strip(\".,!?\")\n",
    "    e = e.lower()\n",
    "    frecuencia_palabras[e] = frecuencia_palabras.get(e,0)+1\n",
    "print(frecuencia_palabras)\n",
    "\n",
    "\n"
   ]
  },
  {
   "cell_type": "markdown",
   "metadata": {},
   "source": [
    "Ahora vamos a ordenar el diccionario por el número de apariciones de mayor a menor, tendremos que investigar un poco como hacerlo."
   ]
  },
  {
   "cell_type": "code",
   "execution_count": 49,
   "metadata": {},
   "outputs": [
    {
     "name": "stdout",
     "output_type": "stream",
     "text": [
      "{'y': 25, 'del': 19, 'la': 18, 'amor': 17, 'un': 17, 'verano': 16, 'cóctel': 16, 'molotov': 16, 'de': 14, 'ya': 10, 'es': 10, 'son': 9, 'suenan': 8, 'los': 8, 'tambores': 8, 'siente': 8, 'vibración': 8, 'niños': 8, 'las': 8, 'flores': 8, 'revolución': 8, 'en': 7, 'que': 6, 'no': 5, 'con': 4, 'paz': 2, 'aunque': 2, 'el': 2, 'a': 2, 'les': 2, 'bien': 2, 'están': 2, 'yo': 2, 'lo': 2, 'se': 2, 'han': 2, 'mi': 1, 'sonrisa': 1, 'ondea': 1, 'propios': 1, 'extraños': 1, 'me': 1, 'miren': 1, 'mal': 1, 'genera': 1, 'tanta': 1, 'luz': 1, 'suele': 1, 'deslumbrar': 1, 'haya': 1, 'subido': 1, 'nivel': 1, 'mar': 1, 'está': 1, 'retrocediendo': 1, 'otro': 1, 'glaciar': 1, 'ellos': 1, 'va': 1, 'siguen': 1, 'dando': 1, 'gas': 1, 'disfrutan': 1, 'otoño': 1, 'tropical': 1, 'playita': 1, 'parece': 1, 'genial': 1, 'este': 1, 'calor': 1, 'normal': 1, 'morenos': 1, 'calentamiento': 1, 'global': 1, 'soy': 1, 'violento': 1, 'sabéis': 1, 'pero': 1, 'estoy': 1, 'tan': 1, 'cansado': 1, 'escuchéis': 1, 'empiezo': 1, 'dudar': 1, 'sé': 1, 'muy': 1, 'qué': 1, 'hacer': 1, 'abren': 1, 'paragüas': 1, 'hong': 1, 'kong': 1, 'chile': 1, 'bolivia': 1, 'ecuador': 1, 'fuegos': 1, 'pasión': 1, 'contenedor': 1, 'aportarán': 1, 'aquí': 1, 'hace': 1, 'falta': 1, 'poco': 1, 'acción': 1, 'hay': 1, 'elegir': 1, 'convicción': 1, 'lado': 1, 'historia': 1, 'estaremos': 1, 'tú': 1, 'basta': 1, 'mis': 1, 'palabras': 1, 'vuelto': 1, 'adoquines': 1, '¿dónde': 1, 'estás': 1, 'llegado': 1, 'antidisturbios': 1, 'gases': 1, 'escudos': 1, 'como': 1, 'vas': 1, 'tapada': 1, 'te': 1, 'puedo': 1, 'encontrar': 1}\n"
     ]
    }
   ],
   "source": [
    "diccionario_orden = dict(sorted(frecuencia_palabras.items(), key=lambda item: item[1], reverse=True))\n",
    "\n",
    "print(diccionario_orden)"
   ]
  },
  {
   "cell_type": "markdown",
   "metadata": {},
   "source": [
    "Crea un nuevo diccionario llamado **top_repeticiones**, que contenga las 15 palabras más repetidas del texto."
   ]
  },
  {
   "cell_type": "code",
   "execution_count": 50,
   "metadata": {},
   "outputs": [
    {
     "name": "stdout",
     "output_type": "stream",
     "text": [
      "{'y': 25, 'del': 19, 'la': 18, 'amor': 17, 'un': 17, 'verano': 16, 'cóctel': 16, 'molotov': 16, 'de': 14, 'ya': 10, 'es': 10, 'son': 9, 'suenan': 8, 'los': 8, 'tambores': 8}\n"
     ]
    }
   ],
   "source": [
    "top_repeticiones = {}\n",
    "for palabra, frecuencia in sorted(frecuencia_palabras.items(), key=lambda item: item[1], reverse=True)[:15]:\n",
    "    top_repeticiones[palabra] = frecuencia\n",
    "\n",
    "print(top_repeticiones)"
   ]
  },
  {
   "cell_type": "markdown",
   "metadata": {},
   "source": [
    "El resto de las palabras que no están en el top, las vamos a agrupar en un nuevo diccionario llamado **resto_repeticiones**"
   ]
  },
  {
   "cell_type": "code",
   "execution_count": 54,
   "metadata": {},
   "outputs": [
    {
     "name": "stdout",
     "output_type": "stream",
     "text": [
      "{'siente': 8, 'vibración': 8, 'niños': 8, 'las': 8, 'flores': 8, 'revolución': 8, 'en': 7, 'que': 6, 'no': 5, 'con': 4, 'paz': 2, 'aunque': 2, 'el': 2, 'a': 2, 'les': 2, 'bien': 2, 'están': 2, 'yo': 2, 'lo': 2, 'se': 2, 'han': 2, 'mi': 1, 'sonrisa': 1, 'ondea': 1, 'propios': 1, 'extraños': 1, 'me': 1, 'miren': 1, 'mal': 1, 'genera': 1, 'tanta': 1, 'luz': 1, 'suele': 1, 'deslumbrar': 1, 'haya': 1, 'subido': 1, 'nivel': 1, 'mar': 1, 'está': 1, 'retrocediendo': 1, 'otro': 1, 'glaciar': 1, 'ellos': 1, 'va': 1, 'siguen': 1, 'dando': 1, 'gas': 1, 'disfrutan': 1, 'otoño': 1, 'tropical': 1, 'playita': 1, 'parece': 1, 'genial': 1, 'este': 1, 'calor': 1, 'normal': 1, 'morenos': 1, 'calentamiento': 1, 'global': 1, 'soy': 1, 'violento': 1, 'sabéis': 1, 'pero': 1, 'estoy': 1, 'tan': 1, 'cansado': 1, 'escuchéis': 1, 'empiezo': 1, 'dudar': 1, 'sé': 1, 'muy': 1, 'qué': 1, 'hacer': 1, 'abren': 1, 'paragüas': 1, 'hong': 1, 'kong': 1, 'chile': 1, 'bolivia': 1, 'ecuador': 1, 'fuegos': 1, 'pasión': 1, 'contenedor': 1, 'aportarán': 1, 'aquí': 1, 'hace': 1, 'falta': 1, 'poco': 1, 'acción': 1, 'hay': 1, 'elegir': 1, 'convicción': 1, 'lado': 1, 'historia': 1, 'estaremos': 1, 'tú': 1, 'basta': 1, 'mis': 1, 'palabras': 1, 'vuelto': 1, 'adoquines': 1, '¿dónde': 1, 'estás': 1, 'llegado': 1, 'antidisturbios': 1, 'gases': 1, 'escudos': 1, 'como': 1, 'vas': 1, 'tapada': 1, 'te': 1, 'puedo': 1, 'encontrar': 1}\n"
     ]
    }
   ],
   "source": [
    "resto_repeticiones = {}\n",
    "for palabra, frecuencia in sorted(frecuencia_palabras.items(), key=lambda item: item[1], reverse=True)[15:]:\n",
    "    resto_repeticiones[palabra] = frecuencia\n",
    "\n",
    "print(resto_repeticiones)"
   ]
  },
  {
   "cell_type": "markdown",
   "metadata": {},
   "source": [
    "¿Podrías hacer un bucle que haga los dos pasos anteriores pero en una sola pasada?"
   ]
  },
  {
   "cell_type": "code",
   "execution_count": 53,
   "metadata": {},
   "outputs": [
    {
     "name": "stdout",
     "output_type": "stream",
     "text": [
      "Top de palabras más repetidas:\n",
      "{'y': 25, 'del': 19, 'la': 18, 'amor': 17, 'un': 17, 'verano': 16, 'cóctel': 16, 'molotov': 16, 'de': 14, 'ya': 10, 'es': 10, 'son': 9, 'suenan': 8, 'los': 8, 'tambores': 8}\n",
      "\n",
      "Resto de palabras:\n",
      "{'siente': 8, 'vibración': 8, 'niños': 8, 'las': 8, 'flores': 8, 'revolución': 8, 'en': 7, 'que': 6, 'no': 5, 'con': 4, 'paz': 2, 'aunque': 2, 'el': 2, 'a': 2, 'les': 2, 'bien': 2, 'están': 2, 'yo': 2, 'lo': 2, 'se': 2, 'han': 2, 'mi': 1, 'sonrisa': 1, 'ondea': 1, 'propios': 1, 'extraños': 1, 'me': 1, 'miren': 1, 'mal': 1, 'genera': 1, 'tanta': 1, 'luz': 1, 'suele': 1, 'deslumbrar': 1, 'haya': 1, 'subido': 1, 'nivel': 1, 'mar': 1, 'está': 1, 'retrocediendo': 1, 'otro': 1, 'glaciar': 1, 'ellos': 1, 'va': 1, 'siguen': 1, 'dando': 1, 'gas': 1, 'disfrutan': 1, 'otoño': 1, 'tropical': 1, 'playita': 1, 'parece': 1, 'genial': 1, 'este': 1, 'calor': 1, 'normal': 1, 'morenos': 1, 'calentamiento': 1, 'global': 1, 'soy': 1, 'violento': 1, 'sabéis': 1, 'pero': 1, 'estoy': 1, 'tan': 1, 'cansado': 1, 'escuchéis': 1, 'empiezo': 1, 'dudar': 1, 'sé': 1, 'muy': 1, 'qué': 1, 'hacer': 1, 'abren': 1, 'paragüas': 1, 'hong': 1, 'kong': 1, 'chile': 1, 'bolivia': 1, 'ecuador': 1, 'fuegos': 1, 'pasión': 1, 'contenedor': 1, 'aportarán': 1, 'aquí': 1, 'hace': 1, 'falta': 1, 'poco': 1, 'acción': 1, 'hay': 1, 'elegir': 1, 'convicción': 1, 'lado': 1, 'historia': 1, 'estaremos': 1, 'tú': 1, 'basta': 1, 'mis': 1, 'palabras': 1, 'vuelto': 1, 'adoquines': 1, '¿dónde': 1, 'estás': 1, 'llegado': 1, 'antidisturbios': 1, 'gases': 1, 'escudos': 1, 'como': 1, 'vas': 1, 'tapada': 1, 'te': 1, 'puedo': 1, 'encontrar': 1}\n"
     ]
    }
   ],
   "source": [
    "palabras = new_text.split()\n",
    "\n",
    "#Contar la frecuencia de cada palabra\n",
    "frecuencia_palabras = {}\n",
    "for palabra in palabras:\n",
    "# Eliminar signos de puntuación\n",
    "    palabra = palabra.strip(\".,!?\")\n",
    "# Convertir a minúsculas \n",
    "    palabra = palabra.lower()\n",
    "    frecuencia_palabras[palabra] = frecuencia_palabras.get(palabra, 0) + 1\n",
    "\n",
    "#diccionario top_repeticiones y resto_repeticiones\n",
    "top_repeticiones = {}\n",
    "resto_repeticiones = {}\n",
    "\n",
    "for palabra, frecuencia in sorted(frecuencia_palabras.items(), key=lambda item: item[1], reverse=True):\n",
    "    if len(top_repeticiones) < 15:\n",
    "        top_repeticiones[palabra] = frecuencia\n",
    "    else:\n",
    "        resto_repeticiones[palabra] = frecuencia\n",
    "\n",
    "print(\"Top de palabras más repetidas:\")\n",
    "print(top_repeticiones)\n",
    "print(\"\\nResto de palabras:\")\n",
    "print(resto_repeticiones)"
   ]
  },
  {
   "cell_type": "markdown",
   "metadata": {},
   "source": [
    "### BONUS 😎😎😎 ***push your limits***"
   ]
  },
  {
   "cell_type": "markdown",
   "metadata": {},
   "source": [
    "Ahora quiero que crees un nuevo diccionario llamado **diccionario_infernal**, en este caso las claves serán las distintas longitudes de las palabras y los values serán tuplas donde el primer elemento sea una lista de palabras de esa longitud y el segundo elemento sea el número de palabras de esa longitud."
   ]
  },
  {
   "cell_type": "code",
   "execution_count": null,
   "metadata": {},
   "outputs": [],
   "source": [
    "#Tu código aquí"
   ]
  },
  {
   "cell_type": "markdown",
   "metadata": {},
   "source": [
    "Vamos a cargar de nuevo el texto completo del archivo texto.txt. El reto es que junteis todo el texto del fichero en una sola string que no tenga espacios , ni saltos de línea, ni signos de puntuación si los hubiera. Pero para que se pueda leer bien, vamos a comvertir todas las primeras letras de cada palabra en mayúsculas. ***Ej: \"hola, que tal?\" --> \"HolaQueTal\"*** 😈👿😈"
   ]
  },
  {
   "cell_type": "code",
   "execution_count": null,
   "metadata": {},
   "outputs": [],
   "source": [
    "#Tu código aquí"
   ]
  },
  {
   "cell_type": "code",
   "execution_count": null,
   "metadata": {},
   "outputs": [],
   "source": []
  },
  {
   "cell_type": "markdown",
   "metadata": {},
   "source": []
  }
 ],
 "metadata": {
  "kernelspec": {
   "display_name": "Python 3 (ipykernel)",
   "language": "python",
   "name": "python3"
  },
  "language_info": {
   "codemirror_mode": {
    "name": "ipython",
    "version": 3
   },
   "file_extension": ".py",
   "mimetype": "text/x-python",
   "name": "python",
   "nbconvert_exporter": "python",
   "pygments_lexer": "ipython3",
   "version": "3.11.4"
  }
 },
 "nbformat": 4,
 "nbformat_minor": 2
}
