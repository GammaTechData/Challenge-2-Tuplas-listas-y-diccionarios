{
 "cells": [
  {
   "cell_type": "markdown",
   "metadata": {},
   "source": [
    "# TUPLAS , LISTAS y DICCIONARIOS\n",
    "-----"
   ]
  },
  {
   "cell_type": "markdown",
   "metadata": {},
   "source": [
    "### TUPLAS"
   ]
  },
  {
   "cell_type": "markdown",
   "metadata": {},
   "source": [
    "Crea una tupla de un ***solo elemento*** (comma is the key...)"
   ]
  },
  {
   "cell_type": "code",
   "execution_count": 1,
   "metadata": {},
   "outputs": [],
   "source": [
    "mi_tupla =('fredy',)"
   ]
  },
  {
   "cell_type": "code",
   "execution_count": 2,
   "metadata": {},
   "outputs": [
    {
     "name": "stdout",
     "output_type": "stream",
     "text": [
      "('fredy',)\n"
     ]
    },
    {
     "data": {
      "text/plain": [
       "tuple"
      ]
     },
     "execution_count": 2,
     "metadata": {},
     "output_type": "execute_result"
    }
   ],
   "source": [
    "print(mi_tupla)\n",
    "type(mi_tupla)\n"
   ]
  },
  {
   "cell_type": "markdown",
   "metadata": {},
   "source": [
    "Comprueba el tipo de la variable que acabas de crear, debe ser ***tuple***"
   ]
  },
  {
   "cell_type": "code",
   "execution_count": 3,
   "metadata": {},
   "outputs": [
    {
     "data": {
      "text/plain": [
       "tuple"
      ]
     },
     "execution_count": 3,
     "metadata": {},
     "output_type": "execute_result"
    }
   ],
   "source": [
    "type(mi_tupla)"
   ]
  },
  {
   "cell_type": "markdown",
   "metadata": {},
   "source": [
    "Añade un elemento a esta tupla de un solo elemento"
   ]
  },
  {
   "cell_type": "code",
   "execution_count": null,
   "metadata": {},
   "outputs": [],
   "source": [
    "Creo que las tuplas son inmutables"
   ]
  },
  {
   "cell_type": "markdown",
   "metadata": {},
   "source": [
    "Reasigna \"l\",\"a\",\"s\",\"t\",\"u\",\"p\",\"l\",\"a\",\"s\",\"m\",\"o\",\"l\",\"a\",\"n\" a la tupla que has declarado\n"
   ]
  },
  {
   "cell_type": "code",
   "execution_count": 41,
   "metadata": {},
   "outputs": [
    {
     "data": {
      "text/plain": [
       "('l', 'a', 's', 't', 'u', 'p', 'l', 'a', 's', 'm', 'o', 'l', 'a', 'n')"
      ]
     },
     "execution_count": 41,
     "metadata": {},
     "output_type": "execute_result"
    }
   ],
   "source": [
    "mi_tupla=tuple(\"lastuplasmolan\",)\n",
    "mi_tupla"
   ]
  },
  {
   "cell_type": "markdown",
   "metadata": {},
   "source": [
    "Parte esa tuplas en 3 nuevas (1 por cada palabra)"
   ]
  },
  {
   "cell_type": "code",
   "execution_count": 82,
   "metadata": {},
   "outputs": [
    {
     "name": "stdout",
     "output_type": "stream",
     "text": [
      "('las',) ('tuplas',) ('molan',)\n"
     ]
    },
    {
     "data": {
      "text/plain": [
       "tuple"
      ]
     },
     "execution_count": 82,
     "metadata": {},
     "output_type": "execute_result"
    }
   ],
   "source": [
    "mi_tupla=('lastuplasmolan')\n",
    "tupla1=(mi_tupla[0:3],)\n",
    "tupla2=(mi_tupla[3:9],)\n",
    "tupla3=(mi_tupla[9:14],)\n",
    "print(tupla1, tupla2, tupla3)\n",
    "type(tupla1)\n",
    "mi_tupla=tuple('lastuplasmolan')\n",
    "type(mi_tupla)"
   ]
  },
  {
   "cell_type": "markdown",
   "metadata": {},
   "source": [
    "Crea un código que compruebe si el número de elementos en las 3 tuplas juntas es igual a la suma de los elementos dentro de cada tupla"
   ]
  },
  {
   "cell_type": "code",
   "execution_count": 83,
   "metadata": {},
   "outputs": [
    {
     "name": "stdout",
     "output_type": "stream",
     "text": [
      "14\n",
      "3\n"
     ]
    }
   ],
   "source": [
    "conteomi_tupla=0\n",
    "for e in mi_tupla:\n",
    "    conteomi_tupla+=1\n",
    "print( conteomi_tupla)\n",
    "n1=0\n",
    "for e in tupla1,tupla2,tupla3:\n",
    "    n1+=1\n",
    "print(n1)\n"
   ]
  },
  {
   "cell_type": "markdown",
   "metadata": {},
   "source": [
    "Genera una 2 listas (pares e impares), debes recorrer la tupla y añadir los elementos a cada lista en funciónde si su índice es par o impar"
   ]
  },
  {
   "cell_type": "code",
   "execution_count": 84,
   "metadata": {},
   "outputs": [
    {
     "name": "stdout",
     "output_type": "stream",
     "text": [
      "['l', 's', 'u', 'l', 's', 'o', 'a']\n",
      "['a', 't', 'p', 'a', 'm', 'l', 'n']\n"
     ]
    }
   ],
   "source": [
    "enumerate (mi_tupla)\n",
    "lista_par=[]\n",
    "lista_impar=[]\n",
    "for index,element in enumerate (mi_tupla):\n",
    "    if (index %2) == 0:\n",
    "        lista_par.append(element)\n",
    "    else:\n",
    "        lista_impar.append(element)\n",
    "print(lista_par)\n",
    "print(lista_impar)\n"
   ]
  },
  {
   "cell_type": "markdown",
   "metadata": {},
   "source": [
    "Usa un bucle para comprobar si los elmentos de la lista =[\"n\",\"u\",\"s\",\"l\",\"c\",\"b\",\"x\",\"t\",\"n\"], están presentes en la tupla completa"
   ]
  },
  {
   "cell_type": "code",
   "execution_count": 178,
   "metadata": {},
   "outputs": [
    {
     "name": "stdout",
     "output_type": "stream",
     "text": [
      "estos elementos ['t', 'u', 'n', 'l', 's'] , estan en la tupla\n"
     ]
    }
   ],
   "source": [
    "lista =[\"n\",\"u\",\"s\",\"l\",\"c\",\"b\",\"x\",\"t\",\"n\"]\n",
    "set(lista)\n",
    "elementosentupla=[]\n",
    "for e in set(lista):\n",
    "    if e in mi_tupla:\n",
    "        elementosentupla.append(e)\n",
    "print(f'estos elementos {elementosentupla} , estan en la tupla') \n",
    "    "
   ]
  },
  {
   "cell_type": "markdown",
   "metadata": {},
   "source": [
    "Saca por pantalla el número de veces que aparece cada elemento de la lista, si no existe el elemento debe mostrar el mensaje \"La letra***nombre_de_la_letra*** no está en la tupla\""
   ]
  },
  {
   "cell_type": "code",
   "execution_count": 275,
   "metadata": {},
   "outputs": [
    {
     "name": "stdout",
     "output_type": "stream",
     "text": [
      "1 t\n",
      "['x'] no estan en la lista\n",
      "1 u\n",
      "1 n\n",
      "3 l\n",
      "2 s\n",
      "['x', 'c'] no estan en la lista\n",
      "['x', 'c', 'b'] no estan en la lista\n"
     ]
    }
   ],
   "source": [
    "nueva_tup= list(mi_tupla)\n",
    "lista =[\"n\",\"u\",\"s\",\"l\",\"c\",\"b\",\"x\",\"t\",\"n\"]\n",
    "set(lista)\n",
    "letrasno=[]\n",
    "\n",
    "for e in set(lista):\n",
    "    nueva_tup.count(e)\n",
    "    if e not in nueva_tup:\n",
    "            letrasno.append(e)\n",
    "            print(f'{letrasno} no estan en la lista')\n",
    "    else:\n",
    "            print(nueva_tup.count(e),e)\n",
    "   \n",
    "        \n",
    "      \n",
    "    \n"
   ]
  },
  {
   "cell_type": "markdown",
   "metadata": {},
   "source": [
    "## SETS"
   ]
  },
  {
   "cell_type": "markdown",
   "metadata": {},
   "source": [
    "Os dejo este pequeño resumen sobre los sets para que lo tengáis a mano durante los ejercicios. ![enlace] (https://www.w3schools.com/python/python_sets.asp)"
   ]
  },
  {
   "cell_type": "markdown",
   "metadata": {},
   "source": [
    "Para esta parte usaremos la libreria *random* que ya hemos visto en clase."
   ]
  },
  {
   "cell_type": "markdown",
   "metadata": {},
   "source": [
    "Crea una lista llamada ***muestra***:\n",
    "- Debe estar compuesta por 80 elementos\n",
    "- Los elementos deben ser enteros entre 0 y 200"
   ]
  },
  {
   "cell_type": "markdown",
   "metadata": {},
   "source": [
    "Pista: random.sample --> [enlace](https://docs.python.org/es/3/library/random.html#random.sample)"
   ]
  },
  {
   "cell_type": "code",
   "execution_count": 280,
   "metadata": {},
   "outputs": [
    {
     "name": "stdout",
     "output_type": "stream",
     "text": [
      "[22, 105, 111, 184, 151, 167, 66, 36, 101, 27, 18, 116, 22, 24, 95, 57, 103, 28, 185, 157, 167, 176, 68, 65, 171, 133, 65, 2, 28, 167, 80, 95, 180, 55, 169, 173, 178, 6, 20, 129, 9, 139, 124, 142, 137, 137, 163, 128, 97, 59, 152, 51, 51, 198, 94, 31, 44, 178, 157, 32, 83, 140, 95, 31, 165, 142, 168, 170, 85, 147, 196, 103, 160, 143, 36, 140, 192, 179, 146, 70]\n"
     ]
    }
   ],
   "source": [
    "import random\n",
    "muestra = [random.randint(0, 200) for _ in range(80)]\n",
    "print(muestra)"
   ]
  },
  {
   "cell_type": "markdown",
   "metadata": {},
   "source": [
    "Convierte tu lista en un set, llámalo set1 y comprueba si tiene el mismo numero de elementos que la lista original"
   ]
  },
  {
   "cell_type": "code",
   "execution_count": 298,
   "metadata": {},
   "outputs": [
    {
     "name": "stdout",
     "output_type": "stream",
     "text": [
      "Los valores unicos son: 64 , y los totales 80\n"
     ]
    }
   ],
   "source": [
    "set1=set(muestra)\n",
    "valores_unicos=len(set1)\n",
    "valores_totales=len(muestra)\n",
    "if valores_unicos!=valores_totales:\n",
    "        print(f'Los valores unicos son: {valores_unicos} , y los totales {valores_totales}')\n"
   ]
  },
  {
   "cell_type": "markdown",
   "metadata": {},
   "source": [
    "Crea una segunda lista de 100 elementos , ahora usa un bucle for junto con la librería random."
   ]
  },
  {
   "cell_type": "code",
   "execution_count": null,
   "metadata": {},
   "outputs": [],
   "source": [
    "#Tu código aquí"
   ]
  },
  {
   "cell_type": "markdown",
   "metadata": {},
   "source": [
    "Convierte la segunda lista en un set y llámalo set2, compruba su loongitud"
   ]
  },
  {
   "cell_type": "code",
   "execution_count": null,
   "metadata": {},
   "outputs": [],
   "source": [
    "#Tu código aquí"
   ]
  },
  {
   "cell_type": "markdown",
   "metadata": {},
   "source": [
    "Crea un nuevo set3 compuesto por los elementos que son comunes en set1 y set2"
   ]
  },
  {
   "cell_type": "code",
   "execution_count": null,
   "metadata": {},
   "outputs": [],
   "source": [
    "#Tu código aquí"
   ]
  },
  {
   "cell_type": "markdown",
   "metadata": {},
   "source": [
    "Crea un set4 compuesto por lo elementos que están en set1 pero no en set2"
   ]
  },
  {
   "cell_type": "code",
   "execution_count": null,
   "metadata": {},
   "outputs": [],
   "source": [
    "#Tu código aquí"
   ]
  },
  {
   "cell_type": "markdown",
   "metadata": {},
   "source": [
    "Crea un set vacío llamado set5, añade los elementos de set1 y set3 a este nuevo set usando los métodos de los sets"
   ]
  },
  {
   "cell_type": "code",
   "execution_count": null,
   "metadata": {},
   "outputs": [],
   "source": [
    "#Tu código aquí"
   ]
  },
  {
   "cell_type": "markdown",
   "metadata": {},
   "source": [
    "Compruba si el set1 contiene al set2"
   ]
  },
  {
   "cell_type": "code",
   "execution_count": null,
   "metadata": {},
   "outputs": [],
   "source": [
    "#Tu código aquí"
   ]
  },
  {
   "cell_type": "markdown",
   "metadata": {},
   "source": [
    "Tomando como referencia esta lista = [1, 9, 11, 19, 21, 29, 31, 39, 41, 49, 51, 59, 61, 69, 71, 79, 81, 89, 91, 99], elimina los elementos del set5 que están en la lista."
   ]
  },
  {
   "cell_type": "code",
   "execution_count": null,
   "metadata": {},
   "outputs": [],
   "source": [
    "#Tu código aquí"
   ]
  },
  {
   "cell_type": "markdown",
   "metadata": {},
   "source": [
    "Elimina los elementos del set3, que están en la lista del ejemplo anterior, pero que no están en el set1"
   ]
  },
  {
   "cell_type": "markdown",
   "metadata": {},
   "source": [
    "## DICCIONARIOS"
   ]
  },
  {
   "cell_type": "markdown",
   "metadata": {},
   "source": [
    "Para el ejercicio lo primero vamos a cargar en una variable llamada **texto** el contenido del archivo \"texto.txt\" que os he dejado en el repositorio."
   ]
  },
  {
   "cell_type": "code",
   "execution_count": null,
   "metadata": {},
   "outputs": [],
   "source": [
    "contenido = open(\"texto.txt\", \"r\") #abre el archivo en modo lectura\n",
    "texto = contenido.read() #lee el archivo y lo guarda en la variable texto"
   ]
  },
  {
   "cell_type": "code",
   "execution_count": null,
   "metadata": {},
   "outputs": [],
   "source": [
    "print(texto)"
   ]
  },
  {
   "cell_type": "markdown",
   "metadata": {},
   "source": [
    "Nuestra variable tienen el contenido del archivo y si hacemos un print, parece que está todo ok....pero no."
   ]
  },
  {
   "cell_type": "code",
   "execution_count": null,
   "metadata": {},
   "outputs": [],
   "source": [
    "type(texto)"
   ]
  },
  {
   "cell_type": "markdown",
   "metadata": {},
   "source": [
    "Es una string.\n",
    "Veamos como es realmente:"
   ]
  },
  {
   "cell_type": "code",
   "execution_count": null,
   "metadata": {},
   "outputs": [],
   "source": [
    "texto[:100] #imprime los primeros 100 caracteres del texto, tenemos mucho salto de linea verdad?"
   ]
  },
  {
   "cell_type": "markdown",
   "metadata": {},
   "source": [
    "Limpia la cadena y elimina los saltos de línea"
   ]
  },
  {
   "cell_type": "code",
   "execution_count": null,
   "metadata": {},
   "outputs": [],
   "source": [
    "#reemplaza los saltos de linea por espacios, si lo cambiaras por nada, se eliminarian, y estaríamos juntando palabras OJO!"
   ]
  },
  {
   "cell_type": "markdown",
   "metadata": {},
   "source": [
    "Vamos a ver cuales son las palabras más repetidas a lo largo del texto, para ello vamos a crear un diccionario que contenga como clave cada una de las palabras del texto y como valor el número de veces que aparece esa palabra en el texto."
   ]
  },
  {
   "cell_type": "code",
   "execution_count": null,
   "metadata": {},
   "outputs": [],
   "source": [
    "#Tú código aquí"
   ]
  },
  {
   "cell_type": "markdown",
   "metadata": {},
   "source": [
    "Ahora vamos a ordenar el diccionario por el número de apariciones de mayor a menor, tendremos que investigar un poco como hacerlo."
   ]
  },
  {
   "cell_type": "code",
   "execution_count": null,
   "metadata": {},
   "outputs": [],
   "source": [
    "#Tu código aquí"
   ]
  },
  {
   "cell_type": "markdown",
   "metadata": {},
   "source": [
    "Crea un nuevo diccionario llamado **top_repeticiones**, que contenga las 15 palabras más repetidas del texto."
   ]
  },
  {
   "cell_type": "code",
   "execution_count": null,
   "metadata": {},
   "outputs": [],
   "source": [
    "# Hay varias maneras de hacerlo, a ver que se os ocurre."
   ]
  },
  {
   "cell_type": "markdown",
   "metadata": {},
   "source": [
    "El resto de las palabras que no están en el top, las vamos a agrupar en un nuevo diccionario llamado **resto_repeticiones**"
   ]
  },
  {
   "cell_type": "code",
   "execution_count": null,
   "metadata": {},
   "outputs": [],
   "source": [
    "#Tu código aquí"
   ]
  },
  {
   "cell_type": "markdown",
   "metadata": {},
   "source": [
    "¿Podrías hacer un bucle que haga los dos pasos anteriores pero en una sola pasada?"
   ]
  },
  {
   "cell_type": "code",
   "execution_count": null,
   "metadata": {},
   "outputs": [],
   "source": [
    "#Tu código aquí"
   ]
  },
  {
   "cell_type": "markdown",
   "metadata": {},
   "source": [
    "### BONUS 😎😎😎 ***push your limits***"
   ]
  },
  {
   "cell_type": "markdown",
   "metadata": {},
   "source": [
    "Ahora quiero que crees un nuevo diccionario llamado **diccionario_infernal**, en este caso las claves serán las distintas longitudes de las palabras y los values serán tuplas donde el primer elemento sea una lista de palabras de esa longitud y el segundo elemento sea el número de palabras de esa longitud."
   ]
  },
  {
   "cell_type": "code",
   "execution_count": null,
   "metadata": {},
   "outputs": [],
   "source": [
    "#Tu código aquí"
   ]
  },
  {
   "cell_type": "markdown",
   "metadata": {},
   "source": [
    "Vamos a cargar de nuevo el texto completo del archivo texto.txt. El reto es que junteis todo el texto del fichero en una sola string que no tenga espacios , ni saltos de línea, ni signos de puntuación si los hubiera. Pero para que se pueda leer bien, vamos a comvertir todas las primeras letras de cada palabra en mayúsculas. ***Ej: \"hola, que tal?\" --> \"HolaQueTal\"*** 😈👿😈"
   ]
  },
  {
   "cell_type": "code",
   "execution_count": null,
   "metadata": {},
   "outputs": [],
   "source": [
    "#Tu código aquí"
   ]
  },
  {
   "cell_type": "code",
   "execution_count": null,
   "metadata": {},
   "outputs": [],
   "source": []
  },
  {
   "cell_type": "markdown",
   "metadata": {},
   "source": []
  }
 ],
 "metadata": {
  "kernelspec": {
   "display_name": "Python 3 (ipykernel)",
   "language": "python",
   "name": "python3"
  },
  "language_info": {
   "codemirror_mode": {
    "name": "ipython",
    "version": 3
   },
   "file_extension": ".py",
   "mimetype": "text/x-python",
   "name": "python",
   "nbconvert_exporter": "python",
   "pygments_lexer": "ipython3",
   "version": "3.11.3"
  }
 },
 "nbformat": 4,
 "nbformat_minor": 2
}
