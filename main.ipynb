{
 "cells": [
  {
   "cell_type": "markdown",
   "metadata": {},
   "source": [
    "# TUPLAS , LISTAS y DICCIONARIOS\n",
    "-----"
   ]
  },
  {
   "cell_type": "markdown",
   "metadata": {},
   "source": [
    "### TUPLAS"
   ]
  },
  {
   "cell_type": "markdown",
   "metadata": {},
   "source": [
    "Crea una tupla de un ***solo elemento*** (comma is the key...)"
   ]
  },
  {
   "cell_type": "code",
   "execution_count": null,
   "metadata": {},
   "outputs": [],
   "source": [
    "tupla_1 = (18,)"
   ]
  },
  {
   "cell_type": "markdown",
   "metadata": {},
   "source": [
    "Comprueba el tipo de la variable que acabas de crear, debe ser ***tuple***"
   ]
  },
  {
   "cell_type": "code",
   "execution_count": null,
   "metadata": {},
   "outputs": [],
   "source": [
    "type(tupla_1)"
   ]
  },
  {
   "cell_type": "markdown",
   "metadata": {},
   "source": [
    "Añade un elemento a esta tupla de un solo elemento"
   ]
  },
  {
   "cell_type": "code",
   "execution_count": null,
   "metadata": {},
   "outputs": [],
   "source": [
    "tupla_1 =list(tupla_1)\n",
    "tupla_1.append(5)\n",
    "tupla_1 = tuple(tupla_1)\n",
    "tupla_1"
   ]
  },
  {
   "cell_type": "markdown",
   "metadata": {},
   "source": [
    "Reasigna \"l\",\"a\",\"s\",\"t\",\"u\",\"p\",\"l\",\"a\",\"s\",\"m\",\"o\",\"l\",\"a\",\"n\" a la tupla que has declarado\n"
   ]
  },
  {
   "cell_type": "code",
   "execution_count": null,
   "metadata": {},
   "outputs": [],
   "source": [
    "reasignando = (\"l\",\"a\",\"s\",\"t\",\"u\",\"p\",\"l\",\"a\",\"s\",\"m\",\"o\",\"l\",\"a\",\"n\")\n",
    "tupla_1 =list(tupla_1)\n",
    "tupla_1 = reasignando\n",
    "tupla_1 = tuple(tupla_1)"
   ]
  },
  {
   "cell_type": "markdown",
   "metadata": {},
   "source": [
    "Parte esa tuplas en 3 nuevas (1 por cada palabra)"
   ]
  },
  {
   "cell_type": "code",
   "execution_count": null,
   "metadata": {},
   "outputs": [],
   "source": [
    "tupla_2 = []\n",
    "tupla_3 = []\n",
    "tupla_4 = []\n",
    "for letra in range(0,3,):\n",
    "    tupla_2.append(tupla_1[letra])\n",
    "tupla_2 = tuple(tupla_2)\n",
    "print(tupla_2)\n",
    "for letra in range(3,9,):\n",
    "    tupla_3.append(tupla_1[letra])\n",
    "tupla_3 = tuple(tupla_3)\n",
    "print(tupla_3)\n",
    "for letra in range(9,len(tupla_1),):\n",
    "    tupla_4.append(tupla_1[letra])\n",
    "tupla_4 = tuple(tupla_4) # en realidad no la he partido sague 3 partes ditintas \n",
    "print(tupla_4)"
   ]
  },
  {
   "cell_type": "markdown",
   "metadata": {},
   "source": [
    "Crea un código que compruebe si el número de elementos en las 3 tuplas juntas es igual a la suma de los elementos dentro de cada tupla"
   ]
  },
  {
   "cell_type": "code",
   "execution_count": null,
   "metadata": {},
   "outputs": [],
   "source": [
    "print(len(tupla_2) == len(tupla_3))\n",
    "\n",
    "print(len(tupla_3) == len(tupla_4))\n",
    "\n",
    "print(len(tupla_2) == len(tupla_4))\n",
    "\n",
    "print(len(tupla_1) == len(tupla_2) + len(tupla_3) + len(tupla_4))"
   ]
  },
  {
   "cell_type": "markdown",
   "metadata": {},
   "source": [
    "Genera una 2 listas (pares e impares), debes recorrer la tupla y añadir los elementos a cada lista en funciónde si su índice es par o impar"
   ]
  },
  {
   "cell_type": "code",
   "execution_count": null,
   "metadata": {},
   "outputs": [],
   "source": [
    "tupla_1 = list(tupla_1)\n",
    "index_par= []\n",
    "index_impar = []\n",
    "for num in range(len(tupla_1)):\n",
    "    if num %2 == 0 :\n",
    "        index_par.append(tupla_1[num])\n",
    "    else :\n",
    "        index_impar.append(tupla_1[num])\n",
    "index_par,index_impar"
   ]
  },
  {
   "cell_type": "code",
   "execution_count": null,
   "metadata": {},
   "outputs": [],
   "source": [
    "#test para los impar y par\n",
    "pares = []\n",
    "impares = []\n",
    "for num in range(10):\n",
    "    if num %2 == 0 :\n",
    "        pares.append(num)\n",
    "    else :\n",
    "        impares.append(num)\n",
    "\n",
    "pares, impares"
   ]
  },
  {
   "cell_type": "markdown",
   "metadata": {},
   "source": [
    "Usa un bucle para comprobar si los elmentos de la lista =[\"n\",\"u\",\"s\",\"l\",\"c\",\"b\",\"x\",\"t\",\"n\"], están presentes en la tupla completa"
   ]
  },
  {
   "cell_type": "code",
   "execution_count": null,
   "metadata": {},
   "outputs": [],
   "source": [
    "lista = [\"n\",\"u\",\"s\",\"l\",\"c\",\"b\",\"x\",\"t\",\"n\"]\n",
    "contador_elementos = 0\n",
    "for i in set(lista) :\n",
    "    for ele in set(tupla_1):\n",
    "        if i == ele :\n",
    "            print(i,ele)\n",
    "            contador_elementos += 1\n",
    "print(len(set(lista)) == contador_elementos ,f'{len(set(lista))},{contador_elementos}')"
   ]
  },
  {
   "cell_type": "markdown",
   "metadata": {},
   "source": [
    "Saca por pantalla el número de veces que aparece cada elemento de la lista, si no existe el elemento debe mostrar el mensaje \"La letra***nombre_de_la_letra*** no está en la tupla\""
   ]
  },
  {
   "cell_type": "code",
   "execution_count": null,
   "metadata": {},
   "outputs": [],
   "source": [
    "for letra in lista:\n",
    "    if tupla_1.count(letra)!= 0:\n",
    "        print(f'la letra {letra} aparece {tupla_1.count(letra)} veces')\n",
    "    elif tupla_1.count(letra) == 0:\n",
    "        print(f'la {letra} no aparece en la tupla ')"
   ]
  },
  {
   "cell_type": "markdown",
   "metadata": {},
   "source": [
    "## SETS"
   ]
  },
  {
   "cell_type": "markdown",
   "metadata": {},
   "source": [
    "Os dejo este pequeño resumen sobre los sets para que lo tengáis a mano durante los ejercicios. ![enlace] (https://www.w3schools.com/python/python_sets.asp)"
   ]
  },
  {
   "cell_type": "markdown",
   "metadata": {},
   "source": [
    "Para esta parte usaremos la libreria *random* que ya hemos visto en clase."
   ]
  },
  {
   "cell_type": "markdown",
   "metadata": {},
   "source": [
    "Crea una lista llamada ***muestra***:\n",
    "- Debe estar compuesta por 80 elementos\n",
    "- Los elementos deben ser enteros entre 0 y 200"
   ]
  },
  {
   "cell_type": "markdown",
   "metadata": {},
   "source": [
    "Pista: random.sample --> [enlace](https://docs.python.org/es/3/library/random.html#random.sample)"
   ]
  },
  {
   "cell_type": "code",
   "execution_count": null,
   "metadata": {},
   "outputs": [],
   "source": [
    "import random\n",
    "muestra = random.sample(range(200),80)\n",
    "muestra"
   ]
  },
  {
   "cell_type": "markdown",
   "metadata": {},
   "source": [
    "Convierte tu lista en un set, llámalo set1 y comprueba si tiene el mismo numero de elementos que la lista original"
   ]
  },
  {
   "cell_type": "code",
   "execution_count": null,
   "metadata": {},
   "outputs": [],
   "source": [
    "set1 = set(muestra)\n",
    "len(list(set1)) == len(muestra)"
   ]
  },
  {
   "cell_type": "markdown",
   "metadata": {},
   "source": [
    "Crea una segunda lista de 100 elementos , ahora usa un bucle for junto con la librería random."
   ]
  },
  {
   "cell_type": "code",
   "execution_count": null,
   "metadata": {},
   "outputs": [],
   "source": [
    "muestra2 = [random.randrange(200) for i in range(100)]\n",
    "muestra2"
   ]
  },
  {
   "cell_type": "markdown",
   "metadata": {},
   "source": [
    "Convierte la segunda lista en un set y llámalo set2, compruba su loongitud"
   ]
  },
  {
   "cell_type": "code",
   "execution_count": null,
   "metadata": {},
   "outputs": [],
   "source": [
    "set2 = set(muestra2)\n",
    "len(list(set2))"
   ]
  },
  {
   "cell_type": "markdown",
   "metadata": {},
   "source": [
    "Crea un nuevo set3 compuesto por los elementos que son comunes en set1 y set2"
   ]
  },
  {
   "cell_type": "code",
   "execution_count": null,
   "metadata": {},
   "outputs": [],
   "source": [
    "set3 = set1.intersection(set2)"
   ]
  },
  {
   "cell_type": "markdown",
   "metadata": {},
   "source": [
    "Crea un set4 compuesto por lo elementos que están en set1 pero no en set2"
   ]
  },
  {
   "cell_type": "code",
   "execution_count": null,
   "metadata": {},
   "outputs": [],
   "source": [
    "set4 = set1.symmetric_difference(set2)"
   ]
  },
  {
   "cell_type": "markdown",
   "metadata": {},
   "source": [
    "Crea un set vacío llamado set5, añade los elementos de set1 y set3 a este nuevo set usando los métodos de los sets"
   ]
  },
  {
   "cell_type": "code",
   "execution_count": null,
   "metadata": {},
   "outputs": [],
   "source": [
    "set5 = set()\n",
    "set5.update(set1,set3)\n",
    "set5"
   ]
  },
  {
   "cell_type": "markdown",
   "metadata": {},
   "source": [
    "Compruba si el set1 contiene al set2"
   ]
  },
  {
   "cell_type": "code",
   "execution_count": null,
   "metadata": {},
   "outputs": [],
   "source": [
    "set1.intersection(set2) == set2"
   ]
  },
  {
   "cell_type": "markdown",
   "metadata": {},
   "source": [
    "Tomando como referencia esta lista = [1, 9, 11, 19, 21, 29, 31, 39, 41, 49, 51, 59, 61, 69, 71, 79, 81, 89, 91, 99], elimina los elementos del set5 que están en la lista."
   ]
  },
  {
   "cell_type": "code",
   "execution_count": null,
   "metadata": {},
   "outputs": [],
   "source": [
    "lista = [1, 9, 11, 19, 21, 29, 31, 39, 41, 49, 51, 59, 61, 69, 71, 79, 81, 89, 91, 99]\n",
    "set(lista) - set5"
   ]
  },
  {
   "cell_type": "markdown",
   "metadata": {},
   "source": [
    "Elimina los elementos del set3, que están en la lista del ejemplo anterior, pero que no están en el set1"
   ]
  },
  {
   "cell_type": "code",
   "execution_count": null,
   "metadata": {},
   "outputs": [],
   "source": [
    "lista1 = set(lista) - set5\n",
    "lista1 - set3"
   ]
  },
  {
   "cell_type": "markdown",
   "metadata": {},
   "source": [
    "## DICCIONARIOS"
   ]
  },
  {
   "cell_type": "markdown",
   "metadata": {},
   "source": [
    "Para el ejercicio lo primero vamos a cargar en una variable llamada **texto** el contenido del archivo \"texto.txt\" que os he dejado en el repositorio."
   ]
  },
  {
   "cell_type": "code",
   "execution_count": null,
   "metadata": {},
   "outputs": [],
   "source": [
    "contenido = open(\"texto.txt\", \"r\") #abre el archivo en modo lectura\n",
    "texto = contenido.read() #lee el archivo y lo guarda en la variable texto"
   ]
  },
  {
   "cell_type": "code",
   "execution_count": null,
   "metadata": {},
   "outputs": [],
   "source": [
    "print(texto)"
   ]
  },
  {
   "cell_type": "markdown",
   "metadata": {},
   "source": [
    "Nuestra variable tienen el contenido del archivo y si hacemos un print, parece que está todo ok....pero no."
   ]
  },
  {
   "cell_type": "code",
   "execution_count": null,
   "metadata": {},
   "outputs": [],
   "source": [
    "type(texto)"
   ]
  },
  {
   "cell_type": "markdown",
   "metadata": {},
   "source": [
    "Es una string.\n",
    "Veamos como es realmente:"
   ]
  },
  {
   "cell_type": "code",
   "execution_count": null,
   "metadata": {},
   "outputs": [],
   "source": [
    "texto[:100] #imprime los primeros 100 caracteres del texto, tenemos mucho salto de linea verdad?"
   ]
  },
  {
   "cell_type": "markdown",
   "metadata": {},
   "source": [
    "Limpia la cadena y elimina los saltos de línea"
   ]
  },
  {
   "cell_type": "code",
   "execution_count": null,
   "metadata": {},
   "outputs": [],
   "source": [
    "texto1 = str(texto.replace('\\n',' '))\n",
    "#type(texto1)\n",
    "texto1"
   ]
  },
  {
   "cell_type": "markdown",
   "metadata": {},
   "source": [
    "Vamos a ver cuales son las palabras más repetidas a lo largo del texto, para ello vamos a crear un diccionario que contenga como clave cada una de las palabras del texto y como valor el número de veces que aparece esa palabra en el texto."
   ]
  },
  {
   "cell_type": "code",
   "execution_count": null,
   "metadata": {},
   "outputs": [],
   "source": [
    "palabras_rep = {}\n",
    "lista_palabras = [i.lower() for i in texto1.split()]\n",
    "\n",
    "for i in lista_palabras:\n",
    "    \n",
    "    palabras_rep[i] = lista_palabras.count(i)\n",
    "    \n",
    "palabras_rep"
   ]
  },
  {
   "cell_type": "markdown",
   "metadata": {},
   "source": [
    "Ahora vamos a ordenar el diccionario por el número de apariciones de mayor a menor, tendremos que investigar un poco como hacerlo."
   ]
  },
  {
   "cell_type": "code",
   "execution_count": null,
   "metadata": {},
   "outputs": [],
   "source": [
    "import operator\n",
    "palabras_rep_ordenado = sorted(palabras_rep.items(), key=operator.itemgetter(1), reverse=True)\n",
    "palabras_rep_ordenado = dict(palabras_rep_ordenado)"
   ]
  },
  {
   "cell_type": "markdown",
   "metadata": {},
   "source": [
    "Crea un nuevo diccionario llamado **top_repeticiones**, que contenga las 15 palabras más repetidas del texto."
   ]
  },
  {
   "cell_type": "code",
   "execution_count": null,
   "metadata": {},
   "outputs": [],
   "source": [
    "top_repeticiones = list(palabras_rep_ordenado.items())[:15]\n",
    "top_repeticiones = dict(top_repeticiones)\n",
    "\n",
    "top_repeticiones"
   ]
  },
  {
   "cell_type": "markdown",
   "metadata": {},
   "source": [
    "El resto de las palabras que no están en el top, las vamos a agrupar en un nuevo diccionario llamado **resto_repeticiones**"
   ]
  },
  {
   "cell_type": "code",
   "execution_count": null,
   "metadata": {},
   "outputs": [],
   "source": [
    "resto_repeticiones = list(palabras_rep_ordenado.items())[15:]\n",
    "resto_repeticiones = dict(resto_repeticiones)\n",
    "resto_repeticiones"
   ]
  },
  {
   "cell_type": "markdown",
   "metadata": {},
   "source": [
    "¿Podrías hacer un bucle que haga los dos pasos anteriores pero en una sola pasada?"
   ]
  },
  {
   "cell_type": "code",
   "execution_count": null,
   "metadata": {},
   "outputs": [],
   "source": [
    "top_repeticiones1 = {}\n",
    "resto_repeticiones1 = {}\n",
    "contador = 0\n",
    "for k, v in palabras_rep_ordenado.items():\n",
    "    if contador < 15:\n",
    "        top_repeticiones1[k] = v\n",
    "        contador += 1\n",
    "    else:\n",
    "        resto_repeticiones1[k] = v\n",
    "top_repeticiones1"
   ]
  },
  {
   "cell_type": "code",
   "execution_count": null,
   "metadata": {},
   "outputs": [],
   "source": [
    "resto_repeticiones1"
   ]
  },
  {
   "cell_type": "markdown",
   "metadata": {},
   "source": [
    "### BONUS 😎😎😎 ***push your limits***"
   ]
  },
  {
   "cell_type": "markdown",
   "metadata": {},
   "source": [
    "Ahora quiero que crees un nuevo diccionario llamado **diccionario_infernal**, en este caso las claves serán las distintas longitudes de las palabras y los values serán tuplas donde el primer elemento sea una lista de palabras de esa longitud y el segundo elemento sea el número de palabras de esa longitud."
   ]
  },
  {
   "cell_type": "code",
   "execution_count": null,
   "metadata": {},
   "outputs": [],
   "source": [
    "palabras_rep_y_long = {}\n",
    "for i in lista_palabras:\n",
    "    \n",
    "    palabras_rep_y_long[i] = (len(i),lista_palabras.count(i))\n",
    "    \n",
    "palabras_rep_y_long  "
   ]
  },
  {
   "cell_type": "markdown",
   "metadata": {},
   "source": [
    "Vamos a cargar de nuevo el texto completo del archivo texto.txt. El reto es que junteis todo el texto del fichero en una sola string que no tenga espacios , ni saltos de línea, ni signos de puntuación si los hubiera. Pero para que se pueda leer bien, vamos a comvertir todas las primeras letras de cada palabra en mayúsculas. ***Ej: \"hola, que tal?\" --> \"HolaQueTal\"*** 😈👿😈"
   ]
  },
  {
   "cell_type": "code",
   "execution_count": null,
   "metadata": {},
   "outputs": [],
   "source": [
    "texto_m = texto1.title()\n",
    "texto_m"
   ]
  },
  {
   "cell_type": "code",
   "execution_count": null,
   "metadata": {},
   "outputs": [],
   "source": [
    "texto_pegado = texto_m.replace(' ','')\n",
    "texto_pegado"
   ]
  },
  {
   "cell_type": "markdown",
   "metadata": {},
   "source": []
  }
 ],
 "metadata": {
  "kernelspec": {
   "display_name": "Python 3 (ipykernel)",
   "language": "python",
   "name": "python3"
  },
  "language_info": {
   "codemirror_mode": {
    "name": "ipython",
    "version": 3
   },
   "file_extension": ".py",
   "mimetype": "text/x-python",
   "name": "python",
   "nbconvert_exporter": "python",
   "pygments_lexer": "ipython3",
   "version": "3.11.2"
  }
 },
 "nbformat": 4,
 "nbformat_minor": 2
}
