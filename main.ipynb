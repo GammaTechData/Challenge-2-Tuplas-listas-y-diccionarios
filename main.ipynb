{
 "cells": [
  {
   "cell_type": "markdown",
   "metadata": {},
   "source": [
    "# TUPLAS , LISTAS y DICCIONARIOS\n",
    "-----"
   ]
  },
  {
   "cell_type": "markdown",
   "metadata": {},
   "source": [
    "### TUPLAS"
   ]
  },
  {
   "cell_type": "markdown",
   "metadata": {},
   "source": [
    "Crea una tupla de un ***solo elemento*** (comma is the key...)"
   ]
  },
  {
   "cell_type": "code",
   "execution_count": 4,
   "metadata": {},
   "outputs": [
    {
     "name": "stdout",
     "output_type": "stream",
     "text": [
      "La tupla de un solo elemento es: ('elemento',)\n"
     ]
    }
   ],
   "source": [
    "#tupla = (algo, otro_algo)\n",
    "#tupla de un elemento = (algo,\"¿nada?\")\n",
    "tupla = ('elemento',)\n",
    "print(f'La tupla de un solo elemento es: {tupla}')"
   ]
  },
  {
   "cell_type": "markdown",
   "metadata": {},
   "source": [
    "Comprueba el tipo de la variable que acabas de crear, debe ser ***tuple***"
   ]
  },
  {
   "cell_type": "code",
   "execution_count": 6,
   "metadata": {},
   "outputs": [
    {
     "name": "stdout",
     "output_type": "stream",
     "text": [
      "El tipo de la variable es: <class 'tuple'>\n"
     ]
    }
   ],
   "source": [
    "print(f'El tipo de la variable es: {type(tupla)}')"
   ]
  },
  {
   "cell_type": "markdown",
   "metadata": {},
   "source": [
    "Añade un elemento a esta tupla de un solo elemento"
   ]
  },
  {
   "cell_type": "code",
   "execution_count": 8,
   "metadata": {},
   "outputs": [
    {
     "name": "stdout",
     "output_type": "stream",
     "text": [
      "Ahora la tupla ('elemento', 'elemento2') se ha convertido en tupla2: ('elemento', 'elemento2', 'elemento2').\n",
      "Tupla2 es un tipo de variable: <class 'tuple'>.\n",
      "\n",
      "Después de hacer list(tupla) sobre ('elemento', 'elemento2'), ahora es: <class 'list'>.\n",
      "He hecho un append y ahora tupla = ['elemento', 'elemento2', 'elemento2'].\n",
      "Pero sigue siendo: <class 'list'>.\n",
      "He cambiado el tipo a tupla para que la tupla ('elemento', 'elemento2', 'elemento2') vuelva a ser del tipo: <class 'tuple'>.\n"
     ]
    }
   ],
   "source": [
    "#Teóricamente no se puede. Una tupla es una estructura inmutable.\n",
    "#No obstante, se me ocurre crear una variable nueva en la que sumar otra tupla:\n",
    "tupla2 = tupla + ('elemento2',)\n",
    "print(f'Ahora la tupla {tupla} se ha convertido en tupla2: {tupla2}.')\n",
    "print(f'Tupla2 es un tipo de variable: {type(tupla2)}.')\n",
    "\n",
    "#También podría convertir la tupla en una lista, añadir un elemento nuevo y volverlo a convertir en tupla:\n",
    "tupla_lista = list(tupla)\n",
    "print(f'\\nDespués de hacer list(tupla) sobre {tupla}, ahora es: {type(tupla_lista)}.')\n",
    "tupla_lista.append('elemento2')\n",
    "print(f'He hecho un append y ahora tupla = {tupla_lista}.')\n",
    "print(f'Pero sigue siendo: {type(tupla_lista)}.')\n",
    "tupla = tuple(tupla_lista)\n",
    "print(f'He cambiado el tipo a tupla para que la tupla {tupla} vuelva a ser del tipo: {type(tupla)}.')\n",
    "\n",
    "#Esto serían dos posibles maneras de trampearlo. En ninguna de las dos puedo hacer el cambio directamente.\n",
    "#O se crea una nueva variable, o se cambia el tipo de estructura para poder añadir elementos y volver al tipo tupla."
   ]
  },
  {
   "cell_type": "markdown",
   "metadata": {},
   "source": [
    "Reasigna \"l\",\"a\",\"s\",\"t\",\"u\",\"p\",\"l\",\"a\",\"s\",\"m\",\"o\",\"l\",\"a\",\"n\" a la tupla que has declarado\n"
   ]
  },
  {
   "cell_type": "code",
   "execution_count": 9,
   "metadata": {},
   "outputs": [
    {
     "name": "stdout",
     "output_type": "stream",
     "text": [
      "Ahora tupla es: ('l', 'a', 's', 't', 'u', 'p', 'l', 'a', 's', 'm', 'o', 'l', 'a', 'n').\n",
      "Es una tupla: <class 'tuple'>.\n"
     ]
    }
   ],
   "source": [
    "#La tupla como tal no se puede modificar.\n",
    "#Al utilizar la variable tupla va a cambiar de manera global los datos que contienen la tupla asignada a esa variable.\n",
    "tupla = (\"l\",\"a\",\"s\",\"t\",\"u\",\"p\",\"l\",\"a\",\"s\",\"m\",\"o\",\"l\",\"a\",\"n\")\n",
    "print(f'Ahora tupla es: {tupla}.')\n",
    "print(f'Es una tupla: {type(tupla)}.')"
   ]
  },
  {
   "cell_type": "markdown",
   "metadata": {},
   "source": [
    "Parte esa tuplas en 3 nuevas (1 por cada palabra)"
   ]
  },
  {
   "cell_type": "code",
   "execution_count": 11,
   "metadata": {},
   "outputs": [
    {
     "name": "stdout",
     "output_type": "stream",
     "text": [
      "Ahora ('l', 'a', 's', 't', 'u', 'p', 'l', 'a', 's', 'm', 'o', 'l', 'a', 'n') se divide en:\n",
      "a) las ('l', 'a', 's') que es tipo: <class 'tuple'>.\n",
      "b) tuplas ('t', 'u', 'p', 'l', 'a', 's') que es tipo: <class 'tuple'>.\n",
      "c) molan ('m', 'o', 'l', 'a', 'n') que es tipo: <class 'tuple'>.\n"
     ]
    }
   ],
   "source": [
    "#con slicing? [inicio:fin]\n",
    "#acaba una posición antes de lo que le marco como fin\n",
    "las = tupla[:3]\n",
    "tuplas = tupla[3:9]\n",
    "molan = tupla[9:]\n",
    "print(f'Ahora {tupla} se divide en:')\n",
    "print(f'a) las {las} que es tipo: {type(las)}.')\n",
    "print(f'b) tuplas {tuplas} que es tipo: {type(tuplas)}.')\n",
    "print(f'c) molan {molan} que es tipo: {type(tuplas)}.')"
   ]
  },
  {
   "cell_type": "markdown",
   "metadata": {},
   "source": [
    "Crea un código que compruebe si el número de elementos en las 3 tuplas juntas es igual a la suma de los elementos dentro de cada tupla"
   ]
  },
  {
   "cell_type": "code",
   "execution_count": 13,
   "metadata": {},
   "outputs": [
    {
     "name": "stdout",
     "output_type": "stream",
     "text": [
      "El número de elementos de tupla es el mismo que el de la suma de los elementos en las tres tuplas.\n"
     ]
    }
   ],
   "source": [
    "#tupla tiene todos los elementos. Creo variable con la cantidad de elementos de tupla\n",
    "todos_elementos = len(tupla)\n",
    "\n",
    "#otra variable con la cantidad de elementos de las 3 tuplas anteriores: las, tuplas, molan\n",
    "tuplas_sumadas = len(las) + len(tuplas) + len(molan)\n",
    "\n",
    "#comparo las dos variables creadas\n",
    "if todos_elementos == tuplas_sumadas:\n",
    "    print(f'El número de elementos de tupla es el mismo que el de la suma de los elementos en las tres tuplas.')\n",
    "else:\n",
    "    print(f'El número de elementos no coincide.')\n"
   ]
  },
  {
   "cell_type": "markdown",
   "metadata": {},
   "source": [
    "Genera una 2 listas (pares e impares), debes recorrer la tupla y añadir los elementos a cada lista en funciónde si su índice es par o impar"
   ]
  },
  {
   "cell_type": "code",
   "execution_count": 15,
   "metadata": {},
   "outputs": [
    {
     "name": "stdout",
     "output_type": "stream",
     "text": [
      "Recuerdo el contenido de la tupla: ('l', 'a', 's', 't', 'u', 'p', 'l', 'a', 's', 'm', 'o', 'l', 'a', 'n').\n",
      "\n",
      "Los elementos pares: ['l', 's', 'u', 'l', 's', 'o', 'a'].\n",
      "Los elementos impares: ['a', 't', 'p', 'a', 'm', 'l', 'n'].\n"
     ]
    }
   ],
   "source": [
    "#Voy a usar la misma tupla:\n",
    "print(f'Recuerdo el contenido de la tupla: {tupla}.')\n",
    "\n",
    "#Creo dos listas vacías:\n",
    "pares = []\n",
    "impares = []\n",
    "\n",
    "#bucle for que recorra cada elemento:\n",
    "for i in range(len(tupla)):\n",
    "    if i % 2 == 0:\n",
    "        pares.append(tupla[i])\n",
    "    else:\n",
    "        impares.append(tupla[i])\n",
    "print(f'\\nLos elementos pares: {pares}.')\n",
    "print(f'Los elementos impares: {impares}.')\n"
   ]
  },
  {
   "cell_type": "markdown",
   "metadata": {},
   "source": [
    "Usa un bucle para comprobar si los elmentos de la lista =[\"n\",\"u\",\"s\",\"l\",\"c\",\"b\",\"x\",\"t\",\"n\"], están presentes en la tupla completa"
   ]
  },
  {
   "cell_type": "code",
   "execution_count": 16,
   "metadata": {},
   "outputs": [
    {
     "name": "stdout",
     "output_type": "stream",
     "text": [
      "La letra n está presente en la tupla completa.\n",
      "La letra u está presente en la tupla completa.\n",
      "La letra s está presente en la tupla completa.\n",
      "La letra l está presente en la tupla completa.\n",
      "La letra c NO está presente en la tupla completa.\n",
      "La letra b NO está presente en la tupla completa.\n",
      "La letra x NO está presente en la tupla completa.\n",
      "La letra t está presente en la tupla completa.\n",
      "La letra n está presente en la tupla completa.\n"
     ]
    }
   ],
   "source": [
    "#Defino la lista de elementos que hay que comprobar:\n",
    "lista = [\"n\",\"u\",\"s\",\"l\",\"c\",\"b\",\"x\",\"t\",\"n\"]\n",
    "\n",
    "#bucle para cada elemento de la lista:\n",
    "for letra in lista:\n",
    "    #condiciones: si está o no\n",
    "    if letra in tupla:\n",
    "        print(f'La letra {letra} está presente en la tupla completa.')\n",
    "    else:\n",
    "        print(f'La letra {letra} NO está presente en la tupla completa.')"
   ]
  },
  {
   "cell_type": "markdown",
   "metadata": {},
   "source": [
    "Saca por pantalla el número de veces que aparece cada elemento de la lista, si no existe el elemento debe mostrar el mensaje \"La letra***nombre_de_la_letra*** no está en la tupla\""
   ]
  },
  {
   "cell_type": "code",
   "execution_count": 19,
   "metadata": {},
   "outputs": [
    {
     "name": "stdout",
     "output_type": "stream",
     "text": [
      "La letra n está presente en la tupla completa 1 vez.\n",
      "La letra u está presente en la tupla completa 1 vez.\n",
      "La letra s está presente en la tupla completa 2 veces.\n",
      "La letra l está presente en la tupla completa 3 veces.\n",
      "La letra c NO está en la tupla.\n",
      "La letra b NO está en la tupla.\n",
      "La letra x NO está en la tupla.\n",
      "La letra t está presente en la tupla completa 1 vez.\n",
      "La letra n está presente en la tupla completa 1 vez.\n"
     ]
    }
   ],
   "source": [
    "#se aprovecha el mismo codigo pero se añade un count dentro del bucle\n",
    "#Defino la lista de elementos que hay que comprobar:\n",
    "lista = [\"n\",\"u\",\"s\",\"l\",\"c\",\"b\",\"x\",\"t\",\"n\"]\n",
    "\n",
    "#bucle para cada elemento de la lista:\n",
    "for letra in lista:\n",
    "    #condiciones: si está o no\n",
    "    if letra in tupla:\n",
    "        #Añado el .count\n",
    "        repeticiones = tupla.count(letra)\n",
    "        if repeticiones == 1:\n",
    "            print(f'La letra {letra} está presente en la tupla completa {repeticiones} vez.')\n",
    "        elif repeticiones > 1:\n",
    "            print(f'La letra {letra} está presente en la tupla completa {repeticiones} veces.')\n",
    "    else:\n",
    "        print(f'La letra {letra} NO está en la tupla.')"
   ]
  },
  {
   "cell_type": "markdown",
   "metadata": {},
   "source": [
    "## SETS"
   ]
  },
  {
   "cell_type": "markdown",
   "metadata": {},
   "source": [
    "Os dejo este pequeño resumen sobre los sets para que lo tengáis a mano durante los ejercicios. ![enlace] (https://www.w3schools.com/python/python_sets.asp)"
   ]
  },
  {
   "cell_type": "markdown",
   "metadata": {},
   "source": [
    "Para esta parte usaremos la libreria *random* que ya hemos visto en clase."
   ]
  },
  {
   "cell_type": "markdown",
   "metadata": {},
   "source": [
    "Crea una lista llamada ***muestra***:\n",
    "- Debe estar compuesta por 80 elementos\n",
    "- Los elementos deben ser enteros entre 0 y 200"
   ]
  },
  {
   "cell_type": "markdown",
   "metadata": {},
   "source": [
    "Pista: random.sample --> [enlace](https://docs.python.org/es/3/library/random.html#random.sample)"
   ]
  },
  {
   "cell_type": "code",
   "execution_count": 23,
   "metadata": {},
   "outputs": [
    {
     "name": "stdout",
     "output_type": "stream",
     "text": [
      "He creado la lista: [11, 135, 77, 91, 93, 80, 174, 7, 86, 137, 106, 127, 100, 158, 97, 58, 195, 101, 163, 47, 126, 130, 54, 40, 173, 105, 171, 162, 185, 119, 9, 33, 51, 154, 16, 129, 45, 71, 146, 178, 131, 85, 5, 168, 193, 111, 94, 189, 184, 64, 66, 170, 124, 90, 30, 188, 49, 144, 84, 61, 57, 145, 6, 186, 88, 136, 10, 166, 117, 159, 60, 167, 4, 103, 110, 95, 26, 125, 161, 41]. \n",
      "  \n",
      "Es del tipo: <class 'list'>.\n"
     ]
    }
   ],
   "source": [
    "import random\n",
    "\n",
    "#El 0 es el primer elemento, hasta 200 hay 201 elementos: range(201)\n",
    "muestra = list(random.sample(range(201), 80))\n",
    "\n",
    "print(f'He creado la lista: {muestra}. \\n  \\nEs del tipo: {type(muestra)}.')\n"
   ]
  },
  {
   "cell_type": "markdown",
   "metadata": {},
   "source": [
    "Convierte tu lista en un set, llámalo set1 y comprueba si tiene el mismo numero de elementos que la lista original"
   ]
  },
  {
   "cell_type": "code",
   "execution_count": 26,
   "metadata": {},
   "outputs": [
    {
     "name": "stdout",
     "output_type": "stream",
     "text": [
      "Ahora el tipo es: <class 'set'>.\n",
      "\n",
      "Ambos tienen el mismo número de elementos: True.\n"
     ]
    }
   ],
   "source": [
    "set1 = set(muestra)\n",
    "print(f'Ahora el tipo es: {type(set1)}.')\n",
    "\n",
    "print(f'\\nAmbos tienen el mismo número de elementos: {len(muestra) == len(set1)}.')"
   ]
  },
  {
   "cell_type": "markdown",
   "metadata": {},
   "source": [
    "Crea una segunda lista de 100 elementos , ahora usa un bucle for junto con la librería random."
   ]
  },
  {
   "cell_type": "code",
   "execution_count": 27,
   "metadata": {},
   "outputs": [
    {
     "name": "stdout",
     "output_type": "stream",
     "text": [
      "[97, 31, 16, 173, 34, 25, 148, 125, 20, 184, 63, 5, 101, 178, 85, 10, 83, 200, 31, 17, 167, 89, 149, 101, 167, 133, 79, 55, 125, 42, 14, 23, 72, 163, 191, 58, 58, 89, 66, 112, 38, 24, 25, 197, 49, 152, 100, 25, 110, 89, 69, 22, 73, 15, 162, 191, 162, 126, 111, 175, 186, 98, 185, 51, 165, 115, 11, 103, 129, 34, 5, 13, 177, 197, 116, 123, 181, 89, 25, 138, 139, 36, 125, 107, 171, 0, 47, 83, 180, 45, 192, 106, 17, 34, 167, 125, 3, 125, 82, 152]\n"
     ]
    }
   ],
   "source": [
    "#creo una lista vacía\n",
    "muestra100 = []\n",
    "\n",
    "#bucle con un append, random.randint: suponiendo que tienen que ser 100 elementos aleatorios de entre 200\n",
    "for i in range(100):\n",
    "    muestra100.append(random.randint(0, 200))\n",
    "\n",
    "print(muestra100)\n",
    "    "
   ]
  },
  {
   "cell_type": "markdown",
   "metadata": {},
   "source": [
    "Convierte la segunda lista en un set y llámalo set2, compruba su loongitud"
   ]
  },
  {
   "cell_type": "code",
   "execution_count": 35,
   "metadata": {},
   "outputs": [
    {
     "name": "stdout",
     "output_type": "stream",
     "text": [
      "La lista muestra100 es: [97, 31, 16, 173, 34, 25, 148, 125, 20, 184, 63, 5, 101, 178, 85, 10, 83, 200, 31, 17, 167, 89, 149, 101, 167, 133, 79, 55, 125, 42, 14, 23, 72, 163, 191, 58, 58, 89, 66, 112, 38, 24, 25, 197, 49, 152, 100, 25, 110, 89, 69, 22, 73, 15, 162, 191, 162, 126, 111, 175, 186, 98, 185, 51, 165, 115, 11, 103, 129, 34, 5, 13, 177, 197, 116, 123, 181, 89, 25, 138, 139, 36, 125, 107, 171, 0, 47, 83, 180, 45, 192, 106, 17, 34, 167, 125, 3, 125, 82, 152]. \n",
      "Tiene 100 elementos.\n",
      "\n",
      "Ahora muestra100 pasa de ser <class 'list'> a ser <class 'set'>.\n",
      "\n",
      "El set set2 es: {0, 129, 3, 5, 133, 10, 11, 138, 13, 14, 15, 16, 17, 139, 148, 20, 149, 23, 24, 25, 152, 22, 31, 34, 163, 162, 165, 38, 167, 36, 42, 171, 173, 45, 175, 47, 49, 178, 51, 177, 181, 180, 55, 184, 185, 58, 186, 63, 191, 192, 66, 197, 69, 200, 72, 73, 79, 82, 83, 85, 89, 97, 98, 100, 101, 103, 106, 107, 110, 111, 112, 115, 116, 123, 125, 126}.\n",
      "\n",
      "La longitud de set2 es de 76 elementos y es la misma que muestra100: False.\n",
      "\n",
      "No coinciden la cantidad de elementos porque la lista contempla elementos repetidos. \n",
      "El set no.\n"
     ]
    }
   ],
   "source": [
    "set2 = set(muestra100)\n",
    "print(f'La lista muestra100 es: {muestra100}. \\nTiene {len(muestra100)} elementos.')\n",
    "print(f'\\nAhora muestra100 pasa de ser {type(muestra100)} a ser {type(set2)}.')\n",
    "print(f'\\nEl set set2 es: {set2}.')\n",
    "print(f'\\nLa longitud de set2 es de {len(set2)} elementos y es la misma que muestra100: {len(muestra100) == len(set2)}.')\n",
    "print(f'\\nNo coinciden la cantidad de elementos porque la lista contempla elementos repetidos. \\nEl set no.')"
   ]
  },
  {
   "cell_type": "markdown",
   "metadata": {},
   "source": [
    "Crea un nuevo set3 compuesto por los elementos que son comunes en set1 y set2"
   ]
  },
  {
   "cell_type": "code",
   "execution_count": 36,
   "metadata": {},
   "outputs": [
    {
     "name": "stdout",
     "output_type": "stream",
     "text": [
      "Los elementos comunes en set1 y set2 son: {129, 5, 10, 11, 16, 162, 163, 167, 171, 173, 45, 47, 49, 178, 51, 184, 185, 186, 58, 66, 85, 97, 100, 101, 103, 106, 110, 111, 125, 126}.\n"
     ]
    }
   ],
   "source": [
    "#elementos comunes: intersección &\n",
    "set3 = set1 & set2\n",
    "print(f'Los elementos comunes en set1 y set2 son: {set3}.')"
   ]
  },
  {
   "cell_type": "markdown",
   "metadata": {},
   "source": [
    "Crea un set4 compuesto por lo elementos que están en set1 pero no en set2"
   ]
  },
  {
   "cell_type": "code",
   "execution_count": 37,
   "metadata": {},
   "outputs": [
    {
     "name": "stdout",
     "output_type": "stream",
     "text": [
      "Los elementos que están en set1 pero no en set2 son: {130, 131, 4, 6, 7, 135, 9, 136, 137, 144, 145, 146, 26, 154, 30, 158, 159, 33, 161, 166, 40, 41, 168, 170, 174, 54, 57, 60, 61, 188, 189, 64, 193, 195, 71, 77, 80, 84, 86, 88, 90, 91, 93, 94, 95, 105, 117, 119, 124, 127}.\n"
     ]
    }
   ],
   "source": [
    "#diferencia entre sets -\n",
    "set4 = set1 - set2\n",
    "print(f'Los elementos que están en set1 pero no en set2 son: {set4}.')"
   ]
  },
  {
   "cell_type": "markdown",
   "metadata": {},
   "source": [
    "Crea un set vacío llamado set5, añade los elementos de set1 y set3 a este nuevo set usando los métodos de los sets"
   ]
  },
  {
   "cell_type": "code",
   "execution_count": 40,
   "metadata": {},
   "outputs": [
    {
     "name": "stdout",
     "output_type": "stream",
     "text": [
      "La unión de los sets 1 y 3 al set5 es: {4, 5, 6, 7, 9, 10, 11, 16, 26, 30, 33, 40, 41, 45, 47, 49, 51, 54, 57, 58, 60, 61, 64, 66, 71, 77, 80, 84, 85, 86, 88, 90, 91, 93, 94, 95, 97, 100, 101, 103, 105, 106, 110, 111, 117, 119, 124, 125, 126, 127, 129, 130, 131, 135, 136, 137, 144, 145, 146, 154, 158, 159, 161, 162, 163, 166, 167, 168, 170, 171, 173, 174, 178, 184, 185, 186, 188, 189, 193, 195}.\n",
      "\n",
      "Al set5 vacío se le ha actualizado la información añadiendo set1 y set3. \n",
      "Ahora set5 es: {4, 5, 6, 7, 9, 10, 11, 16, 26, 30, 33, 40, 41, 45, 47, 49, 51, 54, 57, 58, 60, 61, 64, 66, 71, 77, 80, 84, 85, 86, 88, 90, 91, 93, 94, 95, 97, 100, 101, 103, 105, 106, 110, 111, 117, 119, 124, 125, 126, 127, 129, 130, 131, 135, 136, 137, 144, 145, 146, 154, 158, 159, 161, 162, 163, 166, 167, 168, 170, 171, 173, 174, 178, 184, 185, 186, 188, 189, 193, 195}.\n"
     ]
    }
   ],
   "source": [
    "#se podría hacer sumando, pero el método es .union\n",
    "set5 = set1.union(set3)\n",
    "print(f'La unión de los sets 1 y 3 al set5 es: {set5}.')\n",
    "      \n",
    "#también se puede hacer con el método .update\n",
    "#primero creo el set vacío\n",
    "set5 = set()\n",
    "\n",
    "#ahora hago updates:\n",
    "set5.update(set1)\n",
    "set5.update(set3)\n",
    "\n",
    "print(f'\\nAl set5 vacío se le ha actualizado la información añadiendo set1 y set3. \\nAhora set5 es: {set5}.')"
   ]
  },
  {
   "cell_type": "markdown",
   "metadata": {},
   "source": [
    "Compruba si el set1 contiene al set2"
   ]
  },
  {
   "cell_type": "code",
   "execution_count": 42,
   "metadata": {},
   "outputs": [
    {
     "name": "stdout",
     "output_type": "stream",
     "text": [
      "El set1 NO contiene al set2.\n"
     ]
    }
   ],
   "source": [
    "#metodo .issubset o <=\n",
    "if set2.issubset(set1):\n",
    "    print(f'El set1 contiene al set2.')\n",
    "else: \n",
    "    print(f'El set1 NO contiene al set2.')"
   ]
  },
  {
   "cell_type": "code",
   "execution_count": 44,
   "metadata": {},
   "outputs": [
    {
     "name": "stdout",
     "output_type": "stream",
     "text": [
      "El set1 NO contiene al set2.\n"
     ]
    }
   ],
   "source": [
    "if set2 <= set1:\n",
    "    print(f'El set1 contiene al set2.')\n",
    "else: \n",
    "    print(f'El set1 NO contiene al set2.')\n",
    "    \n",
    "#se puede hacer con .superset ó >= cambiando los sets de lugar:\n",
    "    #if set1.issuperset(set2):\n",
    "    #if set1 >= set2:"
   ]
  },
  {
   "cell_type": "markdown",
   "metadata": {},
   "source": [
    "Tomando como referencia esta lista = [1, 9, 11, 19, 21, 29, 31, 39, 41, 49, 51, 59, 61, 69, 71, 79, 81, 89, 91, 99], elimina los elementos del set5 que están en la lista."
   ]
  },
  {
   "cell_type": "code",
   "execution_count": 46,
   "metadata": {},
   "outputs": [
    {
     "name": "stdout",
     "output_type": "stream",
     "text": [
      "Ahora set5 es: {129, 130, 131, 4, 5, 6, 7, 135, 136, 10, 137, 16, 144, 145, 146, 154, 26, 158, 30, 159, 33, 161, 162, 163, 166, 167, 40, 168, 170, 171, 45, 173, 47, 174, 178, 54, 184, 57, 58, 185, 60, 186, 188, 189, 64, 193, 66, 195, 77, 80, 84, 85, 86, 88, 90, 93, 94, 95, 97, 100, 101, 103, 105, 106, 110, 111, 117, 119, 124, 125, 126, 127}.\n"
     ]
    }
   ],
   "source": [
    "#si cojo la lista y la convierto en un set puedo hacer la resta\n",
    "lista = [1, 9, 11, 19, 21, 29, 31, 39, 41, 49, 51, 59, 61, 69, 71, 79, 81, 89, 91, 99]\n",
    "\n",
    "set5 = set5 - set(lista)\n",
    "print(f'Ahora set5 es: {set5}.')"
   ]
  },
  {
   "cell_type": "markdown",
   "metadata": {},
   "source": [
    "Elimina los elementos del set3, que están en la lista del ejemplo anterior, pero que no están en el set1"
   ]
  },
  {
   "cell_type": "code",
   "execution_count": 47,
   "metadata": {},
   "outputs": [
    {
     "name": "stdout",
     "output_type": "stream",
     "text": [
      "Ahora set3 con los elementos quitados tiene los siguientes elementos: {129, 66, 5, 10, 11, 16, 85, 97, 162, 163, 58, 100, 101, 167, 103, 106, 171, 173, 45, 47, 110, 49, 178, 51, 111, 184, 185, 186, 125, 126}.\n"
     ]
    }
   ],
   "source": [
    "#Intersección entre set3 y la lista, para tener los elementos comunes entre set3 y lista:\n",
    "comun = set3 & set(lista)\n",
    "\n",
    "#que no estén en el set1. Quito a comun el set1:\n",
    "sin_set1 = comun - set1\n",
    "\n",
    "#ahora a set3 le puedo quitar los elementos comunes sin elementos de set1:\n",
    "set3 = set3 - sin_set1\n",
    "\n",
    "print(f'Ahora set3 con los elementos quitados tiene los siguientes elementos: {set3}.')"
   ]
  },
  {
   "cell_type": "markdown",
   "metadata": {},
   "source": [
    "## DICCIONARIOS"
   ]
  },
  {
   "cell_type": "markdown",
   "metadata": {},
   "source": [
    "Para el ejercicio lo primero vamos a cargar en una variable llamada **texto** el contenido del archivo \"texto.txt\" que os he dejado en el repositorio."
   ]
  },
  {
   "cell_type": "code",
   "execution_count": 93,
   "metadata": {},
   "outputs": [],
   "source": [
    "contenido = open(\"texto.txt\", \"r\") #abre el archivo en modo lectura\n",
    "texto = contenido.read() #lee el archivo y lo guarda en la variable texto"
   ]
  },
  {
   "cell_type": "code",
   "execution_count": 94,
   "metadata": {},
   "outputs": [
    {
     "name": "stdout",
     "output_type": "stream",
     "text": [
      "Ya suenan los tambores\n",
      "Siente la vibración\n",
      "Son niños de las flores\n",
      "Es la revolución\n",
      "Verano del amor\n",
      "Y un cóctel molotov\n",
      "Verano del amor\n",
      "Y un cóctel molotov\n",
      "Ya suenan los tambores\n",
      "Siente la vibración\n",
      "Son niños de las flores\n",
      "Es la revolución\n",
      "Verano del amor\n",
      "Y un cóctel molotov\n",
      "Verano del amor\n",
      "Y un cóctel molotov\n",
      "Mi sonrisa ondea en son de paz\n",
      "Aunque propios y extraños me miren mal\n",
      "Genera tanta luz\n",
      "Que suele deslumbrar\n",
      "Aunque haya subido el nivel del mar\n",
      "Y está retrocediendo otro glaciar\n",
      "A ellos les va bien\n",
      "Y siguen dando gas\n",
      "Disfrutan del otoño tropical\n",
      "Están en la playita y les parece genial\n",
      "Este calor no es normal\n",
      "Están morenos del calentamiento global\n",
      "Ya suenan los tambores\n",
      "Siente la vibración\n",
      "Son niños de las flores\n",
      "Es la revolución\n",
      "Verano del amor\n",
      "Y un cóctel molotov\n",
      "Verano del amor\n",
      "Y un cóctel molotov\n",
      "Yo no soy violento, ya lo sabéis\n",
      "Pero estoy tan cansado de que no escuchéis\n",
      "Que empiezo a dudar\n",
      "No sé muy bien qué hacer\n",
      "Se abren paragüas en Hong Kong\n",
      "En Chile, en Bolivia, en Ecuador\n",
      "Con fuegos de pasión y de contenedor\n",
      "Y aportarán paz y amor\n",
      "Aquí lo que hace falta es un poco de acción\n",
      "Hay que elegir con convicción\n",
      "El lado de la historia en que estaremos tú y yo\n",
      "Ya suenan los tambores\n",
      "Siente la vibración\n",
      "Son niños de las flores\n",
      "Es la revolución\n",
      "Verano del amor\n",
      "Y un cóctel molotov\n",
      "Verano del amor\n",
      "Y un cóctel molotov\n",
      "Basta ya\n",
      "Mis palabras se han vuelto adoquines\n",
      "¿Dónde estás?\n",
      "Han llegado antidisturbios\n",
      "Con gases, con escudos\n",
      "Y como vas tapada no te puedo encontrar\n",
      "Ya suenan los tambores\n",
      "Siente la vibración\n",
      "Son niños de las flores\n",
      "Es la revolución\n",
      "Verano del amor\n",
      "Y un cóctel molotov\n",
      "Verano del amor\n",
      "Y un cóctel molotov\n",
      "Ya suenan los tambores\n",
      "Siente la vibración\n",
      "Son niños de las flores\n",
      "Es la revolución\n",
      "Verano del amor\n",
      "Y un cóctel molotov\n",
      "Verano del amor\n",
      "Y un cóctel molotov\n",
      "Ya suenan los tambores\n",
      "Siente la vibración\n",
      "Son niños de las flores\n",
      "Es la revolución\n",
      "Verano del amor\n",
      "Y un cóctel molotov\n",
      "Verano del amor\n",
      "Y un cóctel molotov\n",
      "Ya suenan los tambores\n",
      "Siente la vibración\n",
      "Son niños de las flores\n",
      "Es la revolución\n",
      "Verano del amor\n",
      "Y un cóctel molotov\n",
      "Verano del amor\n",
      "Y un cóctel molotov\n"
     ]
    }
   ],
   "source": [
    "print(texto)"
   ]
  },
  {
   "cell_type": "markdown",
   "metadata": {},
   "source": [
    "Nuestra variable tienen el contenido del archivo y si hacemos un print, parece que está todo ok....pero no."
   ]
  },
  {
   "cell_type": "code",
   "execution_count": 50,
   "metadata": {},
   "outputs": [
    {
     "data": {
      "text/plain": [
       "str"
      ]
     },
     "execution_count": 50,
     "metadata": {},
     "output_type": "execute_result"
    }
   ],
   "source": [
    "type(texto)"
   ]
  },
  {
   "cell_type": "markdown",
   "metadata": {},
   "source": [
    "Es una string.\n",
    "Veamos como es realmente:"
   ]
  },
  {
   "cell_type": "code",
   "execution_count": 51,
   "metadata": {},
   "outputs": [
    {
     "data": {
      "text/plain": [
       "'Ya suenan los tambores\\nSiente la vibración\\nSon niños de las flores\\nEs la revolución\\nVerano del amor\\n'"
      ]
     },
     "execution_count": 51,
     "metadata": {},
     "output_type": "execute_result"
    }
   ],
   "source": [
    "texto[:100] #imprime los primeros 100 caracteres del texto, tenemos mucho salto de linea verdad?"
   ]
  },
  {
   "cell_type": "markdown",
   "metadata": {},
   "source": [
    "Limpia la cadena y elimina los saltos de línea"
   ]
  },
  {
   "cell_type": "code",
   "execution_count": 95,
   "metadata": {},
   "outputs": [
    {
     "name": "stdout",
     "output_type": "stream",
     "text": [
      "Ya suenan los tambores\n",
      "Siente la vibración\n",
      "Son niños de las flores\n",
      "Es la revolución\n",
      "Verano del amor\n",
      "\n"
     ]
    }
   ],
   "source": [
    "#reemplaza los saltos de linea por espacios, si lo cambiaras por nada, se eliminarian, y estaríamos juntando palabras OJO!\n",
    "texto.replace('\\n', ' ')\n",
    "print(texto[:100])"
   ]
  },
  {
   "cell_type": "markdown",
   "metadata": {},
   "source": [
    "Vamos a ver cuales son las palabras más repetidas a lo largo del texto, para ello vamos a crear un diccionario que contenga como clave cada una de las palabras del texto y como valor el número de veces que aparece esa palabra en el texto."
   ]
  },
  {
   "cell_type": "code",
   "execution_count": 96,
   "metadata": {},
   "outputs": [
    {
     "name": "stdout",
     "output_type": "stream",
     "text": [
      "El diccionario es: {'gases': 1, 'aunque': 2, 'tan': 1, 'dando': 1, 'va': 1, 'no': 5, 'historia': 1, 'cansado': 1, 'calor': 1, 'bolivia': 1, 'son': 9, 'ya': 10, 'global': 1, 'aportarán': 1, 'pasión': 1, 'fuegos': 1, 'propios': 1, 'estoy': 1, 'extraños': 1, 'suenan': 8, 'vas': 1, 'verano': 16, 'acción': 1, 'dónde': 1, 'suele': 1, 'retrocediendo': 1, 'lado': 1, 'mar': 1, 'hong': 1, 'encontrar': 1, 'violento': 1, 'gas': 1, 'paragüas': 1, 'del': 19, 'siente': 8, 'nivel': 1, 'tambores': 8, 'genial': 1, 'calentamiento': 1, 'paz': 2, 'mi': 1, 'genera': 1, 'poco': 1, 'revolución': 8, 'el': 2, 'adoquines': 1, 'mal': 1, 'están': 2, 'vuelto': 1, 'con': 4, 'palabras': 1, 'les': 2, 'ecuador': 1, 'ondea': 1, 'subido': 1, 'tanta': 1, 'flores': 8, 'siguen': 1, 'bien': 2, 'elegir': 1, 'la': 18, 'normal': 1, 'que': 6, 'empiezo': 1, 'hay': 1, 'las': 8, 'está': 1, 'contenedor': 1, 'vibración': 8, 'mis': 1, 'de': 14, 'me': 1, 'y': 25, 'muy': 1, 'escudos': 1, 'amor': 17, 'miren': 1, 'morenos': 1, 'sé': 1, 'en': 7, 'se': 2, 'estaremos': 1, 'cóctel': 16, 'parece': 1, 'haya': 1, 'basta': 1, 'tropical': 1, 'hace': 1, 'sonrisa': 1, 'convicción': 1, 'chile': 1, 'aquí': 1, 'un': 17, 'estás': 1, 'otoño': 1, 'antidisturbios': 1, 'sabéis': 1, 'molotov': 16, 'soy': 1, 'niños': 8, 'yo': 2, 'puedo': 1, 'luz': 1, 'glaciar': 1, 'kong': 1, 'qué': 1, 'este': 1, 'deslumbrar': 1, 'escuchéis': 1, 'abren': 1, 'los': 8, 'tapada': 1, 'llegado': 1, 'lo': 2, 'ellos': 1, 'playita': 1, 'pero': 1, 'falta': 1, 'disfrutan': 1, 'te': 1, 'dudar': 1, 'a': 2, 'han': 2, 'hacer': 1, 'otro': 1, 'como': 1, 'es': 10, 'tú': 1}. \n",
      " \n",
      "Efectivamente su tipo es: <class 'dict'>.\n"
     ]
    }
   ],
   "source": [
    "#diccionario vacío de conteo, no lo necesito ahora que he llegado al final\n",
    "#cuenta_palabras = {} /// pensaba que lo iba a necesitar vacío, finalmente no es así\n",
    "\n",
    "#tengo que eliminar los caracteres especiales:\n",
    "caracteres_especiales = ['.', ',', '¡','!','¿','?','(',')','[',']','{','}',';',':','-', '\"' , '\"']\n",
    "for caracter in caracteres_especiales:\n",
    "    texto = texto.replace(caracter, ' ')\n",
    "\n",
    "#python case_sensitive. Pasar todo el texto a minúsculas\n",
    "texto = texto.lower()\n",
    "\n",
    "#crear lista de palabras:\n",
    "palabras = texto.split()\n",
    "\n",
    "#no quiero contar sobre una lista con palabras repetidas, lo paso a set\n",
    "set_palabras = set(palabras)\n",
    "\n",
    "#vuelvo a pasar set_palabras a lista:\n",
    "set_palabras = list(set_palabras)\n",
    "\n",
    "palabra_veces = []\n",
    "\n",
    "for palabra in set_palabras:\n",
    "    palabra_veces.append((palabra, palabras.count(palabra)))\n",
    "\n",
    "#ahora palabra_veces es lista de tuplas. dict() me lo convertirá en diccionario\n",
    "cuenta_palabras = dict(palabra_veces)\n",
    "print(f'El diccionario es: {cuenta_palabras}. \\n \\nEfectivamente su tipo es: {type(cuenta_palabras)}.')\n",
    "\n"
   ]
  },
  {
   "cell_type": "markdown",
   "metadata": {},
   "source": [
    "Ahora vamos a ordenar el diccionario por el número de apariciones de mayor a menor, tendremos que investigar un poco como hacerlo."
   ]
  },
  {
   "cell_type": "code",
   "execution_count": 67,
   "metadata": {},
   "outputs": [
    {
     "name": "stdout",
     "output_type": "stream",
     "text": [
      "Diccionario ordenado: {'y': 25, 'del': 19, 'la': 18, 'amor': 17, 'un': 17, 'verano': 16, 'cóctel': 16, 'molotov': 16, 'de': 14, 'ya': 10, 'es': 10, 'son': 9, 'suenan': 8, 'siente': 8, 'tambores': 8, 'revolución': 8, 'flores': 8, 'las': 8, 'vibración': 8, 'niños': 8, 'los': 8, 'en': 7, 'que': 6, 'no': 5, 'con': 4, 'aunque': 2, 'paz': 2, 'el': 2, 'están': 2, 'les': 2, 'bien': 2, 'se': 2, 'yo': 2, 'lo': 2, 'a': 2, 'han': 2, 'gases': 1, 'tan': 1, 'dando': 1, 'va': 1, 'historia': 1, 'cansado': 1, 'calor': 1, 'bolivia': 1, 'global': 1, 'aportarán': 1, 'pasión': 1, 'fuegos': 1, 'propios': 1, 'estoy': 1, 'extraños': 1, 'vas': 1, 'acción': 1, 'dónde': 1, 'suele': 1, 'retrocediendo': 1, 'lado': 1, 'mar': 1, 'hong': 1, 'encontrar': 1, 'violento': 1, 'gas': 1, 'paragüas': 1, 'nivel': 1, 'genial': 1, 'calentamiento': 1, 'mi': 1, 'genera': 1, 'poco': 1, 'adoquines': 1, 'mal': 1, 'vuelto': 1, 'palabras': 1, 'ecuador': 1, 'ondea': 1, 'subido': 1, 'tanta': 1, 'siguen': 1, 'elegir': 1, 'normal': 1, 'empiezo': 1, 'hay': 1, 'está': 1, 'contenedor': 1, 'mis': 1, 'me': 1, 'muy': 1, 'escudos': 1, 'miren': 1, 'morenos': 1, 'sé': 1, 'estaremos': 1, 'parece': 1, 'haya': 1, 'basta': 1, 'tropical': 1, 'hace': 1, 'sonrisa': 1, 'convicción': 1, 'chile': 1, 'aquí': 1, 'estás': 1, 'otoño': 1, 'antidisturbios': 1, 'sabéis': 1, 'soy': 1, 'puedo': 1, 'luz': 1, 'glaciar': 1, 'kong': 1, 'qué': 1, 'este': 1, 'deslumbrar': 1, 'escuchéis': 1, 'abren': 1, 'tapada': 1, 'llegado': 1, 'ellos': 1, 'playita': 1, 'pero': 1, 'falta': 1, 'disfrutan': 1, 'te': 1, 'dudar': 1, 'hacer': 1, 'otro': 1, 'como': 1, 'tú': 1}.\n"
     ]
    }
   ],
   "source": [
    "#metodo sorted(), lambda, visto en clase, reverse = True para orden DESC\n",
    "cuenta_palabras_ord = sorted(cuenta_palabras.items(), key = lambda x: x[1], reverse = True)\n",
    "\n",
    "#lo devuelvo a su tipo diccionario\n",
    "cuenta_palabras = dict(cuenta_palabras_ord)\n",
    "print(f'Diccionario ordenado: {cuenta_palabras}.')"
   ]
  },
  {
   "cell_type": "markdown",
   "metadata": {},
   "source": [
    "Crea un nuevo diccionario llamado **top_repeticiones**, que contenga las 15 palabras más repetidas del texto."
   ]
  },
  {
   "cell_type": "code",
   "execution_count": 70,
   "metadata": {},
   "outputs": [
    {
     "name": "stdout",
     "output_type": "stream",
     "text": [
      "El diccionario con las 15 primeras palabras es: {'y': 25, 'del': 19, 'la': 18, 'amor': 17, 'un': 17, 'verano': 16, 'cóctel': 16, 'molotov': 16, 'de': 14, 'ya': 10, 'es': 10, 'son': 9, 'suenan': 8, 'siente': 8, 'tambores': 8}.\n"
     ]
    }
   ],
   "source": [
    "#coger los primeros 15 elementos [:15]\n",
    "top15_palabras = cuenta_palabras_ord[:15]\n",
    "\n",
    "#lo paso a diccionario:\n",
    "top_repeticiones = dict(top15_palabras)\n",
    "\n",
    "print(f'El diccionario con las 15 primeras palabras es: {top_repeticiones}.')"
   ]
  },
  {
   "cell_type": "markdown",
   "metadata": {},
   "source": [
    "El resto de las palabras que no están en el top, las vamos a agrupar en un nuevo diccionario llamado **resto_repeticiones**"
   ]
  },
  {
   "cell_type": "code",
   "execution_count": 71,
   "metadata": {},
   "outputs": [
    {
     "name": "stdout",
     "output_type": "stream",
     "text": [
      "El diccionario de las palabras que no están en el top15 es: {'revolución': 8, 'flores': 8, 'las': 8, 'vibración': 8, 'niños': 8, 'los': 8, 'en': 7, 'que': 6, 'no': 5, 'con': 4, 'aunque': 2, 'paz': 2, 'el': 2, 'están': 2, 'les': 2, 'bien': 2, 'se': 2, 'yo': 2, 'lo': 2, 'a': 2, 'han': 2, 'gases': 1, 'tan': 1, 'dando': 1, 'va': 1, 'historia': 1, 'cansado': 1, 'calor': 1, 'bolivia': 1, 'global': 1, 'aportarán': 1, 'pasión': 1, 'fuegos': 1, 'propios': 1, 'estoy': 1, 'extraños': 1, 'vas': 1, 'acción': 1, 'dónde': 1, 'suele': 1, 'retrocediendo': 1, 'lado': 1, 'mar': 1, 'hong': 1, 'encontrar': 1, 'violento': 1, 'gas': 1, 'paragüas': 1, 'nivel': 1, 'genial': 1, 'calentamiento': 1, 'mi': 1, 'genera': 1, 'poco': 1, 'adoquines': 1, 'mal': 1, 'vuelto': 1, 'palabras': 1, 'ecuador': 1, 'ondea': 1, 'subido': 1, 'tanta': 1, 'siguen': 1, 'elegir': 1, 'normal': 1, 'empiezo': 1, 'hay': 1, 'está': 1, 'contenedor': 1, 'mis': 1, 'me': 1, 'muy': 1, 'escudos': 1, 'miren': 1, 'morenos': 1, 'sé': 1, 'estaremos': 1, 'parece': 1, 'haya': 1, 'basta': 1, 'tropical': 1, 'hace': 1, 'sonrisa': 1, 'convicción': 1, 'chile': 1, 'aquí': 1, 'estás': 1, 'otoño': 1, 'antidisturbios': 1, 'sabéis': 1, 'soy': 1, 'puedo': 1, 'luz': 1, 'glaciar': 1, 'kong': 1, 'qué': 1, 'este': 1, 'deslumbrar': 1, 'escuchéis': 1, 'abren': 1, 'tapada': 1, 'llegado': 1, 'ellos': 1, 'playita': 1, 'pero': 1, 'falta': 1, 'disfrutan': 1, 'te': 1, 'dudar': 1, 'hacer': 1, 'otro': 1, 'como': 1, 'tú': 1}.\n"
     ]
    }
   ],
   "source": [
    "#hago diccionario vacío:\n",
    "resto_repeticiones = {}\n",
    "\n",
    "#bucle for de los apuntes for k,v in dict.item()\n",
    "for palabra, cuenta in cuenta_palabras.items():\n",
    "    if palabra not in top_repeticiones:\n",
    "        resto_repeticiones[palabra] = cuenta\n",
    "\n",
    "print(f'El diccionario de las palabras que no están en el top15 es: {resto_repeticiones}.')"
   ]
  },
  {
   "cell_type": "markdown",
   "metadata": {},
   "source": [
    "¿Podrías hacer un bucle que haga los dos pasos anteriores pero en una sola pasada?"
   ]
  },
  {
   "cell_type": "code",
   "execution_count": 74,
   "metadata": {},
   "outputs": [
    {
     "name": "stdout",
     "output_type": "stream",
     "text": [
      "El diccionario top_repeticiones es: {'y': 25, 'del': 19, 'la': 18, 'amor': 17, 'un': 17, 'verano': 16, 'cóctel': 16, 'molotov': 16, 'de': 14, 'ya': 10, 'es': 10, 'son': 9, 'suenan': 8, 'siente': 8, 'tambores': 8}.\n",
      "\n",
      " \n",
      "El diccionario resto_repeticiones es: {'revolución': 8, 'flores': 8, 'las': 8, 'vibración': 8, 'niños': 8, 'los': 8, 'en': 7, 'que': 6, 'no': 5, 'con': 4, 'aunque': 2, 'paz': 2, 'el': 2, 'están': 2, 'les': 2, 'bien': 2, 'se': 2, 'yo': 2, 'lo': 2, 'a': 2, 'han': 2, 'gases': 1, 'tan': 1, 'dando': 1, 'va': 1, 'historia': 1, 'cansado': 1, 'calor': 1, 'bolivia': 1, 'global': 1, 'aportarán': 1, 'pasión': 1, 'fuegos': 1, 'propios': 1, 'estoy': 1, 'extraños': 1, 'vas': 1, 'acción': 1, 'dónde': 1, 'suele': 1, 'retrocediendo': 1, 'lado': 1, 'mar': 1, 'hong': 1, 'encontrar': 1, 'violento': 1, 'gas': 1, 'paragüas': 1, 'nivel': 1, 'genial': 1, 'calentamiento': 1, 'mi': 1, 'genera': 1, 'poco': 1, 'adoquines': 1, 'mal': 1, 'vuelto': 1, 'palabras': 1, 'ecuador': 1, 'ondea': 1, 'subido': 1, 'tanta': 1, 'siguen': 1, 'elegir': 1, 'normal': 1, 'empiezo': 1, 'hay': 1, 'está': 1, 'contenedor': 1, 'mis': 1, 'me': 1, 'muy': 1, 'escudos': 1, 'miren': 1, 'morenos': 1, 'sé': 1, 'estaremos': 1, 'parece': 1, 'haya': 1, 'basta': 1, 'tropical': 1, 'hace': 1, 'sonrisa': 1, 'convicción': 1, 'chile': 1, 'aquí': 1, 'estás': 1, 'otoño': 1, 'antidisturbios': 1, 'sabéis': 1, 'soy': 1, 'puedo': 1, 'luz': 1, 'glaciar': 1, 'kong': 1, 'qué': 1, 'este': 1, 'deslumbrar': 1, 'escuchéis': 1, 'abren': 1, 'tapada': 1, 'llegado': 1, 'ellos': 1, 'playita': 1, 'pero': 1, 'falta': 1, 'disfrutan': 1, 'te': 1, 'dudar': 1, 'hacer': 1, 'otro': 1, 'como': 1, 'tú': 1}.\n",
      "\n",
      " \n",
      "Comprobación que han quedado igual los top_repeticiones: True.\n",
      "\n",
      "Comprobación que han quedado igual los resto_repeticiones: True.\n"
     ]
    }
   ],
   "source": [
    "#necesito hacerlo con un bucle, con lo cual ambos diccionarios deberán estar vacíos:\n",
    "top_repeticiones2 = {}\n",
    "resto_repeticiones2 = {}\n",
    "\n",
    "#bucle con la condición de que top_repeticiones tiene como máximo 15 keys\n",
    "for palabra, cuenta in cuenta_palabras.items():\n",
    "    if len(top_repeticiones2) < 15:\n",
    "        top_repeticiones2[palabra] = cuenta\n",
    "    else:\n",
    "        resto_repeticiones2[palabra] = cuenta\n",
    "\n",
    "print(f'El diccionario top_repeticiones es: {top_repeticiones2}.')\n",
    "print(f'\\n \\nEl diccionario resto_repeticiones es: {resto_repeticiones2}.')\n",
    "print(f'\\n \\nComprobación que han quedado igual los top_repeticiones: {top_repeticiones == top_repeticiones2}.')\n",
    "print(f'\\nComprobación que han quedado igual los resto_repeticiones: {resto_repeticiones == resto_repeticiones2}.')"
   ]
  },
  {
   "cell_type": "markdown",
   "metadata": {},
   "source": [
    "### BONUS 😎😎😎 ***push your limits***"
   ]
  },
  {
   "cell_type": "markdown",
   "metadata": {},
   "source": [
    "Ahora quiero que crees un nuevo diccionario llamado **diccionario_infernal**, en este caso las claves serán las distintas longitudes de las palabras y los values serán tuplas donde el primer elemento sea una lista de palabras de esa longitud y el segundo elemento sea el número de palabras de esa longitud."
   ]
  },
  {
   "cell_type": "code",
   "execution_count": 105,
   "metadata": {},
   "outputs": [
    {
     "name": "stdout",
     "output_type": "stream",
     "text": [
      "Tengo este diccionario, que es el original que había llamado cuenta_palabras: \n",
      "{'gases': 1, 'aunque': 2, 'tan': 1, 'dando': 1, 'va': 1, 'no': 5, 'historia': 1, 'cansado': 1, 'calor': 1, 'bolivia': 1, 'son': 9, 'ya': 10, 'global': 1, 'aportarán': 1, 'pasión': 1, 'fuegos': 1, 'propios': 1, 'estoy': 1, 'extraños': 1, 'suenan': 8, 'vas': 1, 'verano': 16, 'acción': 1, 'dónde': 1, 'suele': 1, 'retrocediendo': 1, 'lado': 1, 'mar': 1, 'hong': 1, 'encontrar': 1, 'violento': 1, 'gas': 1, 'paragüas': 1, 'del': 19, 'siente': 8, 'nivel': 1, 'tambores': 8, 'genial': 1, 'calentamiento': 1, 'paz': 2, 'mi': 1, 'genera': 1, 'poco': 1, 'revolución': 8, 'el': 2, 'adoquines': 1, 'mal': 1, 'están': 2, 'vuelto': 1, 'con': 4, 'palabras': 1, 'les': 2, 'ecuador': 1, 'ondea': 1, 'subido': 1, 'tanta': 1, 'flores': 8, 'siguen': 1, 'bien': 2, 'elegir': 1, 'la': 18, 'normal': 1, 'que': 6, 'empiezo': 1, 'hay': 1, 'las': 8, 'está': 1, 'contenedor': 1, 'vibración': 8, 'mis': 1, 'de': 14, 'me': 1, 'y': 25, 'muy': 1, 'escudos': 1, 'amor': 17, 'miren': 1, 'morenos': 1, 'sé': 1, 'en': 7, 'se': 2, 'estaremos': 1, 'cóctel': 16, 'parece': 1, 'haya': 1, 'basta': 1, 'tropical': 1, 'hace': 1, 'sonrisa': 1, 'convicción': 1, 'chile': 1, 'aquí': 1, 'un': 17, 'estás': 1, 'otoño': 1, 'antidisturbios': 1, 'sabéis': 1, 'molotov': 16, 'soy': 1, 'niños': 8, 'yo': 2, 'puedo': 1, 'luz': 1, 'glaciar': 1, 'kong': 1, 'qué': 1, 'este': 1, 'deslumbrar': 1, 'escuchéis': 1, 'abren': 1, 'los': 8, 'tapada': 1, 'llegado': 1, 'lo': 2, 'ellos': 1, 'playita': 1, 'pero': 1, 'falta': 1, 'disfrutan': 1, 'te': 1, 'dudar': 1, 'a': 2, 'han': 2, 'hacer': 1, 'otro': 1, 'como': 1, 'es': 10, 'tú': 1}.\n",
      "\n",
      " \n",
      " \n",
      "Ahora tengo esto, el diccionario_infernal: \n",
      "{5: (['gases', 'dando', 'calor', 'estoy', 'dónde', 'suele', 'nivel', 'están', 'ondea', 'tanta', 'miren', 'basta', 'chile', 'estás', 'otoño', 'niños', 'puedo', 'abren', 'ellos', 'falta', 'dudar', 'hacer'], 22), 6: (['aunque', 'global', 'pasión', 'fuegos', 'suenan', 'verano', 'acción', 'siente', 'genial', 'genera', 'vuelto', 'subido', 'flores', 'siguen', 'elegir', 'normal', 'cóctel', 'parece', 'sabéis', 'tapada'], 20), 3: (['tan', 'son', 'vas', 'mar', 'gas', 'del', 'paz', 'mal', 'con', 'les', 'que', 'hay', 'las', 'mis', 'muy', 'soy', 'luz', 'qué', 'los', 'han'], 20), 2: (['va', 'no', 'ya', 'mi', 'el', 'la', 'de', 'me', 'sé', 'en', 'se', 'un', 'yo', 'lo', 'te', 'es', 'tú'], 17), 8: (['historia', 'extraños', 'violento', 'paragüas', 'tambores', 'palabras', 'tropical'], 7), 7: (['cansado', 'bolivia', 'propios', 'ecuador', 'empiezo', 'escudos', 'morenos', 'sonrisa', 'molotov', 'glaciar', 'llegado', 'playita'], 12), 9: (['aportarán', 'encontrar', 'adoquines', 'vibración', 'estaremos', 'escuchéis', 'disfrutan'], 7), 13: (['retrocediendo', 'calentamiento'], 2), 4: (['lado', 'hong', 'poco', 'bien', 'está', 'amor', 'haya', 'hace', 'aquí', 'kong', 'este', 'pero', 'otro', 'como'], 14), 10: (['revolución', 'contenedor', 'convicción', 'deslumbrar'], 4), 1: (['y', 'a'], 2), 14: (['antidisturbios'], 1)}\n",
      "\n",
      " \n",
      " \n",
      "Ordenado siguiendo el criterio de que las claves estén ordenadas según tengan de menos a más letras las palabras que contienen: \n",
      "{1: (['y', 'a'], 2), 2: (['va', 'no', 'ya', 'mi', 'el', 'la', 'de', 'me', 'sé', 'en', 'se', 'un', 'yo', 'lo', 'te', 'es', 'tú'], 17), 3: (['tan', 'son', 'vas', 'mar', 'gas', 'del', 'paz', 'mal', 'con', 'les', 'que', 'hay', 'las', 'mis', 'muy', 'soy', 'luz', 'qué', 'los', 'han'], 20), 4: (['lado', 'hong', 'poco', 'bien', 'está', 'amor', 'haya', 'hace', 'aquí', 'kong', 'este', 'pero', 'otro', 'como'], 14), 5: (['gases', 'dando', 'calor', 'estoy', 'dónde', 'suele', 'nivel', 'están', 'ondea', 'tanta', 'miren', 'basta', 'chile', 'estás', 'otoño', 'niños', 'puedo', 'abren', 'ellos', 'falta', 'dudar', 'hacer'], 22), 6: (['aunque', 'global', 'pasión', 'fuegos', 'suenan', 'verano', 'acción', 'siente', 'genial', 'genera', 'vuelto', 'subido', 'flores', 'siguen', 'elegir', 'normal', 'cóctel', 'parece', 'sabéis', 'tapada'], 20), 7: (['cansado', 'bolivia', 'propios', 'ecuador', 'empiezo', 'escudos', 'morenos', 'sonrisa', 'molotov', 'glaciar', 'llegado', 'playita'], 12), 8: (['historia', 'extraños', 'violento', 'paragüas', 'tambores', 'palabras', 'tropical'], 7), 9: (['aportarán', 'encontrar', 'adoquines', 'vibración', 'estaremos', 'escuchéis', 'disfrutan'], 7), 10: (['revolución', 'contenedor', 'convicción', 'deslumbrar'], 4), 13: (['retrocediendo', 'calentamiento'], 2), 14: (['antidisturbios'], 1)}\n"
     ]
    }
   ],
   "source": [
    "print(f'Tengo este diccionario, que es el original que había llamado cuenta_palabras: \\n{cuenta_palabras}.')\n",
    "\n",
    "#La k: longitud de la palabra.\n",
    "#La v: tupla ([lista palabras de esa longitud], cantidad de elementos en la lista)\n",
    "\n",
    "#Primero creo el diccionario vacío:\n",
    "diccionario_infernal = {}\n",
    "\n",
    "#primero K: bucle for que vaya sobre cada palabra indicando len()\n",
    "for palabra in cuenta_palabras:\n",
    "    longitud = len(palabra)\n",
    "    \n",
    "    #para la V: ([lista_palabras], cantidad_palabras)\n",
    "    if longitud in diccionario_infernal:\n",
    "        lista_palabras, cantidad_palabras = diccionario_infernal[longitud]\n",
    "        #añadir palabra de esa longitud a lista_palabras\n",
    "        lista_palabras.append(palabra)\n",
    "        #sumar a la cantidad de palabras añadidas a la lista de la tupla\n",
    "        cantidad_palabras += 1\n",
    "        #diccionario[key] = value\n",
    "        diccionario_infernal[longitud] = (lista_palabras, cantidad_palabras)\n",
    "    else:\n",
    "        diccionario_infernal[longitud] = ([palabra], 1)\n",
    "\n",
    "#voy a ordenarlo en función de su key para que muestre el contenido según si tiene de menos a más letras la palabra\n",
    "diccionario_infernal_orden_asc = dict(sorted(diccionario_infernal.items(), key = lambda x: x[0]))\n",
    "        \n",
    "print(f'\\n \\n \\nAhora tengo esto, el diccionario_infernal: \\n{diccionario_infernal}')\n",
    "print(f'\\n \\n \\nOrdenado siguiendo el criterio de que las claves estén ordenadas según tengan de menos a más letras las palabras que contienen: \\n{diccionario_infernal_orden_asc}')\n"
   ]
  },
  {
   "cell_type": "markdown",
   "metadata": {},
   "source": [
    "Vamos a cargar de nuevo el texto completo del archivo texto.txt. El reto es que junteis todo el texto del fichero en una sola string que no tenga espacios , ni saltos de línea, ni signos de puntuación si los hubiera. Pero para que se pueda leer bien, vamos a comvertir todas las primeras letras de cada palabra en mayúsculas. ***Ej: \"hola, que tal?\" --> \"HolaQueTal\"*** 😈👿😈"
   ]
  },
  {
   "cell_type": "code",
   "execution_count": 15,
   "metadata": {},
   "outputs": [],
   "source": [
    "#hay que ejecutar:\n",
    "contenido = open(\"texto.txt\", \"r\") #abre el archivo en modo lectura\n",
    "texto = contenido.read() #lee el archivo y lo guarda en la variable texto\n",
    "\n",
    "#reemplaza los saltos de linea por espacios, si lo cambiaras por nada, se eliminarian, y estaríamos juntando palabras OJO!\n",
    "texto.replace('\\n', ' ')\n",
    "\n",
    "#tengo que eliminar los caracteres especiales:\n",
    "caracteres_especiales = ['.', ',', '¡','!','¿','?','(',')','[',']','{','}',';',':','-', '\"' , '\"']\n",
    "for caracter in caracteres_especiales:\n",
    "    texto = texto.replace(caracter, ' ')\n",
    "    \n",
    "#código de los primeros cuadros de código"
   ]
  },
  {
   "cell_type": "code",
   "execution_count": 23,
   "metadata": {},
   "outputs": [
    {
     "name": "stdout",
     "output_type": "stream",
     "text": [
      "YaSuenanLosTamboresSienteLaVibraciónSonNiñosDeLasFloresEsLaRevoluciónVeranoDelAmorYUnCóctelMolotovVeranoDelAmorYUnCóctelMolotovYaSuenanLosTamboresSienteLaVibraciónSonNiñosDeLasFloresEsLaRevoluciónVeranoDelAmorYUnCóctelMolotovVeranoDelAmorYUnCóctelMolotovMiSonrisaOndeaEnSonDePazAunquePropiosYExtrañosMeMirenMalGeneraTantaLuzQueSueleDeslumbrarAunqueHayaSubidoElNivelDelMarYEstáRetrocediendoOtroGlaciarAEllosLesVaBienYSiguenDandoGasDisfrutanDelOtoñoTropicalEstánEnLaPlayitaYLesPareceGenialEsteCalorNoEsNormalEstánMorenosDelCalentamientoGlobalYaSuenanLosTamboresSienteLaVibraciónSonNiñosDeLasFloresEsLaRevoluciónVeranoDelAmorYUnCóctelMolotovVeranoDelAmorYUnCóctelMolotovYoNoSoyViolentoYaLoSabéisPeroEstoyTanCansadoDeQueNoEscuchéisQueEmpiezoADudarNoSéMuyBienQuéHacerSeAbrenParagüasEnHongKongEnChileEnBoliviaEnEcuadorConFuegosDePasiónYDeContenedorYAportaránPazYAmorAquíLoQueHaceFaltaEsUnPocoDeAcciónHayQueElegirConConvicciónElLadoDeLaHistoriaEnQueEstaremosTúYYoYaSuenanLosTamboresSienteLaVibraciónSonNiñosDeLasFloresEsLaRevoluciónVeranoDelAmorYUnCóctelMolotovVeranoDelAmorYUnCóctelMolotovBastaYaMisPalabrasSeHanVueltoAdoquinesDóndeEstásHanLlegadoAntidisturbiosConGasesConEscudosYComoVasTapadaNoTePuedoEncontrarYaSuenanLosTamboresSienteLaVibraciónSonNiñosDeLasFloresEsLaRevoluciónVeranoDelAmorYUnCóctelMolotovVeranoDelAmorYUnCóctelMolotovYaSuenanLosTamboresSienteLaVibraciónSonNiñosDeLasFloresEsLaRevoluciónVeranoDelAmorYUnCóctelMolotovVeranoDelAmorYUnCóctelMolotovYaSuenanLosTamboresSienteLaVibraciónSonNiñosDeLasFloresEsLaRevoluciónVeranoDelAmorYUnCóctelMolotovVeranoDelAmorYUnCóctelMolotovYaSuenanLosTamboresSienteLaVibraciónSonNiñosDeLasFloresEsLaRevoluciónVeranoDelAmorYUnCóctelMolotovVeranoDelAmorYUnCóctelMolotov\n",
      "<class 'str'>\n"
     ]
    }
   ],
   "source": [
    "#lista de cada una de las palabras:\n",
    "texto_palabras = texto.split()\n",
    "\n",
    "#cambiar la primera letra de palabra por mayúscula .title()\n",
    "texto_palabras = [palabra.title() for palabra in texto_palabras]\n",
    "\n",
    "#había sustituído saltos por espacios y símbolos por espacios. Ahora reemplazo espacios por NADA\n",
    "#texto = texto.replace(' ','')#.replace('\\n', '')  los saltos ya los había quitado previamente. Los había sustituido por un espacio.\n",
    "\n",
    "#paso texto a una lista de palabras\n",
    "#lista_texto = texto.split()\n",
    "\n",
    "\n",
    "#es una lista de palabras que hay que unir\n",
    "str_texto = ''.join(texto_palabras) #al hacer esto cada verso se convierte en una palabra y solo deja en mayúscula la primera de cada verso\n",
    "\n",
    "#ahora que la lista de cadenas está unida tengo que reemplazar los saltos de línea\n",
    "#str_texto = str_texto.replace('\\n', '') #lo dejo comentado porque lo anterior no funciona como debería\n",
    "\n",
    "\n",
    "print(str_texto)\n",
    "print(type(str_texto))\n"
   ]
  },
  {
   "cell_type": "markdown",
   "metadata": {},
   "source": []
  }
 ],
 "metadata": {
  "kernelspec": {
   "display_name": "Python 3 (ipykernel)",
   "language": "python",
   "name": "python3"
  },
  "language_info": {
   "codemirror_mode": {
    "name": "ipython",
    "version": 3
   },
   "file_extension": ".py",
   "mimetype": "text/x-python",
   "name": "python",
   "nbconvert_exporter": "python",
   "pygments_lexer": "ipython3",
   "version": "3.11.2"
  }
 },
 "nbformat": 4,
 "nbformat_minor": 2
}
