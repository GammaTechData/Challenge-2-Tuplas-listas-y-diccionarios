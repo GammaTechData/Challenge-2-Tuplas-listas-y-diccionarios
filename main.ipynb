{
 "cells": [
  {
   "cell_type": "markdown",
   "metadata": {},
   "source": [
    "# TUPLAS , LISTAS y DICCIONARIOS\n",
    "-----"
   ]
  },
  {
   "cell_type": "markdown",
   "metadata": {},
   "source": [
    "### TUPLAS"
   ]
  },
  {
   "cell_type": "markdown",
   "metadata": {},
   "source": [
    "Crea una tupla de un ***solo elemento*** (comma is the key...)"
   ]
  },
  {
   "cell_type": "code",
   "execution_count": 1,
   "metadata": {},
   "outputs": [],
   "source": [
    "tupla  = ('Real Madrid',)"
   ]
  },
  {
   "cell_type": "code",
   "execution_count": 2,
   "metadata": {},
   "outputs": [
    {
     "name": "stdout",
     "output_type": "stream",
     "text": [
      "('Real Madrid',)\n"
     ]
    }
   ],
   "source": [
    "print(tupla)"
   ]
  },
  {
   "cell_type": "markdown",
   "metadata": {},
   "source": [
    "#### Comprueba el tipo de la variable que acabas de crear, debe ser ***tuple***"
   ]
  },
  {
   "cell_type": "code",
   "execution_count": 3,
   "metadata": {},
   "outputs": [
    {
     "data": {
      "text/plain": [
       "tuple"
      ]
     },
     "execution_count": 3,
     "metadata": {},
     "output_type": "execute_result"
    }
   ],
   "source": [
    "type(tupla)"
   ]
  },
  {
   "cell_type": "markdown",
   "metadata": {},
   "source": [
    "#### Añade un elemento a esta tupla de un solo elemento"
   ]
  },
  {
   "cell_type": "code",
   "execution_count": 4,
   "metadata": {},
   "outputs": [
    {
     "name": "stdout",
     "output_type": "stream",
     "text": [
      "('Real Madrid', '14 Champions', '35 ligas de España', '20 copas del Rey')\n"
     ]
    }
   ],
   "source": [
    "lst_1 = ('14 Champions', '35 ligas de España','20 copas del Rey')\n",
    "print(tupla +lst_1)\n",
    "#Las tuplas son inmutables, Aunque si deseas agregar un valor puedes convertirla en lista,agregar el elemento nuevo \n",
    "# y luego volver una tupla "
   ]
  },
  {
   "cell_type": "markdown",
   "metadata": {},
   "source": [
    "#### Reasigna \"l\",\"a\",\"s\",\"t\",\"u\",\"p\",\"l\",\"a\",\"s\",\"m\",\"o\",\"l\",\"a\",\"n\" a la tupla que has declarado"
   ]
  },
  {
   "cell_type": "code",
   "execution_count": 5,
   "metadata": {},
   "outputs": [
    {
     "name": "stdout",
     "output_type": "stream",
     "text": [
      "['Real Madrid', 'l', 'a', 's', 't', 'u', 'p', 'l', 'a', 's', 'm', 'o', 'l', 'a', 'n']\n"
     ]
    }
   ],
   "source": [
    "tupla_nueva = list(tupla)\n",
    "nuevo_valor = (\"l\",\"a\",\"s\",\"t\",\"u\",\"p\",\"l\",\"a\",\"s\",\"m\",\"o\",\"l\",\"a\",\"n\")\n",
    "\n",
    "for i in range(len(nuevo_valor)):\n",
    "    tupla_nueva += (nuevo_valor[i],)\n",
    "    \n",
    "tuple(tupla_nueva)\n",
    "print(tupla_nueva)    "
   ]
  },
  {
   "cell_type": "code",
   "execution_count": 6,
   "metadata": {},
   "outputs": [],
   "source": [
    "tupla = (\"l\",\"a\",\"s\",\"t\",\"u\",\"p\",\"l\",\"a\",\"s\",\"m\",\"o\",\"l\",\"a\",\"n\")"
   ]
  },
  {
   "cell_type": "markdown",
   "metadata": {},
   "source": [
    "#### Parte esa tuplas en 3 nuevas (1 por cada palabra)"
   ]
  },
  {
   "cell_type": "code",
   "execution_count": 7,
   "metadata": {},
   "outputs": [
    {
     "name": "stdout",
     "output_type": "stream",
     "text": [
      "[('l', 'a', 's'), ('t', 'u', 'p', 'l', 'a', 's'), ('m', 'o', 'l', 'a', 'n')]\n"
     ]
    }
   ],
   "source": [
    "elementos = [tupla[0:3],tupla[3:9],tupla[9:14]]\n",
    "print(elementos)"
   ]
  },
  {
   "cell_type": "markdown",
   "metadata": {},
   "source": [
    "#### Crea un código que compruebe si el número de elementos en las 3 tuplas juntas es igual a la suma de los elementos dentro de cada tupla"
   ]
  },
  {
   "cell_type": "code",
   "execution_count": 8,
   "metadata": {},
   "outputs": [
    {
     "data": {
      "text/plain": [
       "3"
      ]
     },
     "execution_count": 8,
     "metadata": {},
     "output_type": "execute_result"
    }
   ],
   "source": [
    "len(elementos)"
   ]
  },
  {
   "cell_type": "code",
   "execution_count": 9,
   "metadata": {},
   "outputs": [
    {
     "name": "stdout",
     "output_type": "stream",
     "text": [
      "El primer elemento tiene la longitud de: 3, el segundo de: 6 y el tercero: 5; la longitud\n",
      "total es de: 14 y de la sumatoria de cada una de las tuplas es 14. Por lo tanto, coinciden.\n"
     ]
    }
   ],
   "source": [
    "suma = 0\n",
    "for i in elementos:\n",
    "    suma += len(i)\n",
    "    \n",
    "elem_1 = len(elementos[0])\n",
    "elem_2 = len(elementos[1])\n",
    "elem_3 = len(elementos[2])\n",
    "elem_total = (len(elementos[0])+len(elementos[1])+len(elementos[2]))\n",
    "print(f'''El primer elemento tiene la longitud de: {elem_1}, el segundo de: {elem_2} y el tercero: {elem_3}; la longitud\n",
    "total es de: {suma} y de la sumatoria de cada una de las tuplas es {elem_total}. Por lo tanto, coinciden.''')"
   ]
  },
  {
   "cell_type": "markdown",
   "metadata": {},
   "source": [
    "#### Genera una 2 listas (pares e impares), debes recorrer la tupla y añadir los elementos a cada lista en funciónde si su índice es par o impar"
   ]
  },
  {
   "cell_type": "code",
   "execution_count": 10,
   "metadata": {},
   "outputs": [],
   "source": [
    "import random"
   ]
  },
  {
   "cell_type": "code",
   "execution_count": 11,
   "metadata": {},
   "outputs": [
    {
     "name": "stdout",
     "output_type": "stream",
     "text": [
      "Mi tupla es: (97, 75, 67, 7, 45, 93, 0, 76, 28, 21, 67, 72, 75, 96, 6, 51, 90, 79, 66, 57)\n",
      "El listado de indices pares es: [97, 67, 45, 0, 28, 67, 75, 6, 90, 66]\n",
      "y el listado de impares es: [75, 7, 93, 76, 21, 72, 96, 51, 79, 57]\n"
     ]
    }
   ],
   "source": [
    "tupla = ()\n",
    "par = []\n",
    "impar= []\n",
    "\n",
    "for i in range(20):\n",
    "    tupla = list(tupla)\n",
    "    numeros = random.randint(0,100)\n",
    "    tupla.append(numeros)\n",
    "    tupla = tuple(tupla)\n",
    "    \n",
    "for i,elemento in enumerate(tupla):\n",
    "    if i % 2 == 0:\n",
    "        par.append(elemento)\n",
    "    else:\n",
    "        impar.append(elemento)\n",
    "print(f'Mi tupla es: {tupla}\\nEl listado de indices pares es: {par}\\ny el listado de impares es: {impar}')"
   ]
  },
  {
   "cell_type": "markdown",
   "metadata": {},
   "source": [
    "#### Usa un bucle para comprobar si los elmentos de la lista =[\"n\",\"u\",\"s\",\"l\",\"c\",\"b\",\"x\",\"t\",\"n\"], están presentes en la tupla completa"
   ]
  },
  {
   "cell_type": "code",
   "execution_count": 12,
   "metadata": {},
   "outputs": [
    {
     "name": "stdout",
     "output_type": "stream",
     "text": [
      "('c', 'a', 'l', 't', 't', 'k', 'n', 'e', 'h', 'j', 'u', 'p', 'j', 'v', 'm', 'e', 'w', 'v', 'v', 't')\n",
      "La letra n esta dentro de la lista\n",
      "La letra u esta dentro de la lista\n",
      "La letra s no esta dentro de la lista\n",
      "La letra l esta dentro de la lista\n",
      "La letra c esta dentro de la lista\n",
      "La letra b no esta dentro de la lista\n",
      "La letra x no esta dentro de la lista\n",
      "La letra t esta dentro de la lista\n",
      "La letra n esta dentro de la lista\n"
     ]
    }
   ],
   "source": [
    "letras = ('abcdefghijklmnopqrstuvwxyz')\n",
    "lista =[\"n\",\"u\",\"s\",\"l\",\"c\",\"b\",\"x\",\"t\",\"n\"]\n",
    "letra_tupla = []\n",
    "\n",
    "for i in range(20):\n",
    "    letra = random.choice(letras)\n",
    "    letra_tupla.append(letra)\n",
    "letra_tupla = tuple(letra_tupla)\n",
    "print(letra_tupla)\n",
    "\n",
    "for letra in lista:\n",
    "    if letra in letra_tupla:\n",
    "        print(f'La letra {letra} esta dentro de la lista')\n",
    "    else:\n",
    "        print(f'La letra {letra} no esta dentro de la lista')"
   ]
  },
  {
   "cell_type": "markdown",
   "metadata": {},
   "source": [
    "#### Saca por pantalla el número de veces que aparece cada elemento de la lista, si no existe el elemento debe mostrar el mensaje \"La letra***nombre_de_la_letra*** no está en la tupla\""
   ]
  },
  {
   "cell_type": "code",
   "execution_count": 87,
   "metadata": {},
   "outputs": [
    {
     "name": "stdout",
     "output_type": "stream",
     "text": [
      "La letra n aparece 1 veces en la tupla.\n",
      "La letra u aparece 1 veces en la tupla.\n",
      "La letra s aparece 2 veces en la tupla.\n",
      "La letra l aparece 3 veces en la tupla.\n",
      "La letra c no está en la tupla.\n",
      "La letra b no está en la tupla.\n",
      "La letra x no está en la tupla.\n",
      "La letra t aparece 1 veces en la tupla.\n",
      "La letra n aparece 1 veces en la tupla.\n"
     ]
    }
   ],
   "source": [
    "tupla = (\"l\", \"a\", \"s\", \"t\", \"u\", \"p\", \"l\", \"a\", \"s\", \"m\", \"o\", \"l\", \"a\", \"n\")\n",
    "lista = [\"n\", \"u\", \"s\", \"l\", \"c\", \"b\", \"x\", \"t\", \"n\"]\n",
    "\n",
    "for letra in lista:\n",
    "    if letra in tupla:\n",
    "        repetida = tupla.count(letra)\n",
    "        print(f\"La letra {letra} aparece {repetida} veces en la tupla.\")\n",
    "    else:\n",
    "        print(f\"La letra {letra} no está en la tupla.\")"
   ]
  },
  {
   "cell_type": "markdown",
   "metadata": {},
   "source": [
    "## SETS"
   ]
  },
  {
   "cell_type": "markdown",
   "metadata": {},
   "source": [
    "Os dejo este pequeño resumen sobre los sets para que lo tengáis a mano durante los ejercicios. ![enlace] (https://www.w3schools.com/python/python_sets.asp)"
   ]
  },
  {
   "cell_type": "markdown",
   "metadata": {},
   "source": [
    "Para esta parte usaremos la libreria *random* que ya hemos visto en clase."
   ]
  },
  {
   "cell_type": "markdown",
   "metadata": {},
   "source": [
    "Crea una lista llamada ***muestra***:\n",
    "- Debe estar compuesta por 80 elementos\n",
    "- Los elementos deben ser enteros entre 0 y 200"
   ]
  },
  {
   "cell_type": "markdown",
   "metadata": {},
   "source": [
    "Pista: random.sample --> [enlace](https://docs.python.org/es/3/library/random.html#random.sample)"
   ]
  },
  {
   "cell_type": "code",
   "execution_count": 14,
   "metadata": {},
   "outputs": [],
   "source": [
    "import random"
   ]
  },
  {
   "cell_type": "code",
   "execution_count": 15,
   "metadata": {},
   "outputs": [
    {
     "name": "stdout",
     "output_type": "stream",
     "text": [
      "[119, 160, 162, 84, 95, 191, 76, 198, 90, 36, 130, 51, 11, 77, 97, 146, 92, 41, 23, 79, 24, 130, 151, 3, 55, 179, 63, 71, 189, 51, 172, 63, 171, 57, 155, 1, 40, 120, 68, 22, 197, 55, 16, 85, 84, 113, 33, 96, 75, 141, 136, 32, 99, 128, 8, 130, 143, 156, 183, 16, 156, 153, 23, 136, 42, 20, 43, 34, 29, 7, 62, 192, 142, 18, 47, 126, 54, 45, 132, 5]\n"
     ]
    }
   ],
   "source": [
    "muestra = []\n",
    "\n",
    "for i in range(80):\n",
    "    numeros = random.randint(0,200)\n",
    "    muestra.append(numeros)\n",
    "print(muestra)"
   ]
  },
  {
   "cell_type": "markdown",
   "metadata": {},
   "source": [
    "#### Convierte tu lista en un set, llámalo set1 y comprueba si tiene el mismo numero de elementos que la lista original"
   ]
  },
  {
   "cell_type": "code",
   "execution_count": 17,
   "metadata": {},
   "outputs": [
    {
     "data": {
      "text/plain": [
       "{1,\n",
       " 3,\n",
       " 5,\n",
       " 7,\n",
       " 8,\n",
       " 11,\n",
       " 16,\n",
       " 18,\n",
       " 20,\n",
       " 22,\n",
       " 23,\n",
       " 24,\n",
       " 29,\n",
       " 32,\n",
       " 33,\n",
       " 34,\n",
       " 36,\n",
       " 40,\n",
       " 41,\n",
       " 42,\n",
       " 43,\n",
       " 45,\n",
       " 47,\n",
       " 51,\n",
       " 54,\n",
       " 55,\n",
       " 57,\n",
       " 62,\n",
       " 63,\n",
       " 68,\n",
       " 71,\n",
       " 75,\n",
       " 76,\n",
       " 77,\n",
       " 79,\n",
       " 84,\n",
       " 85,\n",
       " 90,\n",
       " 92,\n",
       " 95,\n",
       " 96,\n",
       " 97,\n",
       " 99,\n",
       " 113,\n",
       " 119,\n",
       " 120,\n",
       " 126,\n",
       " 128,\n",
       " 130,\n",
       " 132,\n",
       " 136,\n",
       " 141,\n",
       " 142,\n",
       " 143,\n",
       " 146,\n",
       " 151,\n",
       " 153,\n",
       " 155,\n",
       " 156,\n",
       " 160,\n",
       " 162,\n",
       " 171,\n",
       " 172,\n",
       " 179,\n",
       " 183,\n",
       " 189,\n",
       " 191,\n",
       " 192,\n",
       " 197,\n",
       " 198}"
      ]
     },
     "execution_count": 17,
     "metadata": {},
     "output_type": "execute_result"
    }
   ],
   "source": [
    "set_1 = set(muestra)\n",
    "set_1"
   ]
  },
  {
   "cell_type": "code",
   "execution_count": 19,
   "metadata": {},
   "outputs": [
    {
     "data": {
      "text/plain": [
       "False"
      ]
     },
     "execution_count": 19,
     "metadata": {},
     "output_type": "execute_result"
    }
   ],
   "source": [
    "len(set_1) == len(muestra)"
   ]
  },
  {
   "cell_type": "code",
   "execution_count": 18,
   "metadata": {},
   "outputs": [
    {
     "name": "stdout",
     "output_type": "stream",
     "text": [
      "70 80\n"
     ]
    }
   ],
   "source": [
    "print(len(set_1),len(muestra))"
   ]
  },
  {
   "cell_type": "markdown",
   "metadata": {},
   "source": [
    "#### Crea una segunda lista de 100 elementos , ahora usa un bucle for junto con la librería random."
   ]
  },
  {
   "cell_type": "code",
   "execution_count": 20,
   "metadata": {},
   "outputs": [
    {
     "name": "stdout",
     "output_type": "stream",
     "text": [
      "[118, 49, 33, 14, 102, 21, 139, 164, 90, 123, 160, 152, 129, 118, 5, 134, 158, 46, 161, 83, 15, 134, 1, 48, 78, 167, 40, 18, 183, 66, 181, 120, 124, 27, 76, 99, 62, 120, 118, 173, 178, 120, 24, 177, 109, 50, 10, 95, 128, 103, 166, 84, 150, 122, 57, 101, 102, 194, 146, 59, 135, 168, 18, 170, 96, 188, 50, 122, 91, 196, 40, 53, 86, 7, 48, 144, 72, 108, 128, 76]\n"
     ]
    }
   ],
   "source": [
    "muestra_2 = []\n",
    "\n",
    "for i in range(80):\n",
    "    numeros = random.randint(0,200)\n",
    "    muestra_2.append(numeros)\n",
    "print(muestra_2)"
   ]
  },
  {
   "cell_type": "markdown",
   "metadata": {},
   "source": [
    "Convierte la segunda lista en un set y llámalo set2, compruba su loongitud"
   ]
  },
  {
   "cell_type": "code",
   "execution_count": 21,
   "metadata": {},
   "outputs": [],
   "source": [
    "set_2 = set(muestra_2)"
   ]
  },
  {
   "cell_type": "code",
   "execution_count": 22,
   "metadata": {},
   "outputs": [
    {
     "data": {
      "text/plain": [
       "67"
      ]
     },
     "execution_count": 22,
     "metadata": {},
     "output_type": "execute_result"
    }
   ],
   "source": [
    "len(set_2)"
   ]
  },
  {
   "cell_type": "markdown",
   "metadata": {},
   "source": [
    "#### Crea un nuevo set3 compuesto por los elementos que son comunes en set1 y set2"
   ]
  },
  {
   "cell_type": "code",
   "execution_count": 23,
   "metadata": {},
   "outputs": [
    {
     "data": {
      "text/plain": [
       "{1,\n",
       " 5,\n",
       " 7,\n",
       " 18,\n",
       " 24,\n",
       " 33,\n",
       " 40,\n",
       " 57,\n",
       " 62,\n",
       " 76,\n",
       " 84,\n",
       " 90,\n",
       " 95,\n",
       " 96,\n",
       " 99,\n",
       " 120,\n",
       " 128,\n",
       " 146,\n",
       " 160,\n",
       " 183}"
      ]
     },
     "execution_count": 23,
     "metadata": {},
     "output_type": "execute_result"
    }
   ],
   "source": [
    "set_3 = set_1.intersection(set_2)\n",
    "set_3"
   ]
  },
  {
   "cell_type": "markdown",
   "metadata": {},
   "source": [
    "Crea un set4 compuesto por lo elementos que están en set1 pero no en set2"
   ]
  },
  {
   "cell_type": "code",
   "execution_count": 24,
   "metadata": {},
   "outputs": [
    {
     "data": {
      "text/plain": [
       "{3,\n",
       " 8,\n",
       " 11,\n",
       " 16,\n",
       " 20,\n",
       " 22,\n",
       " 23,\n",
       " 29,\n",
       " 32,\n",
       " 34,\n",
       " 36,\n",
       " 41,\n",
       " 42,\n",
       " 43,\n",
       " 45,\n",
       " 47,\n",
       " 51,\n",
       " 54,\n",
       " 55,\n",
       " 63,\n",
       " 68,\n",
       " 71,\n",
       " 75,\n",
       " 77,\n",
       " 79,\n",
       " 85,\n",
       " 92,\n",
       " 97,\n",
       " 113,\n",
       " 119,\n",
       " 126,\n",
       " 130,\n",
       " 132,\n",
       " 136,\n",
       " 141,\n",
       " 142,\n",
       " 143,\n",
       " 151,\n",
       " 153,\n",
       " 155,\n",
       " 156,\n",
       " 162,\n",
       " 171,\n",
       " 172,\n",
       " 179,\n",
       " 189,\n",
       " 191,\n",
       " 192,\n",
       " 197,\n",
       " 198}"
      ]
     },
     "execution_count": 24,
     "metadata": {},
     "output_type": "execute_result"
    }
   ],
   "source": [
    "set_4 = set_1.difference(set_2)\n",
    "set_4"
   ]
  },
  {
   "cell_type": "markdown",
   "metadata": {},
   "source": [
    "#### Crea un set vacío llamado set5, añade los elementos de set1 y set3 a este nuevo set usando los métodos de los sets"
   ]
  },
  {
   "cell_type": "code",
   "execution_count": 25,
   "metadata": {},
   "outputs": [
    {
     "data": {
      "text/plain": [
       "{1,\n",
       " 3,\n",
       " 5,\n",
       " 7,\n",
       " 8,\n",
       " 11,\n",
       " 16,\n",
       " 18,\n",
       " 20,\n",
       " 22,\n",
       " 23,\n",
       " 24,\n",
       " 29,\n",
       " 32,\n",
       " 33,\n",
       " 34,\n",
       " 36,\n",
       " 40,\n",
       " 41,\n",
       " 42,\n",
       " 43,\n",
       " 45,\n",
       " 47,\n",
       " 51,\n",
       " 54,\n",
       " 55,\n",
       " 57,\n",
       " 62,\n",
       " 63,\n",
       " 68,\n",
       " 71,\n",
       " 75,\n",
       " 76,\n",
       " 77,\n",
       " 79,\n",
       " 84,\n",
       " 85,\n",
       " 90,\n",
       " 92,\n",
       " 95,\n",
       " 96,\n",
       " 97,\n",
       " 99,\n",
       " 113,\n",
       " 119,\n",
       " 120,\n",
       " 126,\n",
       " 128,\n",
       " 130,\n",
       " 132,\n",
       " 136,\n",
       " 141,\n",
       " 142,\n",
       " 143,\n",
       " 146,\n",
       " 151,\n",
       " 153,\n",
       " 155,\n",
       " 156,\n",
       " 160,\n",
       " 162,\n",
       " 171,\n",
       " 172,\n",
       " 179,\n",
       " 183,\n",
       " 189,\n",
       " 191,\n",
       " 192,\n",
       " 197,\n",
       " 198}"
      ]
     },
     "execution_count": 25,
     "metadata": {},
     "output_type": "execute_result"
    }
   ],
   "source": [
    "set_5 = set_1 | set_3\n",
    "set_5"
   ]
  },
  {
   "cell_type": "markdown",
   "metadata": {},
   "source": [
    "Compruba si el set1 contiene al set2"
   ]
  },
  {
   "cell_type": "code",
   "execution_count": 26,
   "metadata": {},
   "outputs": [
    {
     "data": {
      "text/plain": [
       "False"
      ]
     },
     "execution_count": 26,
     "metadata": {},
     "output_type": "execute_result"
    }
   ],
   "source": [
    "set_1 in set_2"
   ]
  },
  {
   "cell_type": "markdown",
   "metadata": {},
   "source": [
    "Tomando como referencia esta lista = [1, 9, 11, 19, 21, 29, 31, 39, 41, 49, 51, 59, 61, 69, 71, 79, 81, 89, 91, 99], elimina los elementos del set5 que están en la lista."
   ]
  },
  {
   "cell_type": "code",
   "execution_count": 27,
   "metadata": {},
   "outputs": [
    {
     "data": {
      "text/plain": [
       "{1, 11, 29, 41, 51, 71, 79, 99}"
      ]
     },
     "execution_count": 27,
     "metadata": {},
     "output_type": "execute_result"
    }
   ],
   "source": [
    "lista_prueba = [1, 9, 11, 19, 21, 29, 31, 39, 41, 49, 51, 59, 61, 69, 71, 79, 81, 89, 91, 99]\n",
    "set_6 = set(lista_prueba)\n",
    "set_5.intersection_update(set_6)\n",
    "set_5"
   ]
  },
  {
   "cell_type": "markdown",
   "metadata": {},
   "source": [
    "Elimina los elementos del set3, que están en la lista del ejemplo anterior, pero que no están en el set1"
   ]
  },
  {
   "cell_type": "code",
   "execution_count": 28,
   "metadata": {},
   "outputs": [
    {
     "name": "stdout",
     "output_type": "stream",
     "text": [
      "{128, 1, 5, 7, 18, 146, 24, 160, 33, 40, 183, 57, 62, 76, 84, 90, 95, 96, 99, 120}\n"
     ]
    }
   ],
   "source": [
    "set_3.difference_update(set_3.difference(set_1).difference(lista_prueba))\n",
    "print(set_3)"
   ]
  },
  {
   "cell_type": "markdown",
   "metadata": {},
   "source": [
    "## DICCIONARIOS"
   ]
  },
  {
   "cell_type": "markdown",
   "metadata": {},
   "source": [
    "Para el ejercicio lo primero vamos a cargar en una variable llamada **texto** el contenido del archivo \"texto.txt\" que os he dejado en el repositorio."
   ]
  },
  {
   "cell_type": "code",
   "execution_count": 46,
   "metadata": {},
   "outputs": [],
   "source": [
    "contenido = open(\"texto.txt\", \"r\") #abre el archivo en modo lectura\n",
    "texto = contenido.read() #lee el archivo y lo guarda en la variable texto"
   ]
  },
  {
   "cell_type": "code",
   "execution_count": 47,
   "metadata": {},
   "outputs": [
    {
     "name": "stdout",
     "output_type": "stream",
     "text": [
      "Ya suenan los tambores\n",
      "Siente la vibración\n",
      "Son niños de las flores\n",
      "Es la revolución\n",
      "Verano del amor\n",
      "Y un cóctel molotov\n",
      "Verano del amor\n",
      "Y un cóctel molotov\n",
      "Ya suenan los tambores\n",
      "Siente la vibración\n",
      "Son niños de las flores\n",
      "Es la revolución\n",
      "Verano del amor\n",
      "Y un cóctel molotov\n",
      "Verano del amor\n",
      "Y un cóctel molotov\n",
      "Mi sonrisa ondea en son de paz\n",
      "Aunque propios y extraños me miren mal\n",
      "Genera tanta luz\n",
      "Que suele deslumbrar\n",
      "Aunque haya subido el nivel del mar\n",
      "Y está retrocediendo otro glaciar\n",
      "A ellos les va bien\n",
      "Y siguen dando gas\n",
      "Disfrutan del otoño tropical\n",
      "Están en la playita y les parece genial\n",
      "Este calor no es normal\n",
      "Están morenos del calentamiento global\n",
      "Ya suenan los tambores\n",
      "Siente la vibración\n",
      "Son niños de las flores\n",
      "Es la revolución\n",
      "Verano del amor\n",
      "Y un cóctel molotov\n",
      "Verano del amor\n",
      "Y un cóctel molotov\n",
      "Yo no soy violento, ya lo sabéis\n",
      "Pero estoy tan cansado de que no escuchéis\n",
      "Que empiezo a dudar\n",
      "No sé muy bien qué hacer\n",
      "Se abren paragüas en Hong Kong\n",
      "En Chile, en Bolivia, en Ecuador\n",
      "Con fuegos de pasión y de contenedor\n",
      "Y aportarán paz y amor\n",
      "Aquí lo que hace falta es un poco de acción\n",
      "Hay que elegir con convicción\n",
      "El lado de la historia en que estaremos tú y yo\n",
      "Ya suenan los tambores\n",
      "Siente la vibración\n",
      "Son niños de las flores\n",
      "Es la revolución\n",
      "Verano del amor\n",
      "Y un cóctel molotov\n",
      "Verano del amor\n",
      "Y un cóctel molotov\n",
      "Basta ya\n",
      "Mis palabras se han vuelto adoquines\n",
      "¿Dónde estás?\n",
      "Han llegado antidisturbios\n",
      "Con gases, con escudos\n",
      "Y como vas tapada no te puedo encontrar\n",
      "Ya suenan los tambores\n",
      "Siente la vibración\n",
      "Son niños de las flores\n",
      "Es la revolución\n",
      "Verano del amor\n",
      "Y un cóctel molotov\n",
      "Verano del amor\n",
      "Y un cóctel molotov\n",
      "Ya suenan los tambores\n",
      "Siente la vibración\n",
      "Son niños de las flores\n",
      "Es la revolución\n",
      "Verano del amor\n",
      "Y un cóctel molotov\n",
      "Verano del amor\n",
      "Y un cóctel molotov\n",
      "Ya suenan los tambores\n",
      "Siente la vibración\n",
      "Son niños de las flores\n",
      "Es la revolución\n",
      "Verano del amor\n",
      "Y un cóctel molotov\n",
      "Verano del amor\n",
      "Y un cóctel molotov\n",
      "Ya suenan los tambores\n",
      "Siente la vibración\n",
      "Son niños de las flores\n",
      "Es la revolución\n",
      "Verano del amor\n",
      "Y un cóctel molotov\n",
      "Verano del amor\n",
      "Y un cóctel molotov\n"
     ]
    }
   ],
   "source": [
    "print(texto)"
   ]
  },
  {
   "cell_type": "markdown",
   "metadata": {},
   "source": [
    "Nuestra variable tienen el contenido del archivo y si hacemos un print, parece que está todo ok....pero no."
   ]
  },
  {
   "cell_type": "code",
   "execution_count": 48,
   "metadata": {},
   "outputs": [
    {
     "data": {
      "text/plain": [
       "str"
      ]
     },
     "execution_count": 48,
     "metadata": {},
     "output_type": "execute_result"
    }
   ],
   "source": [
    "type(texto)"
   ]
  },
  {
   "cell_type": "markdown",
   "metadata": {},
   "source": [
    "Es una string.\n",
    "Veamos como es realmente:"
   ]
  },
  {
   "cell_type": "code",
   "execution_count": 32,
   "metadata": {},
   "outputs": [
    {
     "data": {
      "text/plain": [
       "'Ya suenan los tambores\\nSiente la vibración\\nSon niños de las flores\\nEs la revolución\\nVerano del amor\\n'"
      ]
     },
     "execution_count": 32,
     "metadata": {},
     "output_type": "execute_result"
    }
   ],
   "source": [
    "texto[:100] #imprime los primeros 100 caracteres del texto, tenemos mucho salto de linea verdad?"
   ]
  },
  {
   "cell_type": "markdown",
   "metadata": {},
   "source": [
    "Limpia la cadena y elimina los saltos de línea"
   ]
  },
  {
   "cell_type": "code",
   "execution_count": 36,
   "metadata": {},
   "outputs": [
    {
     "data": {
      "text/plain": [
       "'Ya suenan los tambores Siente la vibración Son niños de las flores Es la revolución Verano del amor Y un cóctel molotov Verano del amor Y un cóctel molotov Ya suenan los tambores Siente la vibración Son niños de las flores Es la revolución Verano del amor Y un cóctel molotov Verano del amor Y un cóctel molotov Mi sonrisa ondea en son de paz Aunque propios y extraños me miren mal Genera tanta luz Que suele deslumbrar Aunque haya subido el nivel del mar Y está retrocediendo otro glaciar A ellos les va bien Y siguen dando gas Disfrutan del otoño tropical Están en la playita y les parece genial Este calor no es normal Están morenos del calentamiento global Ya suenan los tambores Siente la vibración Son niños de las flores Es la revolución Verano del amor Y un cóctel molotov Verano del amor Y un cóctel molotov Yo no soy violento, ya lo sabéis Pero estoy tan cansado de que no escuchéis Que empiezo a dudar No sé muy bien qué hacer Se abren paragüas en Hong Kong En Chile, en Bolivia, en Ecuador Con fuegos de pasión y de contenedor Y aportarán paz y amor Aquí lo que hace falta es un poco de acción Hay que elegir con convicción El lado de la historia en que estaremos tú y yo Ya suenan los tambores Siente la vibración Son niños de las flores Es la revolución Verano del amor Y un cóctel molotov Verano del amor Y un cóctel molotov Basta ya Mis palabras se han vuelto adoquines ¿Dónde estás? Han llegado antidisturbios Con gases, con escudos Y como vas tapada no te puedo encontrar Ya suenan los tambores Siente la vibración Son niños de las flores Es la revolución Verano del amor Y un cóctel molotov Verano del amor Y un cóctel molotov Ya suenan los tambores Siente la vibración Son niños de las flores Es la revolución Verano del amor Y un cóctel molotov Verano del amor Y un cóctel molotov Ya suenan los tambores Siente la vibración Son niños de las flores Es la revolución Verano del amor Y un cóctel molotov Verano del amor Y un cóctel molotov Ya suenan los tambores Siente la vibración Son niños de las flores Es la revolución Verano del amor Y un cóctel molotov Verano del amor Y un cóctel molotov'"
      ]
     },
     "execution_count": 36,
     "metadata": {},
     "output_type": "execute_result"
    }
   ],
   "source": [
    "#reemplaza los saltos de linea por espacios, si lo cambiaras por nada, se eliminarian, y estaríamos juntando palabras OJO!\n",
    "texto.replace('\\n',' ')"
   ]
  },
  {
   "cell_type": "markdown",
   "metadata": {},
   "source": [
    "Vamos a ver cuales son las palabras más repetidas a lo largo del texto, para ello vamos a crear un diccionario que contenga como clave cada una de las palabras del texto y como valor el número de veces que aparece esa palabra en el texto."
   ]
  },
  {
   "cell_type": "code",
   "execution_count": 53,
   "metadata": {},
   "outputs": [
    {
     "name": "stdout",
     "output_type": "stream",
     "text": [
      "{'Ya': 8, 'suenan': 8, 'los': 8, 'tambores': 8, 'Siente': 8, 'la': 18, 'vibración': 8, 'Son': 8, 'niños': 8, 'de': 14, 'las': 8, 'flores': 8, 'Es': 8, 'revolución': 8, 'Verano': 16, 'del': 19, 'amor': 17, 'Y': 20, 'un': 17, 'cóctel': 16, 'molotov': 16, 'Mi': 1, 'sonrisa': 1, 'ondea': 1, 'en': 6, 'son': 1, 'paz': 2, 'Aunque': 2, 'propios': 1, 'y': 5, 'extraños': 1, 'me': 1, 'miren': 1, 'mal': 1, 'Genera': 1, 'tanta': 1, 'luz': 1, 'Que': 2, 'suele': 1, 'deslumbrar': 1, 'haya': 1, 'subido': 1, 'el': 1, 'nivel': 1, 'mar': 1, 'está': 1, 'retrocediendo': 1, 'otro': 1, 'glaciar': 1, 'A': 1, 'ellos': 1, 'les': 2, 'va': 1, 'bien': 2, 'siguen': 1, 'dando': 1, 'gas': 1, 'Disfrutan': 1, 'otoño': 1, 'tropical': 1, 'Están': 2, 'playita': 1, 'parece': 1, 'genial': 1, 'Este': 1, 'calor': 1, 'no': 4, 'es': 2, 'normal': 1, 'morenos': 1, 'calentamiento': 1, 'global': 1, 'Yo': 1, 'soy': 1, 'violento,': 1, 'ya': 2, 'lo': 2, 'sabéis': 1, 'Pero': 1, 'estoy': 1, 'tan': 1, 'cansado': 1, 'que': 4, 'escuchéis': 1, 'empiezo': 1, 'a': 1, 'dudar': 1, 'No': 1, 'sé': 1, 'muy': 1, 'qué': 1, 'hacer': 1, 'Se': 1, 'abren': 1, 'paragüas': 1, 'Hong': 1, 'Kong': 1, 'En': 1, 'Chile,': 1, 'Bolivia,': 1, 'Ecuador': 1, 'Con': 2, 'fuegos': 1, 'pasión': 1, 'contenedor': 1, 'aportarán': 1, 'Aquí': 1, 'hace': 1, 'falta': 1, 'poco': 1, 'acción': 1, 'Hay': 1, 'elegir': 1, 'con': 2, 'convicción': 1, 'El': 1, 'lado': 1, 'historia': 1, 'estaremos': 1, 'tú': 1, 'yo': 1, 'Basta': 1, 'Mis': 1, 'palabras': 1, 'se': 1, 'han': 1, 'vuelto': 1, 'adoquines': 1, '¿Dónde': 1, 'estás?': 1, 'Han': 1, 'llegado': 1, 'antidisturbios': 1, 'gases,': 1, 'escudos': 1, 'como': 1, 'vas': 1, 'tapada': 1, 'te': 1, 'puedo': 1, 'encontrar': 1}\n"
     ]
    }
   ],
   "source": [
    "dicci_texto ={}\n",
    "palabras_texto = texto.split()\n",
    "for i in palabras_texto:\n",
    "    if i in dicci_texto:\n",
    "        dicci_texto[i] +=1\n",
    "    else:\n",
    "        dicci_texto[i] =1\n",
    "print(dicci_texto)\n",
    "    "
   ]
  },
  {
   "cell_type": "markdown",
   "metadata": {},
   "source": [
    "Ahora vamos a ordenar el diccionario por el número de apariciones de mayor a menor, tendremos que investigar un poco como hacerlo."
   ]
  },
  {
   "cell_type": "code",
   "execution_count": 57,
   "metadata": {},
   "outputs": [
    {
     "name": "stdout",
     "output_type": "stream",
     "text": [
      "[('Y', 20), ('del', 19), ('la', 18), ('amor', 17), ('un', 17), ('Verano', 16), ('cóctel', 16), ('molotov', 16), ('de', 14), ('Ya', 8), ('suenan', 8), ('los', 8), ('tambores', 8), ('Siente', 8), ('vibración', 8), ('Son', 8), ('niños', 8), ('las', 8), ('flores', 8), ('Es', 8), ('revolución', 8), ('en', 6), ('y', 5), ('no', 4), ('que', 4), ('paz', 2), ('Aunque', 2), ('Que', 2), ('les', 2), ('bien', 2), ('Están', 2), ('es', 2), ('ya', 2), ('lo', 2), ('Con', 2), ('con', 2), ('Mi', 1), ('sonrisa', 1), ('ondea', 1), ('son', 1), ('propios', 1), ('extraños', 1), ('me', 1), ('miren', 1), ('mal', 1), ('Genera', 1), ('tanta', 1), ('luz', 1), ('suele', 1), ('deslumbrar', 1), ('haya', 1), ('subido', 1), ('el', 1), ('nivel', 1), ('mar', 1), ('está', 1), ('retrocediendo', 1), ('otro', 1), ('glaciar', 1), ('A', 1), ('ellos', 1), ('va', 1), ('siguen', 1), ('dando', 1), ('gas', 1), ('Disfrutan', 1), ('otoño', 1), ('tropical', 1), ('playita', 1), ('parece', 1), ('genial', 1), ('Este', 1), ('calor', 1), ('normal', 1), ('morenos', 1), ('calentamiento', 1), ('global', 1), ('Yo', 1), ('soy', 1), ('violento,', 1), ('sabéis', 1), ('Pero', 1), ('estoy', 1), ('tan', 1), ('cansado', 1), ('escuchéis', 1), ('empiezo', 1), ('a', 1), ('dudar', 1), ('No', 1), ('sé', 1), ('muy', 1), ('qué', 1), ('hacer', 1), ('Se', 1), ('abren', 1), ('paragüas', 1), ('Hong', 1), ('Kong', 1), ('En', 1), ('Chile,', 1), ('Bolivia,', 1), ('Ecuador', 1), ('fuegos', 1), ('pasión', 1), ('contenedor', 1), ('aportarán', 1), ('Aquí', 1), ('hace', 1), ('falta', 1), ('poco', 1), ('acción', 1), ('Hay', 1), ('elegir', 1), ('convicción', 1), ('El', 1), ('lado', 1), ('historia', 1), ('estaremos', 1), ('tú', 1), ('yo', 1), ('Basta', 1), ('Mis', 1), ('palabras', 1), ('se', 1), ('han', 1), ('vuelto', 1), ('adoquines', 1), ('¿Dónde', 1), ('estás?', 1), ('Han', 1), ('llegado', 1), ('antidisturbios', 1), ('gases,', 1), ('escudos', 1), ('como', 1), ('vas', 1), ('tapada', 1), ('te', 1), ('puedo', 1), ('encontrar', 1)]\n"
     ]
    }
   ],
   "source": [
    "dic_ord = sorted(dicci_texto.items(), key=lambda x: x[1], reverse=True)\n",
    "print(dic_ord)"
   ]
  },
  {
   "cell_type": "markdown",
   "metadata": {},
   "source": [
    "Crea un nuevo diccionario llamado **top_repeticiones**, que contenga las 15 palabras más repetidas del texto."
   ]
  },
  {
   "cell_type": "code",
   "execution_count": 61,
   "metadata": {},
   "outputs": [
    {
     "name": "stdout",
     "output_type": "stream",
     "text": [
      "{'Y': 20, 'del': 19, 'la': 18, 'amor': 17, 'un': 17, 'Verano': 16, 'cóctel': 16, 'molotov': 16, 'de': 14, 'Ya': 8, 'suenan': 8, 'los': 8, 'tambores': 8, 'Siente': 8, 'vibración': 8}\n"
     ]
    }
   ],
   "source": [
    "top_repeticiones = dict(dic_ord[:15])\n",
    "print(top_repeticiones)"
   ]
  },
  {
   "cell_type": "markdown",
   "metadata": {},
   "source": [
    "El resto de las palabras que no están en el top, las vamos a agrupar en un nuevo diccionario llamado **resto_repeticiones**"
   ]
  },
  {
   "cell_type": "code",
   "execution_count": 68,
   "metadata": {},
   "outputs": [
    {
     "name": "stdout",
     "output_type": "stream",
     "text": [
      "{'Son': 8, 'niños': 8, 'las': 8, 'flores': 8, 'Es': 8, 'revolución': 8, 'en': 6, 'y': 5, 'no': 4, 'que': 4, 'paz': 2, 'Aunque': 2, 'Que': 2, 'les': 2, 'bien': 2, 'Están': 2, 'es': 2, 'ya': 2, 'lo': 2, 'Con': 2, 'con': 2, 'Mi': 1, 'sonrisa': 1, 'ondea': 1, 'son': 1, 'propios': 1, 'extraños': 1, 'me': 1, 'miren': 1, 'mal': 1, 'Genera': 1, 'tanta': 1, 'luz': 1, 'suele': 1, 'deslumbrar': 1, 'haya': 1, 'subido': 1, 'el': 1, 'nivel': 1, 'mar': 1, 'está': 1, 'retrocediendo': 1, 'otro': 1, 'glaciar': 1, 'A': 1, 'ellos': 1, 'va': 1, 'siguen': 1, 'dando': 1, 'gas': 1, 'Disfrutan': 1, 'otoño': 1, 'tropical': 1, 'playita': 1, 'parece': 1, 'genial': 1, 'Este': 1, 'calor': 1, 'normal': 1, 'morenos': 1, 'calentamiento': 1, 'global': 1, 'Yo': 1, 'soy': 1, 'violento,': 1, 'sabéis': 1, 'Pero': 1, 'estoy': 1, 'tan': 1, 'cansado': 1, 'escuchéis': 1, 'empiezo': 1, 'a': 1, 'dudar': 1, 'No': 1, 'sé': 1, 'muy': 1, 'qué': 1, 'hacer': 1, 'Se': 1, 'abren': 1, 'paragüas': 1, 'Hong': 1, 'Kong': 1, 'En': 1, 'Chile,': 1, 'Bolivia,': 1, 'Ecuador': 1, 'fuegos': 1, 'pasión': 1, 'contenedor': 1, 'aportarán': 1, 'Aquí': 1, 'hace': 1, 'falta': 1, 'poco': 1, 'acción': 1, 'Hay': 1, 'elegir': 1, 'convicción': 1, 'El': 1, 'lado': 1, 'historia': 1, 'estaremos': 1, 'tú': 1, 'yo': 1, 'Basta': 1, 'Mis': 1, 'palabras': 1, 'se': 1, 'han': 1, 'vuelto': 1, 'adoquines': 1, '¿Dónde': 1, 'estás?': 1, 'Han': 1, 'llegado': 1, 'antidisturbios': 1, 'gases,': 1, 'escudos': 1, 'como': 1, 'vas': 1, 'tapada': 1, 'te': 1, 'puedo': 1, 'encontrar': 1}\n"
     ]
    }
   ],
   "source": [
    "resto_repeticiones = {}\n",
    "for k,v in dic_ord:\n",
    "    if k not in top_repeticiones:\n",
    "         resto_repeticiones[k] = v\n",
    "print(resto_repeticiones)        "
   ]
  },
  {
   "cell_type": "markdown",
   "metadata": {},
   "source": [
    "¿Podrías hacer un bucle que haga los dos pasos anteriores pero en una sola pasada?"
   ]
  },
  {
   "cell_type": "code",
   "execution_count": 83,
   "metadata": {},
   "outputs": [
    {
     "name": "stdout",
     "output_type": "stream",
     "text": [
      "Este esel top 15: {'Y': 20, 'del': 19, 'la': 18, 'amor': 17, 'un': 17, 'Verano': 16, 'cóctel': 16, 'molotov': 16, 'de': 14, 'Ya': 8, 'suenan': 8, 'los': 8, 'tambores': 8, 'Siente': 8, 'vibración': 8}\n",
      "\n",
      "y este es el resto: {'Son': 8, 'niños': 8, 'las': 8, 'flores': 8, 'Es': 8, 'revolución': 8, 'en': 6, 'y': 5, 'no': 4, 'que': 4, 'paz': 2, 'Aunque': 2, 'Que': 2, 'les': 2, 'bien': 2, 'Están': 2, 'es': 2, 'ya': 2, 'lo': 2, 'Con': 2, 'con': 2, 'Mi': 1, 'sonrisa': 1, 'ondea': 1, 'son': 1, 'propios': 1, 'extraños': 1, 'me': 1, 'miren': 1, 'mal': 1, 'Genera': 1, 'tanta': 1, 'luz': 1, 'suele': 1, 'deslumbrar': 1, 'haya': 1, 'subido': 1, 'el': 1, 'nivel': 1, 'mar': 1, 'está': 1, 'retrocediendo': 1, 'otro': 1, 'glaciar': 1, 'A': 1, 'ellos': 1, 'va': 1, 'siguen': 1, 'dando': 1, 'gas': 1, 'Disfrutan': 1, 'otoño': 1, 'tropical': 1, 'playita': 1, 'parece': 1, 'genial': 1, 'Este': 1, 'calor': 1, 'normal': 1, 'morenos': 1, 'calentamiento': 1, 'global': 1, 'Yo': 1, 'soy': 1, 'violento,': 1, 'sabéis': 1, 'Pero': 1, 'estoy': 1, 'tan': 1, 'cansado': 1, 'escuchéis': 1, 'empiezo': 1, 'a': 1, 'dudar': 1, 'No': 1, 'sé': 1, 'muy': 1, 'qué': 1, 'hacer': 1, 'Se': 1, 'abren': 1, 'paragüas': 1, 'Hong': 1, 'Kong': 1, 'En': 1, 'Chile,': 1, 'Bolivia,': 1, 'Ecuador': 1, 'fuegos': 1, 'pasión': 1, 'contenedor': 1, 'aportarán': 1, 'Aquí': 1, 'hace': 1, 'falta': 1, 'poco': 1, 'acción': 1, 'Hay': 1, 'elegir': 1, 'convicción': 1, 'El': 1, 'lado': 1, 'historia': 1, 'estaremos': 1, 'tú': 1, 'yo': 1, 'Basta': 1, 'Mis': 1, 'palabras': 1, 'se': 1, 'han': 1, 'vuelto': 1, 'adoquines': 1, '¿Dónde': 1, 'estás?': 1, 'Han': 1, 'llegado': 1, 'antidisturbios': 1, 'gases,': 1, 'escudos': 1, 'como': 1, 'vas': 1, 'tapada': 1, 'te': 1, 'puedo': 1, 'encontrar': 1}\n"
     ]
    }
   ],
   "source": [
    "for i in dic_ord:\n",
    "    top_repeticiones = dict(dic_ord[:15])\n",
    "\n",
    "    for k,v in dic_ord:\n",
    "        if k not in top_repeticiones:\n",
    "             resto_repeticiones[k] = v\n",
    "print(f'Este esel top 15: {top_repeticiones}\\n\\ny este es el resto: {resto_repeticiones}') "
   ]
  },
  {
   "cell_type": "markdown",
   "metadata": {},
   "source": [
    "### BONUS 😎😎😎 ***push your limits***"
   ]
  },
  {
   "cell_type": "markdown",
   "metadata": {},
   "source": [
    "Ahora quiero que crees un nuevo diccionario llamado **diccionario_infernal**, en este caso las claves serán las distintas longitudes de las palabras y los values serán tuplas donde el primer elemento sea una lista de palabras de esa longitud y el segundo elemento sea el número de palabras de esa longitud."
   ]
  },
  {
   "cell_type": "code",
   "execution_count": null,
   "metadata": {},
   "outputs": [],
   "source": [
    "#Tu código aquí"
   ]
  },
  {
   "cell_type": "markdown",
   "metadata": {},
   "source": [
    "Vamos a cargar de nuevo el texto completo del archivo texto.txt. El reto es que junteis todo el texto del fichero en una sola string que no tenga espacios , ni saltos de línea, ni signos de puntuación si los hubiera. Pero para que se pueda leer bien, vamos a comvertir todas las primeras letras de cada palabra en mayúsculas. ***Ej: \"hola, que tal?\" --> \"HolaQueTal\"*** 😈👿😈"
   ]
  },
  {
   "cell_type": "code",
   "execution_count": 1,
   "metadata": {},
   "outputs": [],
   "source": [
    "contenido = open(\"texto.txt\", \"r\") #abre el archivo en modo lectura\n",
    "texto = contenido.read() #lee el archivo y lo guarda en la variable texto"
   ]
  },
  {
   "cell_type": "code",
   "execution_count": 2,
   "metadata": {},
   "outputs": [],
   "source": [
    "def limpieza_cadenas(cadena):\n",
    "    #cadena = cadena.lower()\n",
    "    cadena = cadena.replace(',','')\n",
    "    cadena = cadena.replace('!','')\n",
    "    cadena = cadena.replace('¡','')\n",
    "    cadena = cadena.replace('?','')\n",
    "    cadena = cadena.replace('¿','')\n",
    "    cadena = cadena.replace('#','')\n",
    "    cadena = cadena.replace('&','')\n",
    "    cadena = cadena.replace(':','')\n",
    "    cadena = cadena.replace(';','')\n",
    "    cadena = cadena.replace('\\n','')\n",
    "    cadena = cadena.replace(\" \", \"\")\n",
    "    cadena = cadena.replace(\"á\", \"a\")\n",
    "    cadena = cadena.replace(\"é\", \"e\")\n",
    "    cadena = cadena.replace(\"í\", \"i\")\n",
    "    cadena = cadena.replace(\"ó\", \"o\")\n",
    "    cadena = cadena.replace(\"ú\", \"u\")\n",
    "    palabras = cadena.split()\n",
    "    cadena = \" \".join([palabra.capitalize() for palabra in palabras])\n",
    "    return cadena"
   ]
  },
  {
   "cell_type": "code",
   "execution_count": 3,
   "metadata": {},
   "outputs": [
    {
     "data": {
      "text/plain": [
       "'Yasuenanlostamboressientelavibracionsonniñosdelasfloreseslarevolucionveranodelamoryuncoctelmolotovveranodelamoryuncoctelmolotovyasuenanlostamboressientelavibracionsonniñosdelasfloreseslarevolucionveranodelamoryuncoctelmolotovveranodelamoryuncoctelmolotovmisonrisaondeaensondepazaunquepropiosyextrañosmemirenmalgeneratantaluzquesueledeslumbraraunquehayasubidoelniveldelmaryestaretrocediendootroglaciaraelloslesvabienysiguendandogasdisfrutandelotoñotropicalestanenlaplayitaylesparecegenialestecalornoesnormalestanmorenosdelcalentamientoglobalyasuenanlostamboressientelavibracionsonniñosdelasfloreseslarevolucionveranodelamoryuncoctelmolotovveranodelamoryuncoctelmolotovyonosoyviolentoyalosabeisperoestoytancansadodequenoescucheisqueempiezoadudarnosemuybienquehacerseabrenparagüasenhongkongenchileenboliviaenecuadorconfuegosdepasionydecontenedoryaportaranpazyamoraquiloquehacefaltaesunpocodeaccionhayqueelegirconconviccionelladodelahistoriaenqueestaremostuyyoyasuenanlostamboressientelavibracionsonniñosdelasfloreseslarevolucionveranodelamoryuncoctelmolotovveranodelamoryuncoctelmolotovbastayamispalabrassehanvueltoadoquinesdondeestashanllegadoantidisturbioscongasesconescudosycomovastapadanotepuedoencontraryasuenanlostamboressientelavibracionsonniñosdelasfloreseslarevolucionveranodelamoryuncoctelmolotovveranodelamoryuncoctelmolotovyasuenanlostamboressientelavibracionsonniñosdelasfloreseslarevolucionveranodelamoryuncoctelmolotovveranodelamoryuncoctelmolotovyasuenanlostamboressientelavibracionsonniñosdelasfloreseslarevolucionveranodelamoryuncoctelmolotovveranodelamoryuncoctelmolotovyasuenanlostamboressientelavibracionsonniñosdelasfloreseslarevolucionveranodelamoryuncoctelmolotovveranodelamoryuncoctelmolotov'"
      ]
     },
     "execution_count": 3,
     "metadata": {},
     "output_type": "execute_result"
    }
   ],
   "source": [
    "limpieza_cadenas(texto)"
   ]
  },
  {
   "cell_type": "markdown",
   "metadata": {},
   "source": []
  }
 ],
 "metadata": {
  "kernelspec": {
   "display_name": "Python 3 (ipykernel)",
   "language": "python",
   "name": "python3"
  },
  "language_info": {
   "codemirror_mode": {
    "name": "ipython",
    "version": 3
   },
   "file_extension": ".py",
   "mimetype": "text/x-python",
   "name": "python",
   "nbconvert_exporter": "python",
   "pygments_lexer": "ipython3",
   "version": "3.11.2"
  }
 },
 "nbformat": 4,
 "nbformat_minor": 2
}
