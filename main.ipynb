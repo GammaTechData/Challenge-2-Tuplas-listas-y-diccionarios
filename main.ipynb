{
 "cells": [
  {
   "cell_type": "markdown",
   "metadata": {},
   "source": [
    "# TUPLAS , LISTAS y DICCIONARIOS\n",
    "-----"
   ]
  },
  {
   "cell_type": "markdown",
   "metadata": {},
   "source": [
    "### TUPLAS"
   ]
  },
  {
   "cell_type": "markdown",
   "metadata": {},
   "source": [
    "Crea una tupla de un ***solo elemento*** (comma is the key...)"
   ]
  },
  {
   "cell_type": "code",
   "execution_count": 4,
   "metadata": {},
   "outputs": [
    {
     "name": "stdout",
     "output_type": "stream",
     "text": [
      "gato\n"
     ]
    }
   ],
   "source": [
    "tupla1 = ('pato', 'perro', 'gato', 'chango', 'pajaro')\n",
    "a, b, c, d, e = tupla1\n",
    "print(c)\n",
    "#print(tupla1)"
   ]
  },
  {
   "cell_type": "markdown",
   "metadata": {},
   "source": [
    "Comprueba el tipo de la variable que acabas de crear, debe ser ***tuple***"
   ]
  },
  {
   "cell_type": "code",
   "execution_count": 31,
   "metadata": {},
   "outputs": [
    {
     "data": {
      "text/plain": [
       "tuple"
      ]
     },
     "execution_count": 31,
     "metadata": {},
     "output_type": "execute_result"
    }
   ],
   "source": [
    "type(tupla1)"
   ]
  },
  {
   "cell_type": "markdown",
   "metadata": {},
   "source": [
    "Añade un elemento a esta tupla de un solo elemento"
   ]
  },
  {
   "cell_type": "code",
   "execution_count": 40,
   "metadata": {},
   "outputs": [
    {
     "name": "stdout",
     "output_type": "stream",
     "text": [
      "('pato', 'perro', 'gato', 'chango', 'pajaro')\n"
     ]
    }
   ],
   "source": [
    "print(tupla1)"
   ]
  },
  {
   "cell_type": "code",
   "execution_count": 5,
   "metadata": {},
   "outputs": [
    {
     "data": {
      "text/plain": [
       "('pato', 'perro', 'gato', 'chango', 'pajaro', 'tigre')"
      ]
     },
     "execution_count": 5,
     "metadata": {},
     "output_type": "execute_result"
    }
   ],
   "source": [
    "f = 'tigre'\n",
    "list_tupla1 = list(tupla1)\n",
    "list_tupla1.append(f)\n",
    "list_tupla1 = tuple(list_tupla1)\n",
    "list_tupla1"
   ]
  },
  {
   "cell_type": "markdown",
   "metadata": {},
   "source": [
    "Reasigna \"l\",\"a\",\"s\",\"t\",\"u\",\"p\",\"l\",\"a\",\"s\",\"m\",\"o\",\"l\",\"a\",\"n\" a la tupla que has declarado\n"
   ]
  },
  {
   "cell_type": "code",
   "execution_count": 6,
   "metadata": {},
   "outputs": [
    {
     "data": {
      "text/plain": [
       "('l', 'a', 's', 't', 'u', 'p', 'l', 'a', 's', 'm', 'o', 'l', 'a', 'n')"
      ]
     },
     "execution_count": 6,
     "metadata": {},
     "output_type": "execute_result"
    }
   ],
   "source": [
    "letras = [\"l\",\"a\",\"s\",\"t\",\"u\",\"p\",\"l\",\"a\",\"s\",\"m\",\"o\",\"l\",\"a\",\"n\"]\n",
    "list_tupla2 = list(tupla1)\n",
    "\n",
    "list_tupla2 = letras\n",
    "tupla1 = tuple(list_tupla2)\n",
    "tupla1"
   ]
  },
  {
   "cell_type": "markdown",
   "metadata": {},
   "source": [
    "Parte esa tuplas en 3 nuevas (1 por cada palabra)"
   ]
  },
  {
   "cell_type": "code",
   "execution_count": 7,
   "metadata": {},
   "outputs": [
    {
     "name": "stdout",
     "output_type": "stream",
     "text": [
      "('l', 'a', 's') ('t', 'u', 'p', 'l', 'a', 's') ('m', 'o', 'l', 'a', 'n')\n"
     ]
    }
   ],
   "source": [
    "las = tupla1[0:3]\n",
    "tuplas = tupla1[3:9]\n",
    "molan = tupla1[9:]\n",
    "\n",
    "print(las, tuplas, molan)"
   ]
  },
  {
   "cell_type": "markdown",
   "metadata": {},
   "source": [
    "Crea un código que compruebe si el número de elementos en las 3 tuplas juntas es igual a la suma de los elementos dentro de cada tupla"
   ]
  },
  {
   "cell_type": "code",
   "execution_count": 22,
   "metadata": {},
   "outputs": [
    {
     "name": "stdout",
     "output_type": "stream",
     "text": [
      "La suma de los elementos de la tupla las1 NO es igual al total de la suma de las 3 tuplas\n",
      "La suma de los elementos de la tupla suma_tuplas1 NO es igual al total de la suma de las 3 tuplas\n",
      "La suma de los elementos de la tupla suma_molan1 NO es igual al total de la suma de las 3 tuplas\n"
     ]
    }
   ],
   "source": [
    "def evalua_tuplas(suma, suma_total, nombre_tupla):\n",
    "    if suma == suma_total:    \n",
    "        print('La suma de los elementos de la tupla '+ nombre_tupla + ' es igual al total de la suma de las 3 tuplas')\n",
    "    else:\n",
    "        print('La suma de los elementos de la tupla '+ nombre_tupla + ' NO es igual al total de la suma de las 3 tuplas')\n",
    "\n",
    "\n",
    "def suma_tuplas(list_tupla1):\n",
    "    indice = 0\n",
    "    resultado = 0\n",
    "    for i in list_tupla1:\n",
    "        resultado = indice + resultado\n",
    "        indice += 1\n",
    "    return(resultado)\n",
    "\n",
    "las1 = list(las)\n",
    "tuplas1 = list(tuplas)\n",
    "molan1 = list(molan)\n",
    "las_tuplas = list(las1 + tuplas1 + molan1)\n",
    "suma_las1 = suma_tuplas(las1)\n",
    "suma_tuplas1 = suma_tuplas(tuplas1)\n",
    "suma_molan1 = suma_tuplas(molan1)\n",
    "suma_total = len(las_tuplas)\n",
    "\n",
    "\n",
    "evalua_tuplas(suma_las1, suma_total, 'las1')\n",
    "evalua_tuplas(suma_tuplas1, suma_total, 'suma_tuplas1')\n",
    "evalua_tuplas(suma_molan1, suma_total, 'suma_molan1')\n"
   ]
  },
  {
   "cell_type": "markdown",
   "metadata": {},
   "source": [
    "Genera una 2 listas (pares e impares), debes recorrer la tupla y añadir los elementos a cada lista en funciónde si su índice es par o impar"
   ]
  },
  {
   "cell_type": "code",
   "execution_count": 26,
   "metadata": {},
   "outputs": [
    {
     "name": "stdout",
     "output_type": "stream",
     "text": [
      "lista de pares: \n",
      "['l', 's', 'u', 'l', 's', 'o', 'a']\n",
      "lista de impares: \n",
      "['a', 't', 'p', 'a', 'm', 'l', 'n']\n"
     ]
    }
   ],
   "source": [
    "pares=[]\n",
    "impares=[]\n",
    "list_tupla=tupla1\n",
    "contador=0\n",
    "\n",
    "for i in list_tupla:\n",
    "    if contador % 2 == 0:\n",
    "        pares.append(i)\n",
    "    else:\n",
    "        impares.append(i) \n",
    "    contador += 1\n",
    "    \n",
    "print('lista de pares: ')\n",
    "print(pares)\n",
    "print('lista de impares: ')\n",
    "print(impares)\n",
    "\n",
    "#Si te preguntan por que la \"l\" cuyo indice es cero, está en la lista de pares, es porque el cero es un numero par \n",
    "    "
   ]
  },
  {
   "cell_type": "markdown",
   "metadata": {},
   "source": [
    "Usa un bucle para comprobar si los elmentos de la lista =[\"n\",\"u\",\"s\",\"l\",\"c\",\"b\",\"x\",\"t\",\"n\"], están presentes en la tupla completa"
   ]
  },
  {
   "cell_type": "code",
   "execution_count": 53,
   "metadata": {},
   "outputs": [
    {
     "name": "stdout",
     "output_type": "stream",
     "text": [
      "La letra 'n' se encuentra en la tupla\n",
      "La letra 'u' se encuentra en la tupla\n",
      "La letra 's' se encuentra en la tupla\n",
      "La letra 'l' se encuentra en la tupla\n",
      "La letra 'c' NO se encuentra en la tupla\n",
      "La letra 'b' NO se encuentra en la tupla\n",
      "La letra 'x' NO se encuentra en la tupla\n",
      "La letra 't' se encuentra en la tupla\n",
      "La letra 'n' se encuentra en la tupla\n"
     ]
    }
   ],
   "source": [
    "lista =[\"n\",\"u\",\"s\",\"l\",\"c\",\"b\",\"x\",\"t\",\"n\"]\n",
    "bandera=False\n",
    "\n",
    "for i in lista:\n",
    "    for j in list_tupla:\n",
    "        if i == j:\n",
    "            bandera = True\n",
    "            break\n",
    "    \n",
    "    if bandera==True:\n",
    "        print(\"La letra '\" + i + \"' se encuentra en la tupla\")\n",
    "    else:\n",
    "        print(\"La letra '\" + i + \"' NO se encuentra en la tupla\")\n",
    "    \n",
    "    bandera=False\n",
    "        "
   ]
  },
  {
   "cell_type": "markdown",
   "metadata": {},
   "source": [
    "Saca por pantalla el número de veces que aparece cada elemento de la lista, si no existe el elemento debe mostrar el mensaje \"La letra***nombre_de_la_letra*** no está en la tupla\""
   ]
  },
  {
   "cell_type": "code",
   "execution_count": 56,
   "metadata": {},
   "outputs": [
    {
     "name": "stdout",
     "output_type": "stream",
     "text": [
      "La letra 'n' está en la tupla y se repite 1 vez\n",
      "La letra 'u' está en la tupla y se repite 1 vez\n",
      "La letra 's' está en la tupla y se repite 2 veces\n",
      "La letra 'l' está en la tupla y se repite 3 veces\n",
      "La letra 'c' NO está en la tupla\n",
      "La letra 'b' NO está en la tupla\n",
      "La letra 'x' NO está en la tupla\n",
      "La letra 't' está en la tupla y se repite 1 vez\n",
      "La letra 'n' está en la tupla y se repite 1 vez\n"
     ]
    }
   ],
   "source": [
    "lista =[\"n\",\"u\",\"s\",\"l\",\"c\",\"b\",\"x\",\"t\",\"n\"]\n",
    "bandera=False\n",
    "contador=0\n",
    "\n",
    "for i in lista:\n",
    "    for j in list_tupla:\n",
    "        if i == j:\n",
    "            bandera = True\n",
    "            contador += 1\n",
    "    \n",
    "    if bandera==True:\n",
    "        if contador == 1:\n",
    "             print(\"La letra '\" + i + \"' está en la tupla y se repite \" + str(contador) + \" vez\")\n",
    "        else:\n",
    "             print(\"La letra '\" + i + \"' está en la tupla y se repite \" + str(contador) + \" veces\")\n",
    "    else:\n",
    "        print(\"La letra '\" + i + \"' NO está en la tupla\")\n",
    "    \n",
    "    bandera=False\n",
    "    contador = 0"
   ]
  },
  {
   "cell_type": "markdown",
   "metadata": {},
   "source": [
    "## SETS"
   ]
  },
  {
   "cell_type": "markdown",
   "metadata": {},
   "source": [
    "Os dejo este pequeño resumen sobre los sets para que lo tengáis a mano durante los ejercicios. ![enlace] (https://www.w3schools.com/python/python_sets.asp)"
   ]
  },
  {
   "cell_type": "markdown",
   "metadata": {},
   "source": [
    "Para esta parte usaremos la libreria *random* que ya hemos visto en clase."
   ]
  },
  {
   "cell_type": "markdown",
   "metadata": {},
   "source": [
    "Crea una lista llamada ***muestra***:\n",
    "- Debe estar compuesta por 80 elementos\n",
    "- Los elementos deben ser enteros entre 0 y 200"
   ]
  },
  {
   "cell_type": "markdown",
   "metadata": {},
   "source": [
    "Pista: random.sample --> [enlace](https://docs.python.org/es/3/library/random.html#random.sample)"
   ]
  },
  {
   "cell_type": "code",
   "execution_count": 2,
   "metadata": {},
   "outputs": [
    {
     "data": {
      "text/plain": [
       "(0,\n",
       " 1,\n",
       " 2,\n",
       " 3,\n",
       " 4,\n",
       " 5,\n",
       " 6,\n",
       " 7,\n",
       " 8,\n",
       " 9,\n",
       " 10,\n",
       " 11,\n",
       " 12,\n",
       " 13,\n",
       " 15,\n",
       " 23,\n",
       " 45,\n",
       " 6,\n",
       " 5,\n",
       " 44,\n",
       " 9,\n",
       " 8,\n",
       " 22,\n",
       " 1,\n",
       " 2,\n",
       " 4,\n",
       " 3,\n",
       " 6,\n",
       " 9,\n",
       " 44,\n",
       " 55,\n",
       " 22,\n",
       " 22,\n",
       " 66,\n",
       " 44,\n",
       " 75,\n",
       " 96,\n",
       " 31,\n",
       " 5,\n",
       " 46,\n",
       " 20,\n",
       " 1,\n",
       " 2,\n",
       " 3,\n",
       " 4,\n",
       " 5,\n",
       " 6,\n",
       " 7,\n",
       " 8,\n",
       " 9,\n",
       " 10,\n",
       " 11,\n",
       " 12,\n",
       " 13,\n",
       " 15,\n",
       " 23,\n",
       " 45,\n",
       " 6,\n",
       " 5,\n",
       " 44,\n",
       " 9,\n",
       " 8,\n",
       " 22,\n",
       " 1,\n",
       " 2,\n",
       " 4,\n",
       " 3,\n",
       " 6,\n",
       " 9,\n",
       " 44,\n",
       " 55,\n",
       " 22,\n",
       " 22,\n",
       " 66,\n",
       " 44,\n",
       " 75,\n",
       " 96,\n",
       " 31,\n",
       " 5,\n",
       " 46,\n",
       " 20)"
      ]
     },
     "execution_count": 2,
     "metadata": {},
     "output_type": "execute_result"
    }
   ],
   "source": [
    "muestra = (0,1,2,3,4,5,6,7,8,9,10,11,12,13,15,23,45,6,5,44,9,8,22,1,2,4,3,6,9,44,55,22,22,66,44,75,96,31,5,46,20,1,2,3,4,5,6,7,8,9,10,11,12,13,15,23,45,6,5,44,9,8,22,1,2,4,3,6,9,44,55,22,22,66,44,75,96,31,5,46,20)\n",
    "muestra"
   ]
  },
  {
   "cell_type": "markdown",
   "metadata": {},
   "source": [
    "Convierte tu lista en un set, llámalo set1 y comprueba si tiene el mismo numero de elementos que la lista original"
   ]
  },
  {
   "cell_type": "code",
   "execution_count": 3,
   "metadata": {},
   "outputs": [
    {
     "data": {
      "text/plain": [
       "{0,\n",
       " 1,\n",
       " 2,\n",
       " 3,\n",
       " 4,\n",
       " 5,\n",
       " 6,\n",
       " 7,\n",
       " 8,\n",
       " 9,\n",
       " 10,\n",
       " 11,\n",
       " 12,\n",
       " 13,\n",
       " 15,\n",
       " 20,\n",
       " 22,\n",
       " 23,\n",
       " 31,\n",
       " 44,\n",
       " 45,\n",
       " 46,\n",
       " 55,\n",
       " 66,\n",
       " 75,\n",
       " 96}"
      ]
     },
     "execution_count": 3,
     "metadata": {},
     "output_type": "execute_result"
    }
   ],
   "source": [
    "set(muestra)"
   ]
  },
  {
   "cell_type": "markdown",
   "metadata": {},
   "source": [
    "Crea una segunda lista de 100 elementos , ahora usa un bucle for junto con la librería random."
   ]
  },
  {
   "cell_type": "code",
   "execution_count": 34,
   "metadata": {},
   "outputs": [],
   "source": [
    "from random import choice\n",
    "lista100 = 'ajshudnckolslpñsjuet4152456987ñdjchskencjhaideopñld452165KDHCNZKELIHAYEGSTUBQPÑLMXHSYDGRNXHWLOIY4563ld'\n"
   ]
  },
  {
   "cell_type": "markdown",
   "metadata": {},
   "source": [
    "Convierte la segunda lista en un set y llámalo set2, compruba su loongitud"
   ]
  },
  {
   "cell_type": "code",
   "execution_count": 5,
   "metadata": {},
   "outputs": [
    {
     "name": "stdout",
     "output_type": "stream",
     "text": [
      "{'e', 'L', 'P', 'G', '9', '6', '4', 'T', 't', 'R', '8', '7', '3', 'i', 'D', 'Y', '1', 'E', 'O', 'X', 'K', 'o', 'S', 'ñ', 'C', 'h', 'p', 'a', 'c', 'Q', 'd', 'U', 'M', 'B', 'j', 'I', 'l', 'u', 'k', 'n', 'H', 's', 'W', 'N', '5', 'A', 'Ñ', 'Z', '2'}\n"
     ]
    }
   ],
   "source": [
    "set2 = set(lista100)\n",
    "print(set2)"
   ]
  },
  {
   "cell_type": "code",
   "execution_count": 6,
   "metadata": {},
   "outputs": [
    {
     "data": {
      "text/plain": [
       "49"
      ]
     },
     "execution_count": 6,
     "metadata": {},
     "output_type": "execute_result"
    }
   ],
   "source": [
    "len(set2)"
   ]
  },
  {
   "cell_type": "markdown",
   "metadata": {},
   "source": [
    "Crea un nuevo set3 compuesto por los elementos que son comunes en set1 y set2"
   ]
  },
  {
   "cell_type": "code",
   "execution_count": 31,
   "metadata": {},
   "outputs": [
    {
     "data": {
      "text/plain": [
       "set"
      ]
     },
     "execution_count": 31,
     "metadata": {},
     "output_type": "execute_result"
    }
   ],
   "source": [
    "set1 = set(muestra)\n",
    "set"
   ]
  },
  {
   "cell_type": "code",
   "execution_count": 28,
   "metadata": {},
   "outputs": [
    {
     "data": {
      "text/plain": [
       "({'1',\n",
       "  '2',\n",
       "  '3',\n",
       "  '4',\n",
       "  '5',\n",
       "  '6',\n",
       "  '7',\n",
       "  '8',\n",
       "  '9',\n",
       "  'A',\n",
       "  'B',\n",
       "  'C',\n",
       "  'D',\n",
       "  'E',\n",
       "  'G',\n",
       "  'H',\n",
       "  'I',\n",
       "  'K',\n",
       "  'L',\n",
       "  'M',\n",
       "  'N',\n",
       "  'O',\n",
       "  'P',\n",
       "  'Q',\n",
       "  'R',\n",
       "  'S',\n",
       "  'T',\n",
       "  'U',\n",
       "  'W',\n",
       "  'X',\n",
       "  'Y',\n",
       "  'Z',\n",
       "  'a',\n",
       "  'c',\n",
       "  'd',\n",
       "  'e',\n",
       "  'h',\n",
       "  'i',\n",
       "  'j',\n",
       "  'k',\n",
       "  'l',\n",
       "  'n',\n",
       "  'o',\n",
       "  'p',\n",
       "  's',\n",
       "  't',\n",
       "  'u',\n",
       "  'Ñ',\n",
       "  'ñ'},\n",
       " (0,\n",
       "  1,\n",
       "  2,\n",
       "  3,\n",
       "  4,\n",
       "  5,\n",
       "  6,\n",
       "  7,\n",
       "  8,\n",
       "  9,\n",
       "  10,\n",
       "  11,\n",
       "  12,\n",
       "  13,\n",
       "  15,\n",
       "  23,\n",
       "  45,\n",
       "  6,\n",
       "  5,\n",
       "  44,\n",
       "  9,\n",
       "  8,\n",
       "  22,\n",
       "  1,\n",
       "  2,\n",
       "  4,\n",
       "  3,\n",
       "  6,\n",
       "  9,\n",
       "  44,\n",
       "  55,\n",
       "  22,\n",
       "  22,\n",
       "  66,\n",
       "  44,\n",
       "  75,\n",
       "  96,\n",
       "  31,\n",
       "  5,\n",
       "  46,\n",
       "  20,\n",
       "  1,\n",
       "  2,\n",
       "  3,\n",
       "  4,\n",
       "  5,\n",
       "  6,\n",
       "  7,\n",
       "  8,\n",
       "  9,\n",
       "  10,\n",
       "  11,\n",
       "  12,\n",
       "  13,\n",
       "  15,\n",
       "  23,\n",
       "  45,\n",
       "  6,\n",
       "  5,\n",
       "  44,\n",
       "  9,\n",
       "  8,\n",
       "  22,\n",
       "  1,\n",
       "  2,\n",
       "  4,\n",
       "  3,\n",
       "  6,\n",
       "  9,\n",
       "  44,\n",
       "  55,\n",
       "  22,\n",
       "  22,\n",
       "  66,\n",
       "  44,\n",
       "  75,\n",
       "  96,\n",
       "  31,\n",
       "  5,\n",
       "  46,\n",
       "  20))"
      ]
     },
     "execution_count": 28,
     "metadata": {},
     "output_type": "execute_result"
    }
   ],
   "source": [
    "set_3 = set2, muestra\n",
    "set_3"
   ]
  },
  {
   "cell_type": "markdown",
   "metadata": {},
   "source": [
    "Crea un set4 compuesto por los elementos que están en set1 pero no en set2"
   ]
  },
  {
   "cell_type": "code",
   "execution_count": 41,
   "metadata": {},
   "outputs": [
    {
     "data": {
      "text/plain": [
       "set()"
      ]
     },
     "execution_count": 41,
     "metadata": {},
     "output_type": "execute_result"
    }
   ],
   "source": [
    "set_4 = set1.intersection(set2)\n",
    "set_4"
   ]
  },
  {
   "cell_type": "markdown",
   "metadata": {},
   "source": [
    "Crea un set vacío llamado set5, añade los elementos de set1 y set3 a este nuevo set usando los métodos de los sets"
   ]
  },
  {
   "cell_type": "code",
   "execution_count": 49,
   "metadata": {},
   "outputs": [
    {
     "ename": "TypeError",
     "evalue": "unhashable type: 'set'",
     "output_type": "error",
     "traceback": [
      "\u001b[0;31m---------------------------------------------------------------------------\u001b[0m",
      "\u001b[0;31mTypeError\u001b[0m                                 Traceback (most recent call last)",
      "Cell \u001b[0;32mIn[49], line 1\u001b[0m\n\u001b[0;32m----> 1\u001b[0m set3 \u001b[38;5;241m=\u001b[39m \u001b[38;5;28;43mset\u001b[39;49m\u001b[43m(\u001b[49m\u001b[43mset_3\u001b[49m\u001b[43m)\u001b[49m\n\u001b[1;32m      2\u001b[0m set3\n",
      "\u001b[0;31mTypeError\u001b[0m: unhashable type: 'set'"
     ]
    }
   ],
   "source": [
    "set3 = set(set_3)\n",
    "set3"
   ]
  },
  {
   "cell_type": "code",
   "execution_count": 47,
   "metadata": {},
   "outputs": [
    {
     "ename": "TypeError",
     "evalue": "unsupported operand type(s) for +: 'set' and 'tuple'",
     "output_type": "error",
     "traceback": [
      "\u001b[0;31m---------------------------------------------------------------------------\u001b[0m",
      "\u001b[0;31mTypeError\u001b[0m                                 Traceback (most recent call last)",
      "Cell \u001b[0;32mIn[47], line 1\u001b[0m\n\u001b[0;32m----> 1\u001b[0m set_4 \u001b[38;5;241m=\u001b[39m \u001b[43mset1\u001b[49m\u001b[43m \u001b[49m\u001b[38;5;241;43m+\u001b[39;49m\u001b[43m \u001b[49m\u001b[43mset_3\u001b[49m\n\u001b[1;32m      2\u001b[0m set_4\n",
      "\u001b[0;31mTypeError\u001b[0m: unsupported operand type(s) for +: 'set' and 'tuple'"
     ]
    }
   ],
   "source": [
    "set_4 = set1 + set_3\n",
    "set_4"
   ]
  },
  {
   "cell_type": "markdown",
   "metadata": {},
   "source": [
    "Compruba si el set1 contiene al set2"
   ]
  },
  {
   "cell_type": "code",
   "execution_count": null,
   "metadata": {},
   "outputs": [],
   "source": [
    "#Tu código aquí"
   ]
  },
  {
   "cell_type": "markdown",
   "metadata": {},
   "source": [
    "Tomando como referencia esta lista = [1, 9, 11, 19, 21, 29, 31, 39, 41, 49, 51, 59, 61, 69, 71, 79, 81, 89, 91, 99], elimina los elementos del set5 que están en la lista."
   ]
  },
  {
   "cell_type": "code",
   "execution_count": null,
   "metadata": {},
   "outputs": [],
   "source": [
    "#Tu código aquí"
   ]
  },
  {
   "cell_type": "markdown",
   "metadata": {},
   "source": [
    "Elimina los elementos del set3, que están en la lista del ejemplo anterior, pero que no están en el set1"
   ]
  },
  {
   "cell_type": "markdown",
   "metadata": {},
   "source": [
    "## DICCIONARIOS"
   ]
  },
  {
   "cell_type": "markdown",
   "metadata": {},
   "source": [
    "Para el ejercicio lo primero vamos a cargar en una variable llamada **texto** el contenido del archivo \"texto.txt\" que os he dejado en el repositorio."
   ]
  },
  {
   "cell_type": "code",
   "execution_count": 51,
   "metadata": {},
   "outputs": [],
   "source": [
    "contenido = open(\"texto.txt\", \"r\") #abre el archivo en modo lectura\n",
    "texto = contenido.read() #lee el archivo y lo guarda en la variable texto"
   ]
  },
  {
   "cell_type": "code",
   "execution_count": 52,
   "metadata": {},
   "outputs": [
    {
     "name": "stdout",
     "output_type": "stream",
     "text": [
      "Ya suenan los tambores\n",
      "Siente la vibración\n",
      "Son niños de las flores\n",
      "Es la revolución\n",
      "Verano del amor\n",
      "Y un cóctel molotov\n",
      "Verano del amor\n",
      "Y un cóctel molotov\n",
      "Ya suenan los tambores\n",
      "Siente la vibración\n",
      "Son niños de las flores\n",
      "Es la revolución\n",
      "Verano del amor\n",
      "Y un cóctel molotov\n",
      "Verano del amor\n",
      "Y un cóctel molotov\n",
      "Mi sonrisa ondea en son de paz\n",
      "Aunque propios y extraños me miren mal\n",
      "Genera tanta luz\n",
      "Que suele deslumbrar\n",
      "Aunque haya subido el nivel del mar\n",
      "Y está retrocediendo otro glaciar\n",
      "A ellos les va bien\n",
      "Y siguen dando gas\n",
      "Disfrutan del otoño tropical\n",
      "Están en la playita y les parece genial\n",
      "Este calor no es normal\n",
      "Están morenos del calentamiento global\n",
      "Ya suenan los tambores\n",
      "Siente la vibración\n",
      "Son niños de las flores\n",
      "Es la revolución\n",
      "Verano del amor\n",
      "Y un cóctel molotov\n",
      "Verano del amor\n",
      "Y un cóctel molotov\n",
      "Yo no soy violento, ya lo sabéis\n",
      "Pero estoy tan cansado de que no escuchéis\n",
      "Que empiezo a dudar\n",
      "No sé muy bien qué hacer\n",
      "Se abren paragüas en Hong Kong\n",
      "En Chile, en Bolivia, en Ecuador\n",
      "Con fuegos de pasión y de contenedor\n",
      "Y aportarán paz y amor\n",
      "Aquí lo que hace falta es un poco de acción\n",
      "Hay que elegir con convicción\n",
      "El lado de la historia en que estaremos tú y yo\n",
      "Ya suenan los tambores\n",
      "Siente la vibración\n",
      "Son niños de las flores\n",
      "Es la revolución\n",
      "Verano del amor\n",
      "Y un cóctel molotov\n",
      "Verano del amor\n",
      "Y un cóctel molotov\n",
      "Basta ya\n",
      "Mis palabras se han vuelto adoquines\n",
      "¿Dónde estás?\n",
      "Han llegado antidisturbios\n",
      "Con gases, con escudos\n",
      "Y como vas tapada no te puedo encontrar\n",
      "Ya suenan los tambores\n",
      "Siente la vibración\n",
      "Son niños de las flores\n",
      "Es la revolución\n",
      "Verano del amor\n",
      "Y un cóctel molotov\n",
      "Verano del amor\n",
      "Y un cóctel molotov\n",
      "Ya suenan los tambores\n",
      "Siente la vibración\n",
      "Son niños de las flores\n",
      "Es la revolución\n",
      "Verano del amor\n",
      "Y un cóctel molotov\n",
      "Verano del amor\n",
      "Y un cóctel molotov\n",
      "Ya suenan los tambores\n",
      "Siente la vibración\n",
      "Son niños de las flores\n",
      "Es la revolución\n",
      "Verano del amor\n",
      "Y un cóctel molotov\n",
      "Verano del amor\n",
      "Y un cóctel molotov\n",
      "Ya suenan los tambores\n",
      "Siente la vibración\n",
      "Son niños de las flores\n",
      "Es la revolución\n",
      "Verano del amor\n",
      "Y un cóctel molotov\n",
      "Verano del amor\n",
      "Y un cóctel molotov\n"
     ]
    }
   ],
   "source": [
    "print(texto)"
   ]
  },
  {
   "cell_type": "markdown",
   "metadata": {},
   "source": [
    "Nuestra variable tienen el contenido del archivo y si hacemos un print, parece que está todo ok....pero no."
   ]
  },
  {
   "cell_type": "code",
   "execution_count": 53,
   "metadata": {},
   "outputs": [
    {
     "data": {
      "text/plain": [
       "str"
      ]
     },
     "execution_count": 53,
     "metadata": {},
     "output_type": "execute_result"
    }
   ],
   "source": [
    "type(texto)"
   ]
  },
  {
   "cell_type": "markdown",
   "metadata": {},
   "source": [
    "Es una string.\n",
    "Veamos como es realmente:"
   ]
  },
  {
   "cell_type": "code",
   "execution_count": 54,
   "metadata": {},
   "outputs": [
    {
     "data": {
      "text/plain": [
       "'Ya suenan los tambores\\nSiente la vibración\\nSon niños de las flores\\nEs la revolución\\nVerano del amor\\n'"
      ]
     },
     "execution_count": 54,
     "metadata": {},
     "output_type": "execute_result"
    }
   ],
   "source": [
    "texto[:100] #imprime los primeros 100 caracteres del texto, tenemos mucho salto de linea verdad?"
   ]
  },
  {
   "cell_type": "markdown",
   "metadata": {},
   "source": [
    "Limpia la cadena y elimina los saltos de línea"
   ]
  },
  {
   "cell_type": "code",
   "execution_count": null,
   "metadata": {},
   "outputs": [],
   "source": [
    "#reemplaza los saltos de linea por espacios, si lo cambiaras por nada, se eliminarian, y estaríamos juntando palabras OJO!"
   ]
  },
  {
   "cell_type": "code",
   "execution_count": 61,
   "metadata": {},
   "outputs": [
    {
     "name": "stdout",
     "output_type": "stream",
     "text": [
      "Ya suenan los tambores\n",
      "Siente la vibración\n",
      "Son niños de las flores\n",
      "Es la revolución\n",
      "Verano del amor\n",
      "Y un cóctel molotov\n",
      "Verano del amor\n",
      "Y un cóctel molotov\n",
      "Ya suenan los tambores\n",
      "Siente la vibración\n",
      "Son niños de las flores\n",
      "Es la revolución\n",
      "Verano del amor\n",
      "Y un cóctel molotov\n",
      "Verano del amor\n",
      "Y un cóctel molotov\n",
      "Mi sonrisa ondea en son de paz\n",
      "Aunque propios y extraños me miren mal\n",
      "Genera tanta luz\n",
      "Que suele deslumbrar\n",
      "Aunque haya subido el nivel del mar\n",
      "Y está retrocediendo otro glaciar\n",
      "A ellos les va bien\n",
      "Y siguen dando gas\n",
      "Disfrutan del otoño tropical\n",
      "Están en la playita y les parece genial\n",
      "Este calor no es normal\n",
      "Están morenos del calentamiento global\n",
      "Ya suenan los tambores\n",
      "Siente la vibración\n",
      "Son niños de las flores\n",
      "Es la revolución\n",
      "Verano del amor\n",
      "Y un cóctel molotov\n",
      "Verano del amor\n",
      "Y un cóctel molotov\n",
      "Yo no soy violento, ya lo sabéis\n",
      "Pero estoy tan cansado de que no escuchéis\n",
      "Que empiezo a dudar\n",
      "No sé muy bien qué hacer\n",
      "Se abren paragüas en Hong Kong\n",
      "En Chile, en Bolivia, en Ecuador\n",
      "Con fuegos de pasión y de contenedor\n",
      "Y aportarán paz y amor\n",
      "Aquí lo que hace falta es un poco de acción\n",
      "Hay que elegir con convicción\n",
      "El lado de la historia en que estaremos tú y yo\n",
      "Ya suenan los tambores\n",
      "Siente la vibración\n",
      "Son niños de las flores\n",
      "Es la revolución\n",
      "Verano del amor\n",
      "Y un cóctel molotov\n",
      "Verano del amor\n",
      "Y un cóctel molotov\n",
      "Basta ya\n",
      "Mis palabras se han vuelto adoquines\n",
      "¿Dónde estás?\n",
      "Han llegado antidisturbios\n",
      "Con gases, con escudos\n",
      "Y como vas tapada no te puedo encontrar\n",
      "Ya suenan los tambores\n",
      "Siente la vibración\n",
      "Son niños de las flores\n",
      "Es la revolución\n",
      "Verano del amor\n",
      "Y un cóctel molotov\n",
      "Verano del amor\n",
      "Y un cóctel molotov\n",
      "Ya suenan los tambores\n",
      "Siente la vibración\n",
      "Son niños de las flores\n",
      "Es la revolución\n",
      "Verano del amor\n",
      "Y un cóctel molotov\n",
      "Verano del amor\n",
      "Y un cóctel molotov\n",
      "Ya suenan los tambores\n",
      "Siente la vibración\n",
      "Son niños de las flores\n",
      "Es la revolución\n",
      "Verano del amor\n",
      "Y un cóctel molotov\n",
      "Verano del amor\n",
      "Y un cóctel molotov\n",
      "Ya suenan los tambores\n",
      "Siente la vibración\n",
      "Son niños de las flores\n",
      "Es la revolución\n",
      "Verano del amor\n",
      "Y un cóctel molotov\n",
      "Verano del amor\n",
      "Y un cóctel molotov\n"
     ]
    }
   ],
   "source": [
    "sin_espacios = texto.rstrip()\n",
    "print(sin_espacios)"
   ]
  },
  {
   "cell_type": "markdown",
   "metadata": {},
   "source": [
    "Vamos a ver cuales son las palabras más repetidas a lo largo del texto, para ello vamos a crear un diccionario que contenga como clave cada una de las palabras del texto y como valor el número de veces que aparece esa palabra en el texto."
   ]
  },
  {
   "cell_type": "code",
   "execution_count": 62,
   "metadata": {},
   "outputs": [
    {
     "ename": "IndexError",
     "evalue": "list index out of range",
     "output_type": "error",
     "traceback": [
      "\u001b[0;31m---------------------------------------------------------------------------\u001b[0m",
      "\u001b[0;31mIndexError\u001b[0m                                Traceback (most recent call last)",
      "Cell \u001b[0;32mIn[62], line 4\u001b[0m\n\u001b[1;32m      2\u001b[0m \u001b[38;5;28;01mfor\u001b[39;00m i \u001b[38;5;129;01min\u001b[39;00m sin_espacios\u001b[38;5;241m.\u001b[39msplitlines():\n\u001b[1;32m      3\u001b[0m     valores \u001b[38;5;241m=\u001b[39m i\u001b[38;5;241m.\u001b[39msplit(\u001b[38;5;124m'\u001b[39m\u001b[38;5;124m - \u001b[39m\u001b[38;5;124m'\u001b[39m,\u001b[38;5;241m1\u001b[39m)\n\u001b[0;32m----> 4\u001b[0m     diccionario[valores[\u001b[38;5;241m0\u001b[39m]\u001b[38;5;241m.\u001b[39mstrip()] \u001b[38;5;241m=\u001b[39m \u001b[43mvalores\u001b[49m\u001b[43m[\u001b[49m\u001b[38;5;241;43m1\u001b[39;49m\u001b[43m]\u001b[49m\u001b[38;5;241m.\u001b[39mstrip()\n\u001b[1;32m      5\u001b[0m \u001b[38;5;28;01mfor\u001b[39;00m k,v \u001b[38;5;129;01min\u001b[39;00m diccionario\u001b[38;5;241m.\u001b[39mitem():\n\u001b[1;32m      6\u001b[0m     \u001b[38;5;28mprint\u001b[39m(\u001b[38;5;124m'\u001b[39m\u001b[38;5;124mclave:\u001b[39m\u001b[38;5;124m'\u001b[39m,k,\u001b[38;5;124m'\u001b[39m\u001b[38;5;124mvalor:\u001b[39m\u001b[38;5;124m'\u001b[39m,v)\n",
      "\u001b[0;31mIndexError\u001b[0m: list index out of range"
     ]
    }
   ],
   "source": [
    "diccionario = {}\n",
    "for i in sin_espacios.splitlines():\n",
    "    valores = i.split(' - ',1)\n",
    "    diccionario[valores[0].strip()] = valores[1].strip()\n",
    "for k,v in diccionario.item():\n",
    "    print('clave:',k,'valor:',v)"
   ]
  },
  {
   "cell_type": "markdown",
   "metadata": {},
   "source": [
    "Ahora vamos a ordenar el diccionario por el número de apariciones de mayor a menor, tendremos que investigar un poco como hacerlo."
   ]
  },
  {
   "cell_type": "code",
   "execution_count": null,
   "metadata": {},
   "outputs": [],
   "source": [
    "#Tu código aquí"
   ]
  },
  {
   "cell_type": "markdown",
   "metadata": {},
   "source": [
    "Crea un nuevo diccionario llamado **top_repeticiones**, que contenga las 15 palabras más repetidas del texto."
   ]
  },
  {
   "cell_type": "code",
   "execution_count": null,
   "metadata": {},
   "outputs": [],
   "source": [
    "# Hay varias maneras de hacerlo, a ver que se os ocurre."
   ]
  },
  {
   "cell_type": "markdown",
   "metadata": {},
   "source": [
    "El resto de las palabras que no están en el top, las vamos a agrupar en un nuevo diccionario llamado **resto_repeticiones**"
   ]
  },
  {
   "cell_type": "code",
   "execution_count": null,
   "metadata": {},
   "outputs": [],
   "source": [
    "#Tu código aquí"
   ]
  },
  {
   "cell_type": "markdown",
   "metadata": {},
   "source": [
    "¿Podrías hacer un bucle que haga los dos pasos anteriores pero en una sola pasada?"
   ]
  },
  {
   "cell_type": "code",
   "execution_count": null,
   "metadata": {},
   "outputs": [],
   "source": [
    "#Tu código aquí"
   ]
  },
  {
   "cell_type": "markdown",
   "metadata": {},
   "source": [
    "### BONUS 😎😎😎 ***push your limits***"
   ]
  },
  {
   "cell_type": "markdown",
   "metadata": {},
   "source": [
    "Ahora quiero que crees un nuevo diccionario llamado **diccionario_infernal**, en este caso las claves serán las distintas longitudes de las palabras y los values serán tuplas donde el primer elemento sea una lista de palabras de esa longitud y el segundo elemento sea el número de palabras de esa longitud."
   ]
  },
  {
   "cell_type": "code",
   "execution_count": null,
   "metadata": {},
   "outputs": [],
   "source": [
    "#Tu código aquí"
   ]
  },
  {
   "cell_type": "markdown",
   "metadata": {},
   "source": [
    "Vamos a cargar de nuevo el texto completo del archivo texto.txt. El reto es que junteis todo el texto del fichero en una sola string que no tenga espacios , ni saltos de línea, ni signos de puntuación si los hubiera. Pero para que se pueda leer bien, vamos a comvertir todas las primeras letras de cada palabra en mayúsculas. ***Ej: \"hola, que tal?\" --> \"HolaQueTal\"*** 😈👿😈"
   ]
  },
  {
   "cell_type": "code",
   "execution_count": null,
   "metadata": {},
   "outputs": [],
   "source": [
    "#Tu código aquí"
   ]
  },
  {
   "cell_type": "code",
   "execution_count": null,
   "metadata": {},
   "outputs": [],
   "source": []
  },
  {
   "cell_type": "markdown",
   "metadata": {},
   "source": []
  }
 ],
 "metadata": {
  "kernelspec": {
   "display_name": "Python 3 (ipykernel)",
   "language": "python",
   "name": "python3"
  },
  "language_info": {
   "codemirror_mode": {
    "name": "ipython",
    "version": 3
   },
   "file_extension": ".py",
   "mimetype": "text/x-python",
   "name": "python",
   "nbconvert_exporter": "python",
   "pygments_lexer": "ipython3",
   "version": "3.11.2"
  }
 },
 "nbformat": 4,
 "nbformat_minor": 2
}
